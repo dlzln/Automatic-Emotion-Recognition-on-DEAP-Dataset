{
  "nbformat": 4,
  "nbformat_minor": 0,
  "metadata": {
    "colab": {
      "name": "2 level Ensemble of Light Pyramidal 1D CNN.ipynb",
      "provenance": [],
      "collapsed_sections": [],
      "include_colab_link": true
    },
    "kernelspec": {
      "name": "python3",
      "display_name": "Python 3"
    }
  },
  "cells": [
    {
      "cell_type": "markdown",
      "metadata": {
        "id": "view-in-github",
        "colab_type": "text"
      },
      "source": [
        "<a href=\"https://colab.research.google.com/github/vipulSharma18/Automatic-Emotion-Recognition-on-DEAP-Dataset/blob/main/models/2_level_Ensemble_of_Light_Pyramidal_1D_CNN.ipynb\" target=\"_parent\"><img src=\"https://colab.research.google.com/assets/colab-badge.svg\" alt=\"Open In Colab\"/></a>"
      ]
    },
    {
      "cell_type": "markdown",
      "metadata": {
        "id": "qOIKN397TkGK"
      },
      "source": [
        "# Add Google Drive"
      ]
    },
    {
      "cell_type": "code",
      "metadata": {
        "id": "jAkhHc84RFps",
        "colab": {
          "base_uri": "https://localhost:8080/"
        },
        "outputId": "004f525b-0fd0-4b1c-9f01-5ea1bcfa399f"
      },
      "source": [
        "from google.colab import drive\r\n",
        "drive.mount('/content/drive')"
      ],
      "execution_count": 1,
      "outputs": [
        {
          "output_type": "stream",
          "text": [
            "Mounted at /content/drive\n"
          ],
          "name": "stdout"
        }
      ]
    },
    {
      "cell_type": "markdown",
      "metadata": {
        "id": "sePFuqjSSzzW"
      },
      "source": [
        "# Importing Relevant Libraries"
      ]
    },
    {
      "cell_type": "code",
      "metadata": {
        "id": "XKto0bShTo8Q"
      },
      "source": [
        "import pandas as pd\r\n",
        "import tensorflow as tf\r\n",
        "import numpy as np\r\n",
        "import tensorflow.keras as keras\r\n",
        "from tensorflow.keras import Sequential\r\n",
        "from tensorflow.keras.layers import Conv1D\r\n",
        "from tensorflow.keras.layers import MaxPooling1D\r\n",
        "from tensorflow.keras.layers import Flatten\r\n",
        "from tensorflow.keras.layers import Dense\r\n",
        "from tensorflow.keras.layers import Dropout\r\n",
        "from tensorflow.keras.layers import BatchNormalization\r\n",
        "from tensorflow.keras.layers import Softmax\r\n",
        "from sklearn.metrics import classification_report\r\n",
        "from keras.utils.vis_utils import plot_model\r\n",
        "from sklearn.preprocessing import StandardScaler\r\n",
        "import matplotlib.pyplot as plt\r\n",
        "import pickle\r\n",
        "from scipy.stats import zscore\r\n",
        "from sklearn.model_selection import train_test_split\r\n",
        "from sklearn import preprocessing\r\n",
        "import gc\r\n",
        "from keras.callbacks import ReduceLROnPlateau\r\n",
        "from collections import Counter"
      ],
      "execution_count": 2,
      "outputs": []
    },
    {
      "cell_type": "code",
      "metadata": {
        "id": "s62df0ZsoV3v"
      },
      "source": [
        ""
      ],
      "execution_count": null,
      "outputs": []
    },
    {
      "cell_type": "markdown",
      "metadata": {
        "id": "1KwvTxntVWdO"
      },
      "source": [
        "# GPU Check"
      ]
    },
    {
      "cell_type": "code",
      "metadata": {
        "colab": {
          "base_uri": "https://localhost:8080/"
        },
        "id": "v_-_kIr3VPbW",
        "outputId": "7da26b5c-31b5-47b0-ba47-87ad1b4ec205"
      },
      "source": [
        "print(tf.version.VERSION)\r\n",
        "print(tf.config.experimental.list_physical_devices('GPU'))\r\n",
        "print(\"Num GPUs Available: \", len(tf.config.experimental.list_physical_devices('GPU')))"
      ],
      "execution_count": 3,
      "outputs": [
        {
          "output_type": "stream",
          "text": [
            "2.4.1\n",
            "[]\n",
            "Num GPUs Available:  0\n"
          ],
          "name": "stdout"
        }
      ]
    },
    {
      "cell_type": "markdown",
      "metadata": {
        "id": "RUGKR7rKALkc"
      },
      "source": [
        "# Data Augmentation"
      ]
    },
    {
      "cell_type": "markdown",
      "metadata": {
        "id": "Y-zRwIXuE1Dw"
      },
      "source": [
        "## Load Data from .dat files into a np array of 1280 x 32 x 8064 size"
      ]
    },
    {
      "cell_type": "code",
      "metadata": {
        "id": "IBrvJXFLVXfY"
      },
      "source": [
        "all_sub_data = []\r\n",
        "subjects_list = ['01', '02', '03', '04', '05', '06', '07', '08', '09', '10', '11', '12', '13', '14', '15', '16', '17', '18', '19', '20', '21', '22', '23', '24', '25', '26', '27', '28', '29', '30', '31', '32']\r\n",
        "for sub in subjects_list:\r\n",
        "    path = \"/content/drive/MyDrive/major project/data_preprocessed_python/s\"+sub+\".dat\"\r\n",
        "    x = pickle.load(open(path, 'rb'), encoding = 'latin1')\r\n",
        "    sub_data = x['data']\r\n",
        "    sub_eeg = sub_data[:, :32, :]  #indexing EEG signals from physiological data\r\n",
        "    all_sub_data.extend(sub_eeg)\r\n",
        "    gc.collect()\r\n",
        "gc.collect()\r\n",
        "all_sub_data = np.array(all_sub_data)"
      ],
      "execution_count": 4,
      "outputs": []
    },
    {
      "cell_type": "code",
      "metadata": {
        "colab": {
          "base_uri": "https://localhost:8080/"
        },
        "id": "tQDfrbarAEEM",
        "outputId": "e2792a83-8ba9-42bc-c7b8-ce8dcad3a1df"
      },
      "source": [
        "all_sub_data.shape"
      ],
      "execution_count": 5,
      "outputs": [
        {
          "output_type": "execute_result",
          "data": {
            "text/plain": [
              "(1280, 32, 8064)"
            ]
          },
          "metadata": {
            "tags": []
          },
          "execution_count": 5
        }
      ]
    },
    {
      "cell_type": "markdown",
      "metadata": {
        "id": "XZCzWyC3E0LE"
      },
      "source": [
        "## Z-score normalization of each EEG signal, resultant np.array is all_sub_data"
      ]
    },
    {
      "cell_type": "code",
      "metadata": {
        "id": "6k0v3c0CAa37",
        "colab": {
          "base_uri": "https://localhost:8080/"
        },
        "outputId": "a48b7bca-213d-4436-f39a-164de6a792d8"
      },
      "source": [
        "for sub in range(all_sub_data.shape[0]):\r\n",
        "  all_sub_data[sub] = zscore(all_sub_data[sub], axis = 1)  #zscore normalize each channel\r\n",
        "gc.collect()"
      ],
      "execution_count": 6,
      "outputs": [
        {
          "output_type": "execute_result",
          "data": {
            "text/plain": [
              "22"
            ]
          },
          "metadata": {
            "tags": []
          },
          "execution_count": 6
        }
      ]
    },
    {
      "cell_type": "markdown",
      "metadata": {
        "id": "y_iMln5YFpPm"
      },
      "source": [
        "## Label Loading into np array of 1280 x 1 named, sub_labels"
      ]
    },
    {
      "cell_type": "code",
      "metadata": {
        "colab": {
          "base_uri": "https://localhost:8080/"
        },
        "id": "gSkKkHMSExMw",
        "outputId": "a5b8b7a5-51f8-4cc8-cd50-cc41d825bb57"
      },
      "source": [
        "labels = pd.read_excel(\"/content/drive/MyDrive/major project/metadata/Labels.xls\")\r\n",
        "sub_labels = labels[\"Valence-Arousal Model Quadrant\"].astype('int')\r\n",
        "gc.collect()\r\n",
        "sub_labels\r\n"
      ],
      "execution_count": 7,
      "outputs": [
        {
          "output_type": "execute_result",
          "data": {
            "text/plain": [
              "0       3\n",
              "1       3\n",
              "2       3\n",
              "3       1\n",
              "4       2\n",
              "       ..\n",
              "1275    1\n",
              "1276    1\n",
              "1277    1\n",
              "1278    1\n",
              "1279    2\n",
              "Name: Valence-Arousal Model Quadrant, Length: 1280, dtype: int64"
            ]
          },
          "metadata": {
            "tags": []
          },
          "execution_count": 7
        }
      ]
    },
    {
      "cell_type": "code",
      "metadata": {
        "colab": {
          "base_uri": "https://localhost:8080/",
          "height": 282
        },
        "id": "Uzmz94HIBx6S",
        "outputId": "5d1ef0e6-b9a1-4151-dc32-944218ac8b9f"
      },
      "source": [
        "# Add frequency bar plot here for dataset label distribution\r\n",
        "c = Counter(sub_labels)\r\n",
        "print(c)\r\n",
        "plt.figure()\r\n",
        "plt.bar([0,1,2,3], [c[0], c[1], c[2], c[3]])\r\n",
        "plt.show()"
      ],
      "execution_count": 9,
      "outputs": [
        {
          "output_type": "stream",
          "text": [
            "Counter({3: 458, 1: 296, 2: 266, 0: 260})\n"
          ],
          "name": "stdout"
        },
        {
          "output_type": "display_data",
          "data": {
            "image/png": "[encoded data removed]",
            "text/plain": [
              "<Figure size 432x288 with 1 Axes>"
            ]
          },
          "metadata": {
            "tags": [],
            "needs_background": "light"
          }
        }
      ]
    },
    {
      "cell_type": "markdown",
      "metadata": {
        "id": "qW2H4bC0F8i1"
      },
      "source": [
        "## Label Binarization of multi-class labels  \r\n",
        "> sub_labels: (1280,4)"
      ]
    },
    {
      "cell_type": "code",
      "metadata": {
        "colab": {
          "base_uri": "https://localhost:8080/"
        },
        "id": "iS2wFxlQFtrh",
        "outputId": "7f9cdf96-7566-4036-f2bf-58d4470c2783"
      },
      "source": [
        "lb = preprocessing.LabelBinarizer()\r\n",
        "sub_labels = lb.fit_transform(sub_labels)\r\n",
        "print(lb.classes_)\r\n",
        "print(sub_labels.shape)\r\n",
        "print(sub_labels)"
      ],
      "execution_count": 10,
      "outputs": [
        {
          "output_type": "stream",
          "text": [
            "[0 1 2 3]\n",
            "(1280, 4)\n",
            "[[0 0 0 1]\n",
            " [0 0 0 1]\n",
            " [0 0 0 1]\n",
            " ...\n",
            " [0 1 0 0]\n",
            " [0 1 0 0]\n",
            " [0 0 1 0]]\n"
          ],
          "name": "stdout"
        }
      ]
    },
    {
      "cell_type": "code",
      "metadata": {
        "colab": {
          "base_uri": "https://localhost:8080/"
        },
        "id": "Zm3vZbEbGMmd",
        "outputId": "6f9fb151-18c1-4fd9-d6fa-4f57d4b4b9d9"
      },
      "source": [
        "sub_labels.shape"
      ],
      "execution_count": 11,
      "outputs": [
        {
          "output_type": "execute_result",
          "data": {
            "text/plain": [
              "(1280, 4)"
            ]
          },
          "metadata": {
            "tags": []
          },
          "execution_count": 11
        }
      ]
    },
    {
      "cell_type": "code",
      "metadata": {
        "id": "2BKGgYS1GOqz",
        "colab": {
          "base_uri": "https://localhost:8080/"
        },
        "outputId": "522271f7-4427-4888-e136-4222fece6e30"
      },
      "source": [
        "gc.collect()"
      ],
      "execution_count": 12,
      "outputs": [
        {
          "output_type": "execute_result",
          "data": {
            "text/plain": [
              "5238"
            ]
          },
          "metadata": {
            "tags": []
          },
          "execution_count": 12
        }
      ]
    },
    {
      "cell_type": "code",
      "metadata": {
        "colab": {
          "base_uri": "https://localhost:8080/"
        },
        "id": "cXpIgG-QGtUN",
        "outputId": "d5b34acc-1123-46a2-82b0-302d63151f82"
      },
      "source": [
        "np.unique(sub_labels, axis = 0)"
      ],
      "execution_count": 24,
      "outputs": [
        {
          "output_type": "execute_result",
          "data": {
            "text/plain": [
              "array([[0, 0, 0, 1],\n",
              "       [0, 0, 1, 0],\n",
              "       [0, 1, 0, 0],\n",
              "       [1, 0, 0, 0]])"
            ]
          },
          "metadata": {
            "tags": []
          },
          "execution_count": 24
        }
      ]
    },
    {
      "cell_type": "markdown",
      "metadata": {
        "id": "dMaxASVXGRtj"
      },
      "source": [
        "## Generating Train Test Splits,  \r\n",
        "> X_train, y_train: (1152,32,8064), (1152,4)  \r\n",
        "> X_test, y_test: (128,32,8064), (128,4)  "
      ]
    },
    {
      "cell_type": "code",
      "metadata": {
        "id": "5jLCp18rGVuh"
      },
      "source": [
        "X_train, X_test, y_train, y_test = train_test_split(all_sub_data, sub_labels, test_size = 0.1, random_state = 42,shuffle = True, stratify = sub_labels)\r\n",
        "#TO DO:\r\n",
        "#Check if class imbalance in the splits exists and is severe than the dataset\r\n",
        "#use stratify = y_labels to ensure same distribution as dataset"
      ],
      "execution_count": 25,
      "outputs": []
    },
    {
      "cell_type": "code",
      "metadata": {
        "colab": {
          "base_uri": "https://localhost:8080/"
        },
        "id": "Rzb207S6IimP",
        "outputId": "10432f70-ff13-48a2-dc2a-2b28e108b51a"
      },
      "source": [
        "X_train.shape, y_train.shape, X_test.shape, y_test.shape"
      ],
      "execution_count": 26,
      "outputs": [
        {
          "output_type": "execute_result",
          "data": {
            "text/plain": [
              "((1152, 32, 8064), (1152, 4), (128, 32, 8064), (128, 4))"
            ]
          },
          "metadata": {
            "tags": []
          },
          "execution_count": 26
        }
      ]
    },
    {
      "cell_type": "markdown",
      "metadata": {
        "id": "kmqVq6YKJkQo"
      },
      "source": [
        "## Verifying Frequency distribution of labels"
      ]
    },
    {
      "cell_type": "code",
      "metadata": {
        "colab": {
          "base_uri": "https://localhost:8080/",
          "height": 416
        },
        "id": "SvySXMdNEg0u",
        "outputId": "a300c345-1758-47e2-bb11-4b801544aa29"
      },
      "source": [
        "#Check frequency distribution of classes in training and testing splits\r\n",
        "# use LabelBinarizer.inverse_transform(y_train) to obtain labels in [0,1,2,3] \r\n",
        "print(\"labels in train\",np.unique(y_train, axis = 0))\r\n",
        "print(\"label in test\",np.unique(y_test, axis= 0))\r\n",
        "c_train = Counter(lb.inverse_transform(y_train))\r\n",
        "print(c_train)\r\n",
        "plt.figure()\r\n",
        "plt.bar([0,1,2,3], [c_train[0], c_train[1], c_train[2], c_train[3]])\r\n",
        "plt.show()\r\n"
      ],
      "execution_count": 27,
      "outputs": [
        {
          "output_type": "stream",
          "text": [
            "labels in train [[0 0 0 1]\n",
            " [0 0 1 0]\n",
            " [0 1 0 0]\n",
            " [1 0 0 0]]\n",
            "label in test [[0 0 0 1]\n",
            " [0 0 1 0]\n",
            " [0 1 0 0]\n",
            " [1 0 0 0]]\n",
            "Counter({3: 412, 1: 266, 2: 240, 0: 234})\n"
          ],
          "name": "stdout"
        },
        {
          "output_type": "display_data",
          "data": {
            "image/png": "[encoded data removed]",
            "text/plain": [
              "<Figure size 432x288 with 1 Axes>"
            ]
          },
          "metadata": {
            "tags": [],
            "needs_background": "light"
          }
        }
      ]
    },
    {
      "cell_type": "code",
      "metadata": {
        "colab": {
          "base_uri": "https://localhost:8080/",
          "height": 282
        },
        "id": "R6H8_hxzICa3",
        "outputId": "a9197ca6-0edd-4b7b-dbb5-b6c99ea0c280"
      },
      "source": [
        "\r\n",
        "c_test = Counter(lb.inverse_transform(y_test))\r\n",
        "print(c_test)\r\n",
        "plt.figure()\r\n",
        "plt.bar([0,1,2,3], [c_test[0], c_test[1], c_test[2], c_test[3]])\r\n",
        "plt.show()"
      ],
      "execution_count": 28,
      "outputs": [
        {
          "output_type": "stream",
          "text": [
            "Counter({3: 46, 1: 30, 2: 26, 0: 26})\n"
          ],
          "name": "stdout"
        },
        {
          "output_type": "display_data",
          "data": {
            "image/png": "[encoded data removed]",
            "text/plain": [
              "<Figure size 432x288 with 1 Axes>"
            ]
          },
          "metadata": {
            "tags": [],
            "needs_background": "light"
          }
        }
      ]
    },
    {
      "cell_type": "code",
      "metadata": {
        "colab": {
          "base_uri": "https://localhost:8080/"
        },
        "id": "kQE16truIaTH",
        "outputId": "95fdcf79-43d2-4ca1-a29d-f69c12fec2f0"
      },
      "source": [
        "for i in [0,1,2,3]:\r\n",
        "  print(c_train[i]/1152, c_test[i]/128, c[i]/1280, end = ' | ')\r\n",
        "print(\"\\nThe distribution of labels is maintained\")"
      ],
      "execution_count": 39,
      "outputs": [
        {
          "output_type": "stream",
          "text": [
            "0.203125 0.203125 0.203125 | 0.2309027777777778 0.234375 0.23125 | 0.20833333333333334 0.203125 0.2078125 | 0.3576388888888889 0.359375 0.3578125 | \n",
            "The distribution of labels is maintained\n"
          ],
          "name": "stdout"
        }
      ]
    },
    {
      "cell_type": "code",
      "metadata": {
        "id": "6306xrqyIoni",
        "colab": {
          "base_uri": "https://localhost:8080/"
        },
        "outputId": "580fdb2f-10fe-4352-ef82-c900139a5884"
      },
      "source": [
        "del(all_sub_data)\r\n",
        "del(sub_labels)\r\n",
        "del(labels)\r\n",
        "del(x)\r\n",
        "del(sub_data)\r\n",
        "del(sub_eeg)\r\n",
        "del(subjects_list)\r\n",
        "gc.collect()"
      ],
      "execution_count": 40,
      "outputs": [
        {
          "output_type": "execute_result",
          "data": {
            "text/plain": [
              "5785"
            ]
          },
          "metadata": {
            "tags": []
          },
          "execution_count": 40
        }
      ]
    },
    {
      "cell_type": "markdown",
      "metadata": {
        "id": "MbLBgzu2hLKh"
      },
      "source": [
        "## Repetition of Labels for Windowing of training data  \r\n",
        "\r\n",
        "> y_train_12, y_train_6, y_train_4 of shapes(?,4): 13824, 6912 and 4608 respectively \r\n"
      ]
    },
    {
      "cell_type": "code",
      "metadata": {
        "colab": {
          "base_uri": "https://localhost:8080/"
        },
        "id": "0kZRCXm-d0Oj",
        "outputId": "084ceed6-ed2b-44c8-9436-5b43829252d5"
      },
      "source": [
        "#12,6 and 4 subsignals are generated from 8064 length EEG signal, labels repeated accordingly\r\n",
        "y_train_12 = np.repeat(y_train, 12, axis = 0)\r\n",
        "y_train_6 = np.repeat(y_train, 6, axis = 0)\r\n",
        "y_train_4 = np.repeat(y_train, 4, axis = 0)\r\n",
        "del(y_train)\r\n",
        "gc.collect()\r\n",
        "print(y_train_12.shape, y_train_6.shape, y_train_4.shape)"
      ],
      "execution_count": 41,
      "outputs": [
        {
          "output_type": "stream",
          "text": [
            "(13824, 4) (6912, 4) (4608, 4)\n"
          ],
          "name": "stdout"
        }
      ]
    },
    {
      "cell_type": "code",
      "metadata": {
        "colab": {
          "base_uri": "https://localhost:8080/"
        },
        "id": "2o3-c92KKIEw",
        "outputId": "76c7f303-072b-4a7f-a1e7-8cdf7b36b962"
      },
      "source": [
        "if(input(\"Enter 'y' to focus on 12 windows:\") == 'y'):\r\n",
        "  try:\r\n",
        "    del y_train_6, y_train_4\r\n",
        "  except:\r\n",
        "    pass\r\n",
        "gc.collect()"
      ],
      "execution_count": 46,
      "outputs": [
        {
          "output_type": "stream",
          "text": [
            "Enter 'y' to focus on 12 windows:y\n"
          ],
          "name": "stdout"
        },
        {
          "output_type": "execute_result",
          "data": {
            "text/plain": [
              "259"
            ]
          },
          "metadata": {
            "tags": []
          },
          "execution_count": 46
        }
      ]
    },
    {
      "cell_type": "code",
      "metadata": {
        "colab": {
          "base_uri": "https://localhost:8080/",
          "height": 315
        },
        "id": "GDdFVVoHC2fm",
        "outputId": "b830313e-4c4c-4bd0-9d46-51e45d870e3a"
      },
      "source": [
        "#Frequency distribution of the repeated labels\r\n",
        "c_train_12 = Counter(lb.inverse_transform(y_train_12))\r\n",
        "print(c_train_12)\r\n",
        "for i in [0,1,2,3]:\r\n",
        "  print(c_train[i]/1152, c_train_12[i]/13824, c[i]/1280, end = ' | ')\r\n",
        "print(\"\\nThe distribution of labels is maintained\")\r\n",
        "plt.figure()\r\n",
        "plt.bar([0,1,2,3], [c_train_12[0], c_train_12[1], c_train_12[2], c_train_12[3]])\r\n",
        "plt.show()"
      ],
      "execution_count": 47,
      "outputs": [
        {
          "output_type": "stream",
          "text": [
            "Counter({3: 4944, 1: 3192, 2: 2880, 0: 2808})\n",
            "0.203125 0.203125 0.203125 | 0.2309027777777778 0.2309027777777778 0.23125 | 0.20833333333333334 0.20833333333333334 0.2078125 | 0.3576388888888889 0.3576388888888889 0.3578125 | \n",
            "The distribution of labels is maintained\n"
          ],
          "name": "stdout"
        },
        {
          "output_type": "display_data",
          "data": {
            "image/png": "[encoded data removed]",
            "text/plain": [
              "<Figure size 432x288 with 1 Axes>"
            ]
          },
          "metadata": {
            "tags": [],
            "needs_background": "light"
          }
        }
      ]
    },
    {
      "cell_type": "code",
      "metadata": {
        "colab": {
          "base_uri": "https://localhost:8080/"
        },
        "id": "90bC-ViKLIxC",
        "outputId": "d5276fd8-8df5-4f8e-9e10-c6e4c6997b86"
      },
      "source": [
        "try:\r\n",
        "  del c_train, c_test, c_train_12, c\r\n",
        "except:\r\n",
        "  pass\r\n",
        "gc.collect()"
      ],
      "execution_count": 49,
      "outputs": [
        {
          "output_type": "execute_result",
          "data": {
            "text/plain": [
              "3427"
            ]
          },
          "metadata": {
            "tags": []
          },
          "execution_count": 49
        }
      ]
    },
    {
      "cell_type": "markdown",
      "metadata": {
        "id": "IHs7gtIiCSzm"
      },
      "source": [
        "## Loading Training data with different window sizes"
      ]
    },
    {
      "cell_type": "code",
      "metadata": {
        "id": "_VrZ1ZprCpy8"
      },
      "source": [
        "channel_wise = np.transpose(X_train, (1,0,2))"
      ],
      "execution_count": 50,
      "outputs": []
    },
    {
      "cell_type": "code",
      "metadata": {
        "id": "IWq2RDpQCmm7"
      },
      "source": [
        "del(X_train)\r\n",
        "gc.collect()\r\n",
        "def process_input(instances, sub_signals):\r\n",
        "  #instances must be channel wise of shape (32, -1, 8064)\r\n",
        "  samples = int(8064/sub_signals)\r\n",
        "  transformed = []\r\n",
        "  for i in range(instances.shape[0]):\r\n",
        "    transformed.append(np.reshape(instances[i], (-1,samples,1)))\r\n",
        "  transformed = np.array(transformed)\r\n",
        "  print(transformed.shape, 'is the shape obtained.')\r\n",
        "  gc.collect()\r\n",
        "  return transformed"
      ],
      "execution_count": 51,
      "outputs": []
    },
    {
      "cell_type": "markdown",
      "metadata": {
        "id": "k8JkC-thgX70"
      },
      "source": [
        "### 12 sub signals of length 672 each, total 13824 instances"
      ]
    },
    {
      "cell_type": "code",
      "metadata": {
        "colab": {
          "base_uri": "https://localhost:8080/"
        },
        "id": "jAf6zyrW2QO9",
        "outputId": "7a6583e8-c79f-4609-ee8b-316f6e77ab19"
      },
      "source": [
        "#X_train_12 = np.load(\"/content/drive/MyDrive/major project/data_augmentation/channel_wise_12.npy\")\r\n",
        "#print(X_train_12.shape, 'Shape of Training Data')\r\n",
        "X_train_12 = process_input(channel_wise, 12)\r\n",
        "gc.collect()"
      ],
      "execution_count": 52,
      "outputs": [
        {
          "output_type": "stream",
          "text": [
            "(32, 13824, 672, 1) is the shape obtained.\n"
          ],
          "name": "stdout"
        },
        {
          "output_type": "execute_result",
          "data": {
            "text/plain": [
              "0"
            ]
          },
          "metadata": {
            "tags": []
          },
          "execution_count": 52
        }
      ]
    },
    {
      "cell_type": "markdown",
      "metadata": {
        "id": "pcQGE_1Cggo8"
      },
      "source": [
        "### 6 sub signals of length 1344 each, total 6912 instances"
      ]
    },
    {
      "cell_type": "code",
      "metadata": {
        "id": "XUCB6L7r3NCw"
      },
      "source": [
        "#X_train_6 = np.load(\"/content/drive/MyDrive/major project/data_augmentation/channel_wise_6.npy\")\r\n",
        "#print(X_train_6.shape, 'Shape of Training Data')\r\n",
        "#gc.collect()"
      ],
      "execution_count": null,
      "outputs": []
    },
    {
      "cell_type": "markdown",
      "metadata": {
        "id": "N5MiX9c3goCv"
      },
      "source": [
        "### 4 sub signals of length 2016 each, total 4608 instances"
      ]
    },
    {
      "cell_type": "code",
      "metadata": {
        "id": "KLdrXz4Re7yQ"
      },
      "source": [
        "#X_train_4 = np.load(\"/content/drive/MyDrive/major project/data_augmentation/channel_wise_4.npy\")\r\n",
        "#print(X_train_4.shape, 'Shape of Training Data')\r\n",
        "#gc.collect()"
      ],
      "execution_count": null,
      "outputs": []
    },
    {
      "cell_type": "code",
      "metadata": {
        "colab": {
          "base_uri": "https://localhost:8080/"
        },
        "id": "7dIg_b-_W7ZD",
        "outputId": "77a12dd1-a198-481f-ff1d-ea17bc7b2570"
      },
      "source": [
        "gc.collect()"
      ],
      "execution_count": null,
      "outputs": [
        {
          "output_type": "execute_result",
          "data": {
            "text/plain": [
              "0"
            ]
          },
          "metadata": {
            "tags": []
          },
          "execution_count": 19
        }
      ]
    },
    {
      "cell_type": "markdown",
      "metadata": {
        "id": "L9lcKzmxL-SB"
      },
      "source": [
        "Free Up ram"
      ]
    },
    {
      "cell_type": "code",
      "metadata": {
        "colab": {
          "base_uri": "https://localhost:8080/"
        },
        "id": "1a0RzGPOL6WY",
        "outputId": "7d5fc275-4274-4bd8-88ed-c7263933271e"
      },
      "source": [
        "del channel_wise\r\n",
        "gc.collect()"
      ],
      "execution_count": 55,
      "outputs": [
        {
          "output_type": "execute_result",
          "data": {
            "text/plain": [
              "327"
            ]
          },
          "metadata": {
            "tags": []
          },
          "execution_count": 55
        }
      ]
    },
    {
      "cell_type": "markdown",
      "metadata": {
        "id": "r4lu2licKkgB"
      },
      "source": [
        "# Lightweight Pyramidal 1D CNN model"
      ]
    },
    {
      "cell_type": "code",
      "metadata": {
        "id": "puI2iRNDKpaW"
      },
      "source": [
        "def create_models(dense_par=20, sub_signals=12):\r\n",
        "  sample_size = int(8064/sub_signals)\r\n",
        "  models = [0]*32\r\n",
        "  for i in range(32):\r\n",
        "    models[i] = Sequential()\r\n",
        "    #block 1\r\n",
        "    models[i].add(Conv1D(filters=32, kernel_size=5,strides = 3, input_shape=(sample_size, 1)))\r\n",
        "    models[i].add(BatchNormalization())\r\n",
        "    models[i].add(tf.keras.layers.Activation('relu'))\r\n",
        "    \r\n",
        "    #block 2\r\n",
        "    models[i].add(Conv1D(filters=24, kernel_size=3,strides = 2))\r\n",
        "    models[i].add(BatchNormalization())\r\n",
        "    models[i].add(tf.keras.layers.Activation('relu'))\r\n",
        "    \r\n",
        "    #block 3\r\n",
        "    models[i].add(Conv1D(filters=16, kernel_size=3,strides = 2))\r\n",
        "    models[i].add(BatchNormalization())\r\n",
        "    models[i].add(tf.keras.layers.Activation('relu'))\r\n",
        "    \r\n",
        "    #block 4\r\n",
        "    models[i].add(Conv1D(filters=8, kernel_size=3,strides = 2))\r\n",
        "    models[i].add(BatchNormalization())\r\n",
        "    models[i].add(tf.keras.layers.Activation('relu'))\r\n",
        "    \r\n",
        "    #fc-1\r\n",
        "    models[i].add(Flatten())\r\n",
        "    models[i].add(Dense(dense_par, activation='relu'))\r\n",
        "    \r\n",
        "    #dropout\r\n",
        "    models[i].add(Dropout(rate = 0.5))\r\n",
        "    \r\n",
        "    #fc2 and softmax\r\n",
        "    models[i].add(Dense(4, activation = 'softmax'))\r\n",
        "    \r\n",
        "    models[i].compile(optimizer= tf.keras.optimizers.Adam(learning_rate=0.01) , loss = tf.keras.losses.CategoricalCrossentropy(), metrics= 'accuracy')\r\n",
        "  print(\"All models defined.\")\r\n",
        "  return models"
      ],
      "execution_count": 68,
      "outputs": []
    },
    {
      "cell_type": "code",
      "metadata": {
        "id": "0dfAn7kZrqJ5"
      },
      "source": [
        "def plot_evaluation_curves(history, EPOCHS):\r\n",
        "  acc = history.history['accuracy']\r\n",
        "  val_acc = history.history['val_accuracy']\r\n",
        "\r\n",
        "  loss = history.history['loss']\r\n",
        "  val_loss = history.history['val_loss']\r\n",
        "\r\n",
        "  epochs_range = range(EPOCHS)\r\n",
        "\r\n",
        "  plt.figure(figsize=(10, 6))\r\n",
        "  plt.subplot(1, 2, 1)\r\n",
        "  plt.plot(epochs_range, acc, label='Training Accuracy')\r\n",
        "  plt.plot(epochs_range, val_acc, label='Validation Accuracy')\r\n",
        "  plt.legend(loc='lower right')\r\n",
        "  plt.title('Training and Validation Accuracy')\r\n",
        "\r\n",
        "  plt.subplot(1, 2, 2)\r\n",
        "  plt.plot(epochs_range, loss, label='Training Loss')\r\n",
        "  plt.plot(epochs_range, val_loss, label='Validation Loss')\r\n",
        "  plt.legend(loc='upper right')\r\n",
        "  plt.title('Training and Validation Loss')\r\n",
        "  plt.show()"
      ],
      "execution_count": 57,
      "outputs": []
    },
    {
      "cell_type": "code",
      "metadata": {
        "colab": {
          "base_uri": "https://localhost:8080/"
        },
        "id": "WH3xTl2w4E_c",
        "outputId": "14f7e4b2-ceca-4f33-ba07-a8d9faca2686"
      },
      "source": [
        "gc.collect()"
      ],
      "execution_count": 58,
      "outputs": [
        {
          "output_type": "execute_result",
          "data": {
            "text/plain": [
              "0"
            ]
          },
          "metadata": {
            "tags": []
          },
          "execution_count": 58
        }
      ]
    },
    {
      "cell_type": "markdown",
      "metadata": {
        "id": "1wsBgSi2DXIE"
      },
      "source": [
        "## Training using 12 sub_signals per EEG signal"
      ]
    },
    {
      "cell_type": "code",
      "metadata": {
        "colab": {
          "base_uri": "https://localhost:8080/"
        },
        "id": "7sS_tgbvu3uO",
        "outputId": "67a779f0-7e54-4a8e-eb22-8bb7f27e5577"
      },
      "source": [
        "# Fresh Start to training with freeing up of RAM\r\n",
        "try:\r\n",
        "  del models\r\n",
        "  del history\r\n",
        "except:\r\n",
        "  print(\"Variables already freed\")\r\n",
        "gc.collect()"
      ],
      "execution_count": 74,
      "outputs": [
        {
          "output_type": "execute_result",
          "data": {
            "text/plain": [
              "79807"
            ]
          },
          "metadata": {
            "tags": []
          },
          "execution_count": 74
        }
      ]
    },
    {
      "cell_type": "code",
      "metadata": {
        "id": "4D6ezqeFDmPF",
        "colab": {
          "base_uri": "https://localhost:8080/",
          "height": 794
        },
        "outputId": "a0708b66-856e-4037-8d57-4fe383480368"
      },
      "source": [
        "models = create_models(dense_par=20, sub_signals = 12)\r\n",
        "history = [0]*32\r\n",
        "#learning_rate_reduction=ReduceLROnPlateau(monitor='val_accuracy', patience=3, verbose=0, factor=0.5, min_lr=0.00001)\r\n",
        "epochs = 10\r\n",
        "#range will be 32 in actual code\r\n",
        "for j in range(1):\r\n",
        "  print(f'Individual Net : {j+1}')   \r\n",
        "  history[j] = models[j].fit(X_train_12[j], y_train_12,batch_size = 100, epochs = epochs, validation_split=0.1 )\r\n",
        "  print(\"CNN Model {0:d}: Epochs={1:d}, Training accuracy={2:.5f}, Validation accuracy={3:.5f}\".\\\r\n",
        "        format(j+1,epochs,max(history[j].history['accuracy']),max(history[j].history['val_accuracy']) ))\r\n",
        "  plot_evaluation_curves(history[j], epochs)\r\n",
        "  gc.collect()\r\n",
        "gc.collect()\r\n"
      ],
      "execution_count": 75,
      "outputs": [
        {
          "output_type": "stream",
          "text": [
            "All models defined.\n",
            "Individual Net : 1\n",
            "Epoch 1/10\n",
            "125/125 [==============================] - 12s 84ms/step - loss: 1.3966 - accuracy: 0.3490 - val_loss: 1.3686 - val_accuracy: 0.3297\n",
            "Epoch 2/10\n",
            "125/125 [==============================] - 11s 84ms/step - loss: 1.3553 - accuracy: 0.3625 - val_loss: 1.3653 - val_accuracy: 0.3297\n",
            "Epoch 3/10\n",
            "125/125 [==============================] - 11s 85ms/step - loss: 1.3533 - accuracy: 0.3654 - val_loss: 1.3674 - val_accuracy: 0.3297\n",
            "Epoch 4/10\n",
            "125/125 [==============================] - 11s 85ms/step - loss: 1.3569 - accuracy: 0.3582 - val_loss: 1.3752 - val_accuracy: 0.3297\n",
            "Epoch 5/10\n",
            "125/125 [==============================] - 11s 85ms/step - loss: 1.3593 - accuracy: 0.3566 - val_loss: 1.3672 - val_accuracy: 0.3297\n",
            "Epoch 6/10\n",
            "125/125 [==============================] - 11s 87ms/step - loss: 1.3585 - accuracy: 0.3556 - val_loss: 1.3712 - val_accuracy: 0.3297\n",
            "Epoch 7/10\n",
            "125/125 [==============================] - 11s 85ms/step - loss: 1.3530 - accuracy: 0.3667 - val_loss: 1.3695 - val_accuracy: 0.3297\n",
            "Epoch 8/10\n",
            "125/125 [==============================] - 11s 84ms/step - loss: 1.3480 - accuracy: 0.3738 - val_loss: 1.3613 - val_accuracy: 0.3319\n",
            "Epoch 9/10\n",
            "125/125 [==============================] - 10s 83ms/step - loss: 1.3582 - accuracy: 0.3561 - val_loss: 1.3698 - val_accuracy: 0.3297\n",
            "Epoch 10/10\n",
            "125/125 [==============================] - 10s 84ms/step - loss: 1.3579 - accuracy: 0.3574 - val_loss: 1.3683 - val_accuracy: 0.3297\n",
            "CNN Model 1: Epochs=10, Training accuracy=0.36090, Validation accuracy=0.33189\n"
          ],
          "name": "stdout"
        },
        {
          "output_type": "display_data",
          "data": {
            "image/png": "[encoded data removed]",
            "text/plain": [
              "<Figure size 720x432 with 2 Axes>"
            ]
          },
          "metadata": {
            "tags": [],
            "needs_background": "light"
          }
        },
        {
          "output_type": "execute_result",
          "data": {
            "text/plain": [
              "0"
            ]
          },
          "metadata": {
            "tags": []
          },
          "execution_count": 75
        }
      ]
    },
    {
      "cell_type": "markdown",
      "metadata": {
        "id": "HcgN8lB-Tjzc"
      },
      "source": [
        "### Checking the distribution of predicted labels to check if majority class voting being done or Model is actually learning\r\n"
      ]
    },
    {
      "cell_type": "code",
      "metadata": {
        "colab": {
          "base_uri": "https://localhost:8080/"
        },
        "id": "B_kGA1KkTiZs",
        "outputId": "896ce068-0e98-4601-8a66-d968c4aa5c1a"
      },
      "source": [
        "pred_y_train = models[0].predict(X_train_12[0])\r\n",
        "c_pred = Counter(lb.inverse_transform(pred_y_train))\r\n",
        "print(c_pred)\r\n",
        "print(\"Only 3 is predicted from the model!\")"
      ],
      "execution_count": 78,
      "outputs": [
        {
          "output_type": "stream",
          "text": [
            "Counter({3: 13824})\n",
            "Only 3 is predicted from the model!\n"
          ],
          "name": "stdout"
        }
      ]
    },
    {
      "cell_type": "markdown",
      "metadata": {
        "id": "Tj3M5HbaRn-x"
      },
      "source": [
        "## Problem of Class imbalance:  \r\n",
        "The model is biased towards a class due to class imbalance and is not fitting the data. The class {3} is majority class with around 35% samples in train, test and original dataset\r\n",
        "due to stratified sampling. The model accuracy is also around 35% which clearly indicated majority voting is being done and no learning.\r\n",
        "\r\n",
        "Solutions:\r\n",
        "> Use class weighing in model.fit  \r\n",
        "> undersampling  \r\n",
        "> oversampling  \r\n",
        "\r\n",
        "Different metrics are of no use because majority voting is being done, no use of evaluating such scheme with different metrics, need to learn from data"
      ]
    },
    {
      "cell_type": "markdown",
      "metadata": {
        "id": "hDYiz9Gshkih"
      },
      "source": [
        "## Preprocessing for passing test data into CNN"
      ]
    },
    {
      "cell_type": "code",
      "metadata": {
        "id": "El4sFpkcyh24"
      },
      "source": [
        "def process_input_ensemble(instances, sub_signals):\r\n",
        "  #instances must be channel wise of shape (-1, 32, 8064)\r\n",
        "  gc.collect()\r\n",
        "  samples = int(8064/sub_signals)\r\n",
        "  transformed = []\r\n",
        "  for i in range(instances.shape[0]):\r\n",
        "    transformed.append(np.reshape(instances[i], (-1,sub_signals,samples,1)))\r\n",
        "    gc.collect()\r\n",
        "  transformed = np.array(transformed)\r\n",
        "  print(transformed.shape, 'is the shape obtained.')\r\n",
        "  gc.collect()\r\n",
        "  #output shape will be (len(intances), 32, sub_signals, samples, 1)\r\n",
        "  return transformed"
      ],
      "execution_count": null,
      "outputs": []
    },
    {
      "cell_type": "markdown",
      "metadata": {
        "id": "D_aoIKbpK1xY"
      },
      "source": [
        "## Testing Algorithm:"
      ]
    },
    {
      "cell_type": "code",
      "metadata": {
        "id": "XVqmg5fVK4cA"
      },
      "source": [
        "#loop over test instances i.e. 128\r\n",
        "  #loop over 32 channels i.e. 1 model for each channel\r\n",
        "    #for each channel, pass the shape (sub_singals,samples,1) to M(i), here sub_signals will be the batch_size\r\n",
        "    #get all predictions for a single channel's all samples, take their mode. This is the prediction for that channel\r\n",
        "    #store all the channels' predicitions in an array\r\n",
        "  #take mode for all channels' predictions from array, this is the predicted value for that instance"
      ],
      "execution_count": null,
      "outputs": []
    },
    {
      "cell_type": "code",
      "metadata": {
        "id": "Wu2211LFLhx8"
      },
      "source": [
        ""
      ],
      "execution_count": null,
      "outputs": []
    }
  ]
}