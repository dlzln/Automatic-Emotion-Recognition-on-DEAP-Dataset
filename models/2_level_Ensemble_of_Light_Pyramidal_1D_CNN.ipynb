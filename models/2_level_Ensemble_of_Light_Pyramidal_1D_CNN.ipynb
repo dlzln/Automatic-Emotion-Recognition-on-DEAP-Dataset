{
  "nbformat": 4,
  "nbformat_minor": 0,
  "metadata": {
    "colab": {
      "name": "2 level Ensemble of Light Pyramidal 1D CNN.ipynb",
      "provenance": [],
      "collapsed_sections": [
        "qOIKN397TkGK",
        "sePFuqjSSzzW",
        "1KwvTxntVWdO",
        "Y-zRwIXuE1Dw",
        "XZCzWyC3E0LE",
        "y_iMln5YFpPm",
        "qW2H4bC0F8i1",
        "dMaxASVXGRtj",
        "kmqVq6YKJkQo",
        "MbLBgzu2hLKh",
        "IHs7gtIiCSzm",
        "k8JkC-thgX70",
        "pcQGE_1Cggo8",
        "N5MiX9c3goCv",
        "55wVi_i3sOva",
        "HcgN8lB-Tjzc",
        "GvXQoUI55mJp",
        "Tj3M5HbaRn-x",
        "hDYiz9Gshkih",
        "D_aoIKbpK1xY"
      ],
      "include_colab_link": true
    },
    "kernelspec": {
      "name": "python3",
      "display_name": "Python 3"
    }
  },
  "cells": [
    {
      "cell_type": "markdown",
      "metadata": {
        "id": "view-in-github",
        "colab_type": "text"
      },
      "source": [
        "<a href=\"https://colab.research.google.com/github/vipulSharma18/Automatic-Emotion-Recognition-on-DEAP-Dataset/blob/main/models/2_level_Ensemble_of_Light_Pyramidal_1D_CNN.ipynb\" target=\"_parent\"><img src=\"https://colab.research.google.com/assets/colab-badge.svg\" alt=\"Open In Colab\"/></a>"
      ]
    },
    {
      "cell_type": "markdown",
      "metadata": {
        "id": "qOIKN397TkGK"
      },
      "source": [
        "# Add Google Drive"
      ]
    },
    {
      "cell_type": "code",
      "metadata": {
        "id": "jAkhHc84RFps",
        "colab": {
          "base_uri": "https://localhost:8080/"
        },
        "outputId": "6f2afd2e-b07e-4e9f-b11b-d40c9e7a534f"
      },
      "source": [
        "from google.colab import drive\r\n",
        "drive.mount('/content/drive')"
      ],
      "execution_count": null,
      "outputs": [
        {
          "output_type": "stream",
          "text": [
            "Mounted at /content/drive\n"
          ],
          "name": "stdout"
        }
      ]
    },
    {
      "cell_type": "markdown",
      "metadata": {
        "id": "sePFuqjSSzzW"
      },
      "source": [
        "# Importing Relevant Libraries"
      ]
    },
    {
      "cell_type": "code",
      "metadata": {
        "id": "XKto0bShTo8Q"
      },
      "source": [
        "import pandas as pd\r\n",
        "import tensorflow as tf\r\n",
        "import numpy as np\r\n",
        "import tensorflow.keras as keras\r\n",
        "from tensorflow.keras import Sequential\r\n",
        "from tensorflow.keras.layers import Conv1D\r\n",
        "from tensorflow.keras.layers import MaxPooling1D\r\n",
        "from tensorflow.keras.layers import Flatten\r\n",
        "from tensorflow.keras.layers import Dense\r\n",
        "from tensorflow.keras.layers import Dropout\r\n",
        "from tensorflow.keras.layers import BatchNormalization\r\n",
        "from tensorflow.keras.layers import Softmax\r\n",
        "from sklearn.metrics import classification_report\r\n",
        "from keras.utils.vis_utils import plot_model\r\n",
        "from sklearn.preprocessing import StandardScaler\r\n",
        "import matplotlib.pyplot as plt\r\n",
        "import pickle\r\n",
        "from scipy.stats import zscore\r\n",
        "from sklearn.model_selection import train_test_split\r\n",
        "from sklearn import preprocessing\r\n",
        "import gc\r\n",
        "from keras.callbacks import ReduceLROnPlateau\r\n",
        "from collections import Counter\r\n",
        "import seaborn as sns\r\n",
        "from sklearn.metrics import confusion_matrix"
      ],
      "execution_count": null,
      "outputs": []
    },
    {
      "cell_type": "code",
      "metadata": {
        "id": "K99-9l0UZ2vG"
      },
      "source": [
        "RANDOM_SEED = 42\r\n",
        "tf.random.set_seed(RANDOM_SEED)\r\n",
        "np.random.seed(RANDOM_SEED)"
      ],
      "execution_count": null,
      "outputs": []
    },
    {
      "cell_type": "markdown",
      "metadata": {
        "id": "1KwvTxntVWdO"
      },
      "source": [
        "# GPU Check"
      ]
    },
    {
      "cell_type": "code",
      "metadata": {
        "colab": {
          "base_uri": "https://localhost:8080/",
          "height": 195
        },
        "id": "v_-_kIr3VPbW",
        "outputId": "9acca9ff-fc15-4886-c0ce-f1e0026c6d26"
      },
      "source": [
        "print(tf.version.VERSION)\r\n",
        "print(tf.config.experimental.list_physical_devices('GPU'))\r\n",
        "print(\"Num GPUs Available: \", len(tf.config.experimental.list_physical_devices('GPU')))"
      ],
      "execution_count": null,
      "outputs": [
        {
          "output_type": "error",
          "ename": "NameError",
          "evalue": "ignored",
          "traceback": [
            "\u001b[0;31m---------------------------------------------------------------------------\u001b[0m",
            "\u001b[0;31mNameError\u001b[0m                                 Traceback (most recent call last)",
            "\u001b[0;32m<ipython-input-1-c4c6b0a98728>\u001b[0m in \u001b[0;36m<module>\u001b[0;34m()\u001b[0m\n\u001b[0;32m----> 1\u001b[0;31m \u001b[0mprint\u001b[0m\u001b[0;34m(\u001b[0m\u001b[0mtf\u001b[0m\u001b[0;34m.\u001b[0m\u001b[0mversion\u001b[0m\u001b[0;34m.\u001b[0m\u001b[0mVERSION\u001b[0m\u001b[0;34m)\u001b[0m\u001b[0;34m\u001b[0m\u001b[0;34m\u001b[0m\u001b[0m\n\u001b[0m\u001b[1;32m      2\u001b[0m \u001b[0mprint\u001b[0m\u001b[0;34m(\u001b[0m\u001b[0mtf\u001b[0m\u001b[0;34m.\u001b[0m\u001b[0mconfig\u001b[0m\u001b[0;34m.\u001b[0m\u001b[0mexperimental\u001b[0m\u001b[0;34m.\u001b[0m\u001b[0mlist_physical_devices\u001b[0m\u001b[0;34m(\u001b[0m\u001b[0;34m'GPU'\u001b[0m\u001b[0;34m)\u001b[0m\u001b[0;34m)\u001b[0m\u001b[0;34m\u001b[0m\u001b[0;34m\u001b[0m\u001b[0m\n\u001b[1;32m      3\u001b[0m \u001b[0mprint\u001b[0m\u001b[0;34m(\u001b[0m\u001b[0;34m\"Num GPUs Available: \"\u001b[0m\u001b[0;34m,\u001b[0m \u001b[0mlen\u001b[0m\u001b[0;34m(\u001b[0m\u001b[0mtf\u001b[0m\u001b[0;34m.\u001b[0m\u001b[0mconfig\u001b[0m\u001b[0;34m.\u001b[0m\u001b[0mexperimental\u001b[0m\u001b[0;34m.\u001b[0m\u001b[0mlist_physical_devices\u001b[0m\u001b[0;34m(\u001b[0m\u001b[0;34m'GPU'\u001b[0m\u001b[0;34m)\u001b[0m\u001b[0;34m)\u001b[0m\u001b[0;34m)\u001b[0m\u001b[0;34m\u001b[0m\u001b[0;34m\u001b[0m\u001b[0m\n",
            "\u001b[0;31mNameError\u001b[0m: name 'tf' is not defined"
          ]
        }
      ]
    },
    {
      "cell_type": "markdown",
      "metadata": {
        "id": "RUGKR7rKALkc"
      },
      "source": [
        "# Data Augmentation"
      ]
    },
    {
      "cell_type": "markdown",
      "metadata": {
        "id": "Y-zRwIXuE1Dw"
      },
      "source": [
        "## Load Data from .dat files into a np array of 1280 x 32 x 8064 size"
      ]
    },
    {
      "cell_type": "code",
      "metadata": {
        "id": "IBrvJXFLVXfY"
      },
      "source": [
        "all_sub_data = []\r\n",
        "subjects_list = ['01', '02', '03', '04', '05', '06', '07', '08', '09', '10', '11', '12', '13', '14', '15', '16', '17', '18', '19', '20', '21', '22', '23', '24', '25', '26', '27', '28', '29', '30', '31', '32']\r\n",
        "for sub in subjects_list:\r\n",
        "    path = \"/content/drive/MyDrive/major project/data_preprocessed_python/s\"+sub+\".dat\"\r\n",
        "    x = pickle.load(open(path, 'rb'), encoding = 'latin1')\r\n",
        "    sub_data = x['data']\r\n",
        "    sub_eeg = sub_data[:, :32, :]  #indexing EEG signals from physiological data\r\n",
        "    all_sub_data.extend(sub_eeg)\r\n",
        "    gc.collect()\r\n",
        "gc.collect()\r\n",
        "all_sub_data = np.array(all_sub_data)"
      ],
      "execution_count": null,
      "outputs": []
    },
    {
      "cell_type": "code",
      "metadata": {
        "colab": {
          "base_uri": "https://localhost:8080/"
        },
        "id": "tQDfrbarAEEM",
        "outputId": "a045d1ce-44dc-45e7-8521-fcfe0ab3fcf6"
      },
      "source": [
        "all_sub_data.shape"
      ],
      "execution_count": null,
      "outputs": [
        {
          "output_type": "execute_result",
          "data": {
            "text/plain": [
              "(1280, 32, 8064)"
            ]
          },
          "metadata": {
            "tags": []
          },
          "execution_count": 5
        }
      ]
    },
    {
      "cell_type": "markdown",
      "metadata": {
        "id": "XZCzWyC3E0LE"
      },
      "source": [
        "## Z-score normalization of each EEG signal, resultant np.array is all_sub_data"
      ]
    },
    {
      "cell_type": "code",
      "metadata": {
        "id": "6k0v3c0CAa37",
        "colab": {
          "base_uri": "https://localhost:8080/"
        },
        "outputId": "ac8e1546-1290-456b-9e67-df419d11d5b6"
      },
      "source": [
        "for sub in range(all_sub_data.shape[0]):\r\n",
        "  all_sub_data[sub] = zscore(all_sub_data[sub], axis = 1)  #zscore normalize each channel\r\n",
        "gc.collect()"
      ],
      "execution_count": null,
      "outputs": [
        {
          "output_type": "execute_result",
          "data": {
            "text/plain": [
              "22"
            ]
          },
          "metadata": {
            "tags": []
          },
          "execution_count": 6
        }
      ]
    },
    {
      "cell_type": "markdown",
      "metadata": {
        "id": "y_iMln5YFpPm"
      },
      "source": [
        "## Label Loading into np array of 1280 x 1 named, sub_labels"
      ]
    },
    {
      "cell_type": "code",
      "metadata": {
        "colab": {
          "base_uri": "https://localhost:8080/"
        },
        "id": "gSkKkHMSExMw",
        "outputId": "251c1df8-dbdd-4b0a-d5a6-73a99712e163"
      },
      "source": [
        "labels = pd.read_excel(\"/content/drive/MyDrive/major project/metadata/Labels.xls\")\r\n",
        "#for multiclass classification \r\n",
        "#sub_labels = labels[\"Valence-Arousal Model Quadrant\"].astype('int')\r\n",
        "#for binary classification of valence scale\r\n",
        "sub_labels = labels[\"Valence Label (1=H, 0=L)\"].astype('int')\r\n",
        "gc.collect()\r\n",
        "sub_labels\r\n"
      ],
      "execution_count": null,
      "outputs": [
        {
          "output_type": "execute_result",
          "data": {
            "text/plain": [
              "0       1\n",
              "1       1\n",
              "2       1\n",
              "3       0\n",
              "4       1\n",
              "       ..\n",
              "1275    0\n",
              "1276    0\n",
              "1277    0\n",
              "1278    0\n",
              "1279    1\n",
              "Name: Valence Label (1=H, 0=L), Length: 1280, dtype: int64"
            ]
          },
          "metadata": {
            "tags": []
          },
          "execution_count": 7
        }
      ]
    },
    {
      "cell_type": "code",
      "metadata": {
        "colab": {
          "base_uri": "https://localhost:8080/",
          "height": 282
        },
        "id": "Uzmz94HIBx6S",
        "outputId": "62d9a6fc-2a5f-46ad-adc3-cfb2d0283cc3"
      },
      "source": [
        "#SKIP FOR BINARY CLASSIFICATION\r\n",
        "# Add frequency bar plot here for dataset label distribution\r\n",
        "c = Counter(sub_labels)\r\n",
        "print(c)\r\n",
        "plt.figure()\r\n",
        "plt.bar([0,1,2,3], [c[0], c[1], c[2], c[3]])\r\n",
        "plt.show()"
      ],
      "execution_count": null,
      "outputs": [
        {
          "output_type": "stream",
          "text": [
            "Counter({3: 458, 1: 296, 2: 266, 0: 260})\n"
          ],
          "name": "stdout"
        },
        {
          "output_type": "display_data",
          "data": {
            "image/png": "[encoded data removed]",
            "text/plain": [
              "<Figure size 432x288 with 1 Axes>"
            ]
          },
          "metadata": {
            "tags": [],
            "needs_background": "light"
          }
        }
      ]
    },
    {
      "cell_type": "markdown",
      "metadata": {
        "id": "qW2H4bC0F8i1"
      },
      "source": [
        "## Label Binarization of multi-class labels  \r\n",
        "> sub_labels: (1280,4)"
      ]
    },
    {
      "cell_type": "code",
      "metadata": {
        "colab": {
          "base_uri": "https://localhost:8080/"
        },
        "id": "iS2wFxlQFtrh",
        "outputId": "4db3deca-bd32-434d-8e2e-e2569e756280"
      },
      "source": [
        "lb = preprocessing.LabelBinarizer()\r\n",
        "sub_labels = lb.fit_transform(sub_labels)\r\n",
        "print(lb.classes_)\r\n",
        "print(sub_labels.shape)\r\n",
        "print(sub_labels)"
      ],
      "execution_count": null,
      "outputs": [
        {
          "output_type": "stream",
          "text": [
            "[0 1]\n",
            "(1280, 1)\n",
            "[[1]\n",
            " [1]\n",
            " [1]\n",
            " ...\n",
            " [0]\n",
            " [0]\n",
            " [1]]\n"
          ],
          "name": "stdout"
        }
      ]
    },
    {
      "cell_type": "code",
      "metadata": {
        "colab": {
          "base_uri": "https://localhost:8080/"
        },
        "id": "Zm3vZbEbGMmd",
        "outputId": "1eb9ad80-7a2b-435a-d5d0-5998965b3188"
      },
      "source": [
        "sub_labels.shape"
      ],
      "execution_count": null,
      "outputs": [
        {
          "output_type": "execute_result",
          "data": {
            "text/plain": [
              "(1280,)"
            ]
          },
          "metadata": {
            "tags": []
          },
          "execution_count": 10
        }
      ]
    },
    {
      "cell_type": "code",
      "metadata": {
        "id": "2BKGgYS1GOqz",
        "colab": {
          "base_uri": "https://localhost:8080/"
        },
        "outputId": "aff8ca95-9b4b-4530-f393-426db8ab6c93"
      },
      "source": [
        "gc.collect()"
      ],
      "execution_count": null,
      "outputs": [
        {
          "output_type": "execute_result",
          "data": {
            "text/plain": [
              "0"
            ]
          },
          "metadata": {
            "tags": []
          },
          "execution_count": 8
        }
      ]
    },
    {
      "cell_type": "code",
      "metadata": {
        "colab": {
          "base_uri": "https://localhost:8080/"
        },
        "id": "cXpIgG-QGtUN",
        "outputId": "fb971366-6169-45a2-8ec3-186eafe984aa"
      },
      "source": [
        "np.unique(sub_labels, axis = 0)"
      ],
      "execution_count": null,
      "outputs": [
        {
          "output_type": "execute_result",
          "data": {
            "text/plain": [
              "array([0, 1])"
            ]
          },
          "metadata": {
            "tags": []
          },
          "execution_count": 12
        }
      ]
    },
    {
      "cell_type": "markdown",
      "metadata": {
        "id": "nvc1s7V6u7KM"
      },
      "source": [
        "## Label Binarization of 2/Binary labels  \r\n",
        "> sub_labels: (1280,2)"
      ]
    },
    {
      "cell_type": "code",
      "metadata": {
        "colab": {
          "base_uri": "https://localhost:8080/"
        },
        "id": "9784GX9zwMq0",
        "outputId": "2702af7b-56b3-4c59-843f-26aaea7c18ff"
      },
      "source": [
        "sub_labels.shape"
      ],
      "execution_count": null,
      "outputs": [
        {
          "output_type": "execute_result",
          "data": {
            "text/plain": [
              "(1280,)"
            ]
          },
          "metadata": {
            "tags": []
          },
          "execution_count": 24
        }
      ]
    },
    {
      "cell_type": "code",
      "metadata": {
        "colab": {
          "base_uri": "https://localhost:8080/"
        },
        "id": "Un8vJezHu2CR",
        "outputId": "6d0b7f3d-0e86-447a-9d12-753da0db31ab"
      },
      "source": [
        "def encode(x):\r\n",
        "  if(x==1):\r\n",
        "    return [0,1]\r\n",
        "  elif(x==0):\r\n",
        "    return [1,0]\r\n",
        "  else:\r\n",
        "    print(\"invalid value\")\r\n",
        "    return None\r\n",
        "sub_labels_bin = np.array(list(map(encode, sub_labels)))\r\n",
        "print(sub_labels_bin.shape)\r\n",
        "print(sub_labels_bin[:6])"
      ],
      "execution_count": null,
      "outputs": [
        {
          "output_type": "stream",
          "text": [
            "(1280, 2)\n",
            "[[0 1]\n",
            " [0 1]\n",
            " [0 1]\n",
            " [1 0]\n",
            " [0 1]\n",
            " [0 1]]\n"
          ],
          "name": "stdout"
        }
      ]
    },
    {
      "cell_type": "code",
      "metadata": {
        "colab": {
          "base_uri": "https://localhost:8080/"
        },
        "id": "5neiC9SuyDIv",
        "outputId": "74c7e763-c924-431e-d613-8220dfe7add4"
      },
      "source": [
        "sub_labels_bin[0]"
      ],
      "execution_count": null,
      "outputs": [
        {
          "output_type": "execute_result",
          "data": {
            "text/plain": [
              "array([0, 1])"
            ]
          },
          "metadata": {
            "tags": []
          },
          "execution_count": 10
        }
      ]
    },
    {
      "cell_type": "code",
      "metadata": {
        "colab": {
          "base_uri": "https://localhost:8080/"
        },
        "id": "2y7jHr_QyYfJ",
        "outputId": "fe1b48f3-5940-4fdb-8d08-840df579fede"
      },
      "source": [
        "sub_labels = sub_labels_bin\r\n",
        "gc.collect()\r\n",
        "print(sub_labels.shape)"
      ],
      "execution_count": null,
      "outputs": [
        {
          "output_type": "stream",
          "text": [
            "(1280, 2)\n"
          ],
          "name": "stdout"
        }
      ]
    },
    {
      "cell_type": "code",
      "metadata": {
        "id": "q3ctIDjx47eA"
      },
      "source": [
        "def inv_bin(x):\r\n",
        "  if(x == [0,1]):\r\n",
        "     return 1\r\n",
        "  elif(x==[1,0]):\r\n",
        "    return 0\r\n"
      ],
      "execution_count": null,
      "outputs": []
    },
    {
      "cell_type": "markdown",
      "metadata": {
        "id": "dMaxASVXGRtj"
      },
      "source": [
        "## Generating Train Test Splits,  \r\n",
        "> X_train, y_train: (1152,32,8064), (1152,4)  \r\n",
        "> X_test, y_test: (128,32,8064), (128,4)  "
      ]
    },
    {
      "cell_type": "code",
      "metadata": {
        "id": "5jLCp18rGVuh"
      },
      "source": [
        "X_train, X_test, y_train, y_test = train_test_split(all_sub_data, sub_labels, test_size = 0.1, random_state = 42,shuffle = True, stratify = sub_labels)\r\n",
        "#TO DO:\r\n",
        "#Check if class imbalance in the splits exists and is severe than the dataset\r\n",
        "#use stratify = y_labels to ensure same distribution as dataset"
      ],
      "execution_count": null,
      "outputs": []
    },
    {
      "cell_type": "code",
      "metadata": {
        "colab": {
          "base_uri": "https://localhost:8080/"
        },
        "id": "Rzb207S6IimP",
        "outputId": "6755c9aa-a23f-46ad-be27-b65d74579e8c"
      },
      "source": [
        "X_train.shape, y_train.shape, X_test.shape, y_test.shape"
      ],
      "execution_count": null,
      "outputs": [
        {
          "output_type": "execute_result",
          "data": {
            "text/plain": [
              "((1152, 32, 8064), (1152, 2), (128, 32, 8064), (128, 2))"
            ]
          },
          "metadata": {
            "tags": []
          },
          "execution_count": 14
        }
      ]
    },
    {
      "cell_type": "markdown",
      "metadata": {
        "id": "kmqVq6YKJkQo"
      },
      "source": [
        "## Verifying Frequency distribution of labels\r\n",
        "(Skip for Binary Classification)"
      ]
    },
    {
      "cell_type": "code",
      "metadata": {
        "colab": {
          "base_uri": "https://localhost:8080/",
          "height": 416
        },
        "id": "SvySXMdNEg0u",
        "outputId": "f275ed0c-9b3a-4b4b-fc66-9d9dc9218232"
      },
      "source": [
        "#Check frequency distribution of classes in training and testing splits\r\n",
        "# use LabelBinarizer.inverse_transform(y_train) to obtain labels in [0,1,2,3] \r\n",
        "print(\"labels in train\",np.unique(y_train, axis = 0))\r\n",
        "print(\"label in test\",np.unique(y_test, axis= 0))\r\n",
        "c_train = Counter(lb.inverse_transform(y_train))\r\n",
        "print(c_train)\r\n",
        "plt.figure()\r\n",
        "plt.bar([0,1,2,3], [c_train[0], c_train[1], c_train[2], c_train[3]])\r\n",
        "plt.show()\r\n"
      ],
      "execution_count": null,
      "outputs": [
        {
          "output_type": "stream",
          "text": [
            "labels in train [[0 0 0 1]\n",
            " [0 0 1 0]\n",
            " [0 1 0 0]\n",
            " [1 0 0 0]]\n",
            "label in test [[0 0 0 1]\n",
            " [0 0 1 0]\n",
            " [0 1 0 0]\n",
            " [1 0 0 0]]\n",
            "Counter({3: 412, 1: 266, 2: 240, 0: 234})\n"
          ],
          "name": "stdout"
        },
        {
          "output_type": "display_data",
          "data": {
            "image/png": "[encoded data removed]",
            "text/plain": [
              "<Figure size 432x288 with 1 Axes>"
            ]
          },
          "metadata": {
            "tags": [],
            "needs_background": "light"
          }
        }
      ]
    },
    {
      "cell_type": "code",
      "metadata": {
        "colab": {
          "base_uri": "https://localhost:8080/",
          "height": 282
        },
        "id": "R6H8_hxzICa3",
        "outputId": "4de4fb3d-9ba7-44c5-804c-37ccf5e9d23b"
      },
      "source": [
        "\r\n",
        "c_test = Counter(lb.inverse_transform(y_test))\r\n",
        "print(c_test)\r\n",
        "plt.figure()\r\n",
        "plt.bar([0,1,2,3], [c_test[0], c_test[1], c_test[2], c_test[3]])\r\n",
        "plt.show()"
      ],
      "execution_count": null,
      "outputs": [
        {
          "output_type": "stream",
          "text": [
            "Counter({3: 46, 1: 30, 2: 26, 0: 26})\n"
          ],
          "name": "stdout"
        },
        {
          "output_type": "display_data",
          "data": {
            "image/png": "[encoded data removed]",
            "text/plain": [
              "<Figure size 432x288 with 1 Axes>"
            ]
          },
          "metadata": {
            "tags": [],
            "needs_background": "light"
          }
        }
      ]
    },
    {
      "cell_type": "code",
      "metadata": {
        "colab": {
          "base_uri": "https://localhost:8080/"
        },
        "id": "kQE16truIaTH",
        "outputId": "07d466ac-54f8-426c-9a8e-220814ab3f2e"
      },
      "source": [
        "for i in [0,1,2,3]:\r\n",
        "  print(c_train[i]/1152, c_test[i]/128, c[i]/1280, end = ' | ')\r\n",
        "print(\"\\nThe distribution of labels is maintained\")"
      ],
      "execution_count": null,
      "outputs": [
        {
          "output_type": "stream",
          "text": [
            "0.203125 0.203125 0.203125 | 0.2309027777777778 0.234375 0.23125 | 0.20833333333333334 0.203125 0.2078125 | 0.3576388888888889 0.359375 0.3578125 | \n",
            "The distribution of labels is maintained\n"
          ],
          "name": "stdout"
        }
      ]
    },
    {
      "cell_type": "code",
      "metadata": {
        "id": "6306xrqyIoni",
        "colab": {
          "base_uri": "https://localhost:8080/"
        },
        "outputId": "fa7f8343-4f09-4502-d531-35b695df12e4"
      },
      "source": [
        "try:\r\n",
        "  del all_sub_data\r\n",
        "  del sub_labels\r\n",
        "  del labels\r\n",
        "  del x\r\n",
        "  del sub_data\r\n",
        "  del sub_eeg\r\n",
        "  del subjects_list\r\n",
        "except:\r\n",
        "  pass\r\n",
        "gc.collect()"
      ],
      "execution_count": null,
      "outputs": [
        {
          "output_type": "execute_result",
          "data": {
            "text/plain": [
              "334"
            ]
          },
          "metadata": {
            "tags": []
          },
          "execution_count": 15
        }
      ]
    },
    {
      "cell_type": "markdown",
      "metadata": {
        "id": "MbLBgzu2hLKh"
      },
      "source": [
        "## Repetition of Labels for Windowing of training data  \r\n",
        "\r\n",
        "> y_train_12, y_train_6, y_train_4 of shapes(?,4): 13824, 6912 and 4608 respectively \r\n"
      ]
    },
    {
      "cell_type": "code",
      "metadata": {
        "colab": {
          "base_uri": "https://localhost:8080/"
        },
        "id": "Bs4hjPnQBevY",
        "outputId": "fb2b3b48-86a0-4ac7-bfb3-83b646ab1223"
      },
      "source": [
        "y_train = np.array(y_train)\r\n",
        "print(y_train.shape, type(y_train))"
      ],
      "execution_count": null,
      "outputs": [
        {
          "output_type": "stream",
          "text": [
            "(1152, 2) <class 'numpy.ndarray'>\n"
          ],
          "name": "stdout"
        }
      ]
    },
    {
      "cell_type": "code",
      "metadata": {
        "colab": {
          "base_uri": "https://localhost:8080/"
        },
        "id": "0kZRCXm-d0Oj",
        "outputId": "7ea8c144-aa68-4e3f-f570-fe7770984adc"
      },
      "source": [
        "#12,6 and 4 subsignals are generated from 8064 length EEG signal, labels repeated accordingly\r\n",
        "y_train_12 = np.repeat(y_train, 12, axis = 0)\r\n",
        "y_train_6 = np.repeat(y_train, 6, axis = 0)\r\n",
        "y_train_4 = np.repeat(y_train, 4, axis = 0)\r\n",
        "del(y_train)\r\n",
        "gc.collect()\r\n",
        "print(y_train_12.shape, y_train_6.shape, y_train_4.shape)"
      ],
      "execution_count": null,
      "outputs": [
        {
          "output_type": "stream",
          "text": [
            "(13824, 2) (6912, 2) (4608, 2)\n"
          ],
          "name": "stdout"
        }
      ]
    },
    {
      "cell_type": "code",
      "metadata": {
        "colab": {
          "base_uri": "https://localhost:8080/"
        },
        "id": "2o3-c92KKIEw",
        "outputId": "8613e962-25d0-476f-c6b2-bc536c3025b7"
      },
      "source": [
        "if(input(\"Enter 'y' to focus on 12 windows:\") == 'y'):\r\n",
        "  try:\r\n",
        "    del y_train_6, y_train_4\r\n",
        "  except:\r\n",
        "    pass\r\n",
        "gc.collect()"
      ],
      "execution_count": null,
      "outputs": [
        {
          "output_type": "stream",
          "text": [
            "Enter 'y' to focus on 12 windows:y\n"
          ],
          "name": "stdout"
        },
        {
          "output_type": "execute_result",
          "data": {
            "text/plain": [
              "79"
            ]
          },
          "metadata": {
            "tags": []
          },
          "execution_count": 18
        }
      ]
    },
    {
      "cell_type": "code",
      "metadata": {
        "colab": {
          "base_uri": "https://localhost:8080/",
          "height": 315
        },
        "id": "GDdFVVoHC2fm",
        "outputId": "ab8e090c-302b-44c1-d356-02a58ecc1230"
      },
      "source": [
        "#SKIP FOR BINARY CLASSIFICATION\r\n",
        "#Frequency distribution of the repeated labels\r\n",
        "c_train_12 = Counter(lb.inverse_transform(y_train_12))\r\n",
        "print(c_train_12)\r\n",
        "for i in [0,1,2,3]:\r\n",
        "  print(c_train[i]/1152, c_train_12[i]/13824, c[i]/1280, end = ' | ')\r\n",
        "print(\"\\nThe distribution of labels is maintained\")\r\n",
        "plt.figure()\r\n",
        "plt.bar([0,1,2,3], [c_train_12[0], c_train_12[1], c_train_12[2], c_train_12[3]])\r\n",
        "plt.show()"
      ],
      "execution_count": null,
      "outputs": [
        {
          "output_type": "stream",
          "text": [
            "Counter({3: 4944, 1: 3192, 2: 2880, 0: 2808})\n",
            "0.203125 0.203125 0.203125 | 0.2309027777777778 0.2309027777777778 0.23125 | 0.20833333333333334 0.20833333333333334 0.2078125 | 0.3576388888888889 0.3576388888888889 0.3578125 | \n",
            "The distribution of labels is maintained\n"
          ],
          "name": "stdout"
        },
        {
          "output_type": "display_data",
          "data": {
            "image/png": "[encoded data removed]",
            "text/plain": [
              "<Figure size 432x288 with 1 Axes>"
            ]
          },
          "metadata": {
            "tags": [],
            "needs_background": "light"
          }
        }
      ]
    },
    {
      "cell_type": "code",
      "metadata": {
        "colab": {
          "base_uri": "https://localhost:8080/"
        },
        "id": "90bC-ViKLIxC",
        "outputId": "2a159592-11e6-47ed-b31c-4732d9c815cd"
      },
      "source": [
        "try:\r\n",
        "  del c_train, c_test, c_train_12, c\r\n",
        "except:\r\n",
        "  pass\r\n",
        "gc.collect()"
      ],
      "execution_count": null,
      "outputs": [
        {
          "output_type": "execute_result",
          "data": {
            "text/plain": [
              "60"
            ]
          },
          "metadata": {
            "tags": []
          },
          "execution_count": 19
        }
      ]
    },
    {
      "cell_type": "markdown",
      "metadata": {
        "id": "IHs7gtIiCSzm"
      },
      "source": [
        "## Loading Training data with different window sizes"
      ]
    },
    {
      "cell_type": "code",
      "metadata": {
        "id": "_VrZ1ZprCpy8"
      },
      "source": [
        "channel_wise = np.transpose(X_train, (1,0,2))"
      ],
      "execution_count": null,
      "outputs": []
    },
    {
      "cell_type": "code",
      "metadata": {
        "id": "IWq2RDpQCmm7"
      },
      "source": [
        "del(X_train)\r\n",
        "gc.collect()\r\n",
        "def process_input(instances, sub_signals):\r\n",
        "  #instances must be channel wise of shape (32, -1, 8064)\r\n",
        "  samples = int(8064/sub_signals)\r\n",
        "  transformed = []\r\n",
        "  for i in range(instances.shape[0]):\r\n",
        "    transformed.append(np.reshape(instances[i], (-1,samples,1)))\r\n",
        "  transformed = np.array(transformed)\r\n",
        "  print(transformed.shape, 'is the shape obtained.')\r\n",
        "  gc.collect()\r\n",
        "  return transformed"
      ],
      "execution_count": null,
      "outputs": []
    },
    {
      "cell_type": "markdown",
      "metadata": {
        "id": "k8JkC-thgX70"
      },
      "source": [
        "### 12 sub signals of length 672 each, total 13824 instances"
      ]
    },
    {
      "cell_type": "code",
      "metadata": {
        "colab": {
          "base_uri": "https://localhost:8080/"
        },
        "id": "jAf6zyrW2QO9",
        "outputId": "4d9e28d0-6e9e-4796-97d0-9bf1ba7eb342"
      },
      "source": [
        "#X_train_12 = np.load(\"/content/drive/MyDrive/major project/data_augmentation/channel_wise_12.npy\")\r\n",
        "#print(X_train_12.shape, 'Shape of Training Data')\r\n",
        "X_train_12 = process_input(channel_wise, 12)\r\n",
        "gc.collect()"
      ],
      "execution_count": null,
      "outputs": [
        {
          "output_type": "stream",
          "text": [
            "(32, 13824, 672, 1) is the shape obtained.\n"
          ],
          "name": "stdout"
        },
        {
          "output_type": "execute_result",
          "data": {
            "text/plain": [
              "0"
            ]
          },
          "metadata": {
            "tags": []
          },
          "execution_count": 22
        }
      ]
    },
    {
      "cell_type": "markdown",
      "metadata": {
        "id": "pcQGE_1Cggo8"
      },
      "source": [
        "### 6 sub signals of length 1344 each, total 6912 instances"
      ]
    },
    {
      "cell_type": "code",
      "metadata": {
        "id": "XUCB6L7r3NCw"
      },
      "source": [
        "#X_train_6 = np.load(\"/content/drive/MyDrive/major project/data_augmentation/channel_wise_6.npy\")\r\n",
        "#print(X_train_6.shape, 'Shape of Training Data')\r\n",
        "#gc.collect()"
      ],
      "execution_count": null,
      "outputs": []
    },
    {
      "cell_type": "markdown",
      "metadata": {
        "id": "N5MiX9c3goCv"
      },
      "source": [
        "### 4 sub signals of length 2016 each, total 4608 instances"
      ]
    },
    {
      "cell_type": "code",
      "metadata": {
        "id": "KLdrXz4Re7yQ"
      },
      "source": [
        "#X_train_4 = np.load(\"/content/drive/MyDrive/major project/data_augmentation/channel_wise_4.npy\")\r\n",
        "#print(X_train_4.shape, 'Shape of Training Data')\r\n",
        "#gc.collect()"
      ],
      "execution_count": null,
      "outputs": []
    },
    {
      "cell_type": "code",
      "metadata": {
        "colab": {
          "base_uri": "https://localhost:8080/"
        },
        "id": "7dIg_b-_W7ZD",
        "outputId": "e0ee1d2a-b992-4812-ab55-fdba46e6d5e5"
      },
      "source": [
        "gc.collect()"
      ],
      "execution_count": null,
      "outputs": [
        {
          "output_type": "execute_result",
          "data": {
            "text/plain": [
              "0"
            ]
          },
          "metadata": {
            "tags": []
          },
          "execution_count": 23
        }
      ]
    },
    {
      "cell_type": "markdown",
      "metadata": {
        "id": "L9lcKzmxL-SB"
      },
      "source": [
        "Free Up ram"
      ]
    },
    {
      "cell_type": "code",
      "metadata": {
        "colab": {
          "base_uri": "https://localhost:8080/"
        },
        "id": "1a0RzGPOL6WY",
        "outputId": "f6166c61-d461-4cf7-8ae0-2065ae4758d1"
      },
      "source": [
        "del channel_wise\r\n",
        "gc.collect()"
      ],
      "execution_count": null,
      "outputs": [
        {
          "output_type": "execute_result",
          "data": {
            "text/plain": [
              "0"
            ]
          },
          "metadata": {
            "tags": []
          },
          "execution_count": 24
        }
      ]
    },
    {
      "cell_type": "markdown",
      "metadata": {
        "id": "r4lu2licKkgB"
      },
      "source": [
        "# Lightweight Pyramidal 1D CNN model"
      ]
    },
    {
      "cell_type": "markdown",
      "metadata": {
        "id": "55wVi_i3sOva"
      },
      "source": [
        "## Helper Functions for plotting, confusion matrix etc."
      ]
    },
    {
      "cell_type": "code",
      "metadata": {
        "id": "0dfAn7kZrqJ5"
      },
      "source": [
        "def plot_evaluation_curves(history, EPOCHS, metrics = ('accuracy', 'val_accuracy')):\r\n",
        "  acc = history.history[metrics[0]]\r\n",
        "  val_acc = history.history[metrics[1]]\r\n",
        "\r\n",
        "  loss = history.history['loss']\r\n",
        "  val_loss = history.history['val_loss']\r\n",
        "\r\n",
        "  epochs_range = range(EPOCHS)\r\n",
        "\r\n",
        "  plt.figure(figsize=(10, 6))\r\n",
        "  plt.subplot(1, 2, 1)\r\n",
        "  plt.plot(epochs_range, acc, label='Training ' + metrics[0])\r\n",
        "  plt.plot(epochs_range, val_acc, label='Validation '+ metrics[0])\r\n",
        "  plt.legend(loc='lower right')\r\n",
        "  plt.title('Training and Validation ' + + metrics[0])\r\n",
        "\r\n",
        "  plt.subplot(1, 2, 2)\r\n",
        "  plt.plot(epochs_range, loss, label='Training Loss')\r\n",
        "  plt.plot(epochs_range, val_loss, label='Validation Loss')\r\n",
        "  plt.legend(loc='upper right')\r\n",
        "  plt.title('Training and Validation Loss')\r\n",
        "  plt.show()"
      ],
      "execution_count": null,
      "outputs": []
    },
    {
      "cell_type": "code",
      "metadata": {
        "id": "DP1Z7uSCldBE"
      },
      "source": [
        "def make_confusion_matrix(cf,\r\n",
        "                          group_names=None,\r\n",
        "                          categories='auto',\r\n",
        "                          count=True,\r\n",
        "                          percent=True,\r\n",
        "                          cbar=True,\r\n",
        "                          xyticks=True,\r\n",
        "                          xyplotlabels=True,\r\n",
        "                          sum_stats=True,\r\n",
        "                          figsize=None,\r\n",
        "                          cmap='Blues',\r\n",
        "                          title=None):\r\n",
        "    '''\r\n",
        "    This function will make a pretty plot of an sklearn Confusion Matrix cm using a Seaborn heatmap visualization.\r\n",
        "    Arguments\r\n",
        "    ---------\r\n",
        "    cf:            confusion matrix to be passed in\r\n",
        "    group_names:   List of strings that represent the labels row by row to be shown in each square.\r\n",
        "    categories:    List of strings containing the categories to be displayed on the x,y axis. Default is 'auto'\r\n",
        "    count:         If True, show the raw number in the confusion matrix. Default is True.\r\n",
        "    normalize:     If True, show the proportions for each category. Default is True.\r\n",
        "    cbar:          If True, show the color bar. The cbar values are based off the values in the confusion matrix.\r\n",
        "                   Default is True.\r\n",
        "    xyticks:       If True, show x and y ticks. Default is True.\r\n",
        "    xyplotlabels:  If True, show 'True Label' and 'Predicted Label' on the figure. Default is True.\r\n",
        "    sum_stats:     If True, display summary statistics below the figure. Default is True.\r\n",
        "    figsize:       Tuple representing the figure size. Default will be the matplotlib rcParams value.\r\n",
        "    cmap:          Colormap of the values displayed from matplotlib.pyplot.cm. Default is 'Blues'\r\n",
        "                   See http://matplotlib.org/examples/color/colormaps_reference.html\r\n",
        "                   \r\n",
        "    title:         Title for the heatmap. Default is None.\r\n",
        "    '''\r\n",
        "\r\n",
        "\r\n",
        "    # CODE TO GENERATE TEXT INSIDE EACH SQUARE\r\n",
        "    blanks = ['' for i in range(cf.size)]\r\n",
        "\r\n",
        "    if group_names and len(group_names)==cf.size:\r\n",
        "        group_labels = [\"{}\\n\".format(value) for value in group_names]\r\n",
        "    else:\r\n",
        "        group_labels = blanks\r\n",
        "\r\n",
        "    if count:\r\n",
        "        group_counts = [\"{0:0.0f}\\n\".format(value) for value in cf.flatten()]\r\n",
        "    else:\r\n",
        "        group_counts = blanks\r\n",
        "\r\n",
        "    if percent:\r\n",
        "        group_percentages = [\"{0:.2%}\".format(value) for value in cf.flatten()/np.sum(cf)]\r\n",
        "    else:\r\n",
        "        group_percentages = blanks\r\n",
        "\r\n",
        "    box_labels = [f\"{v1}{v2}{v3}\".strip() for v1, v2, v3 in zip(group_labels,group_counts,group_percentages)]\r\n",
        "    box_labels = np.asarray(box_labels).reshape(cf.shape[0],cf.shape[1])\r\n",
        "\r\n",
        "\r\n",
        "    # CODE TO GENERATE SUMMARY STATISTICS & TEXT FOR SUMMARY STATS\r\n",
        "    if sum_stats:\r\n",
        "        #Accuracy is sum of diagonal divided by total observations\r\n",
        "        accuracy  = np.trace(cf) / float(np.sum(cf))\r\n",
        "\r\n",
        "        #if it is a binary confusion matrix, show some more stats\r\n",
        "        if len(cf)==2:\r\n",
        "            #Metrics for Binary Confusion Matrices\r\n",
        "            precision = cf[1,1] / sum(cf[:,1])\r\n",
        "            recall    = cf[1,1] / sum(cf[1,:])\r\n",
        "            f1_score  = 2*precision*recall / (precision + recall)\r\n",
        "            stats_text = \"\\n\\nAccuracy={:0.3f}\\nPrecision={:0.3f}\\nRecall={:0.3f}\\nF1 Score={:0.3f}\".format(\r\n",
        "                accuracy,precision,recall,f1_score)\r\n",
        "        else:\r\n",
        "            stats_text = \"\\n\\nAccuracy={:0.3f}\".format(accuracy)\r\n",
        "    else:\r\n",
        "        stats_text = \"\"\r\n",
        "\r\n",
        "\r\n",
        "    # SET FIGURE PARAMETERS ACCORDING TO OTHER ARGUMENTS\r\n",
        "    if figsize==None:\r\n",
        "        #Get default figure size if not set\r\n",
        "        figsize = plt.rcParams.get('figure.figsize')\r\n",
        "\r\n",
        "    if xyticks==False:\r\n",
        "        #Do not show categories if xyticks is False\r\n",
        "        categories=False\r\n",
        "\r\n",
        "\r\n",
        "    # MAKE THE HEATMAP VISUALIZATION\r\n",
        "    plt.figure(figsize=figsize)\r\n",
        "    sns.heatmap(cf,annot=box_labels,fmt=\"\",cmap=cmap,cbar=cbar,xticklabels=categories,yticklabels=categories)\r\n",
        "\r\n",
        "    if xyplotlabels:\r\n",
        "        plt.ylabel('True label')\r\n",
        "        plt.xlabel('Predicted label' + stats_text)\r\n",
        "    else:\r\n",
        "        plt.xlabel(stats_text)\r\n",
        "    \r\n",
        "    if title:\r\n",
        "        plt.title(title)"
      ],
      "execution_count": null,
      "outputs": []
    },
    {
      "cell_type": "code",
      "metadata": {
        "colab": {
          "base_uri": "https://localhost:8080/"
        },
        "id": "WH3xTl2w4E_c",
        "outputId": "2f870a37-6a35-4abc-bec0-0843577fe4b5"
      },
      "source": [
        "gc.collect()"
      ],
      "execution_count": null,
      "outputs": [
        {
          "output_type": "execute_result",
          "data": {
            "text/plain": [
              "0"
            ]
          },
          "metadata": {
            "tags": []
          },
          "execution_count": 27
        }
      ]
    },
    {
      "cell_type": "markdown",
      "metadata": {
        "id": "HcgN8lB-Tjzc"
      },
      "source": [
        "### Checking the distribution of predicted labels to check if majority class voting being done or Model is actually learning\r\n",
        " "
      ]
    },
    {
      "cell_type": "code",
      "metadata": {
        "id": "jGcCyM-7ngan"
      },
      "source": [
        "def show_metrics(x_train, x_val, y_train, y_val, model):\n",
        "  print(\"TRAINING MEASURES: \")\n",
        "  #Training Data metrics\n",
        "  pred_y = model.predict(x_train)\n",
        "  c_pred = Counter(np.argmax(pred_y, axis = 1))\n",
        "  print(c_pred, \"Predicted Distribution of Training Dataset\")\n",
        "  c_true = Counter(np.argmax(y_train, axis = 1))\n",
        "  print(c_true, \"Actual Distribution of Training Dataset\")\n",
        "  print(model.evaluate(x_train, y_train), \"Training Accuracy of Model.\")\n",
        "  print(\"Classification Report of Model on Training Data\")\n",
        "  print(classification_report(np.argmax(y_train, axis =1), np.argmax(model.predict(x_train), axis = 1) , digits = 4) )\n",
        "  make_confusion_matrix(confusion_matrix(np.argmax(y_train, axis = 1), np.argmax(model.predict(x_train), axis = 1)))\n",
        "  print(\"\\n------------------------------------------------------------------------------------------\\n\")\n",
        "\n",
        "  #Validation Data Metrics\n",
        "  print(\"VALIDATION MEASURES: \")\n",
        "  pred_y = model.predict(x_val)\n",
        "  c_pred = Counter(np.argmax(pred_y, axis = 1))\n",
        "  print(c_pred, \"Predicted Distribution of Validation Dataset\")\n",
        "  c_true = Counter(np.argmax(y_val, axis = 1))\n",
        "  print(c_true, \"Actual Distribution of Validation Dataset\")\n",
        "  print(model.evaluate(x_val, y_val), \"Validation Accuracy of Model.\")\n",
        "  print(\"Classification Report of Model on Validation Data\")\n",
        "  print(classification_report(np.argmax(y_val, axis = 1), np.argmax(model.predict(x_val), axis = 1), digits = 4))\n",
        "  make_confusion_matrix(confusion_matrix(np.argmax(y_val, axis = 1), np.argmax(model.predict(x_val), axis =1)) )\n",
        "  print(\"\\n------------------------------------------------------------------------------------------\\n\")\n",
        "  gc.collect()"
      ],
      "execution_count": null,
      "outputs": []
    },
    {
      "cell_type": "markdown",
      "metadata": {
        "id": "Tb8M2JsTsT7v"
      },
      "source": [
        "## Model Architecture Function"
      ]
    },
    {
      "cell_type": "code",
      "metadata": {
        "id": "D6x9iLrFVq94"
      },
      "source": [
        "METRICS = [\r\n",
        "      keras.metrics.TruePositives(name='tp'),\r\n",
        "      keras.metrics.FalsePositives(name='fp'),\r\n",
        "      keras.metrics.TrueNegatives(name='tn'),\r\n",
        "      keras.metrics.FalseNegatives(name='fn'), \r\n",
        "      keras.metrics.BinaryAccuracy(name='accuracy'),\r\n",
        "      keras.metrics.Precision(name='precision'),\r\n",
        "      keras.metrics.Recall(name='recall'),\r\n",
        "      keras.metrics.AUC(name='auc'),\r\n",
        "]"
      ],
      "execution_count": null,
      "outputs": []
    },
    {
      "cell_type": "code",
      "metadata": {
        "id": "5dOUyj04Zsqq"
      },
      "source": [
        "def dummy_models(sub_signals=12, metrics = METRICS):\r\n",
        "  sample_size = int(8064/sub_signals)\r\n",
        "  models = [0]*32\r\n",
        "  for i in range(32):\r\n",
        "    models[i] = Sequential()\r\n",
        "    models[i].add(Dense(500, activation = 'relu', input_shape = (sample_size, 1)))\r\n",
        "    models[i].add(Dense(220, activation = 'relu'))\r\n",
        "    models[i].add(Dense(100, activation = 'relu'))\r\n",
        "    models[i].add(Dense(40, activation = 'relu'))\r\n",
        "    models[i].add(Dense(2,  activation = 'softmax', bias_initializer = output_bias))\r\n",
        "    models[i].compile(optimizer= tf.keras.optimizers.Adam(learning_rate = 1e-4) , loss = tf.keras.losses.BinaryCrossentropy(), metrics= metrics)\r\n",
        "  print(\"All models defined.\")\r\n",
        "  return models"
      ],
      "execution_count": null,
      "outputs": []
    },
    {
      "cell_type": "code",
      "metadata": {
        "id": "mlfu_aayoXSl"
      },
      "source": [
        "null_Data = np.zeros((13824, 672, 1))"
      ],
      "execution_count": null,
      "outputs": []
    },
    {
      "cell_type": "code",
      "metadata": {
        "id": "puI2iRNDKpaW"
      },
      "source": [
        "def create_models(dense_par=20, sub_signals=12, metrics = METRICS):\r\n",
        "  sample_size = int(8064/sub_signals)\r\n",
        "  models = [0]*32\r\n",
        "  for i in range(32):\r\n",
        "    models[i] = Sequential()\r\n",
        "    #block 1\r\n",
        "    models[i].add(Conv1D(filters=32, kernel_size=5,strides = 3, input_shape=(sample_size, 1)))\r\n",
        "    models[i].add(BatchNormalization())\r\n",
        "    models[i].add(tf.keras.layers.Activation('relu'))\r\n",
        "    \r\n",
        "    #block 2\r\n",
        "    models[i].add(Conv1D(filters=24, kernel_size=3,strides = 2))\r\n",
        "    models[i].add(BatchNormalization())\r\n",
        "    models[i].add(tf.keras.layers.Activation('relu'))\r\n",
        "    \r\n",
        "    #block 3\r\n",
        "    models[i].add(Conv1D(filters=16, kernel_size=3,strides = 2))\r\n",
        "    models[i].add(BatchNormalization())\r\n",
        "    models[i].add(tf.keras.layers.Activation('relu'))\r\n",
        "    \r\n",
        "    #block 4\r\n",
        "    models[i].add(Conv1D(filters=8, kernel_size=3,strides = 2))\r\n",
        "    models[i].add(BatchNormalization())\r\n",
        "    models[i].add(tf.keras.layers.Activation('relu'))\r\n",
        "    \r\n",
        "    #fc-1\r\n",
        "    models[i].add(Flatten())\r\n",
        "    models[i].add(Dense(dense_par, activation='relu'))\r\n",
        "    \r\n",
        "    #dropout\r\n",
        "    models[i].add(Dropout(rate = 0.5))\r\n",
        "    \r\n",
        "    #fc2 and softmax\r\n",
        "    #binary classification\r\n",
        "    models[i].add(Dense(2,  activation = 'softmax', bias_initializer = output_bias))\r\n",
        "    models[i].compile(optimizer= tf.keras.optimizers.Adam(learning_rate = 1e-4) , loss = tf.keras.losses.BinaryCrossentropy(), metrics= metrics)\r\n",
        "\r\n",
        "    #mutliclass classification\r\n",
        "    #models[i].add(Dense(4, activation = 'softmax'))\r\n",
        "    #models[i].compile(optimizer= tf.keras.optimizers.Adam(learning_rate=0.001) , loss = tf.keras.losses.CategoricalCrossentropy(), metrics= 'accuracy')\r\n",
        "\r\n",
        "  print(\"All models defined.\")\r\n",
        "  return models"
      ],
      "execution_count": null,
      "outputs": []
    },
    {
      "cell_type": "markdown",
      "metadata": {
        "id": "1wsBgSi2DXIE"
      },
      "source": [
        "## Training using 12 sub_signals per EEG signal"
      ]
    },
    {
      "cell_type": "code",
      "metadata": {
        "colab": {
          "base_uri": "https://localhost:8080/"
        },
        "id": "7sS_tgbvu3uO",
        "outputId": "f2b9318d-ca07-4b49-9c15-1264e1ac8317"
      },
      "source": [
        "# Fresh Start to training with freeing up of RAM\r\n",
        "try:\r\n",
        "  del models\r\n",
        "  del history\r\n",
        "except:\r\n",
        "  print(\"Variables already freed\")\r\n",
        "gc.collect()"
      ],
      "execution_count": null,
      "outputs": [
        {
          "output_type": "stream",
          "text": [
            "Variables already freed\n"
          ],
          "name": "stdout"
        },
        {
          "output_type": "execute_result",
          "data": {
            "text/plain": [
              "0"
            ]
          },
          "metadata": {
            "tags": []
          },
          "execution_count": 30
        }
      ]
    },
    {
      "cell_type": "markdown",
      "metadata": {
        "id": "7emQWf6byh3-"
      },
      "source": [
        "Input Independent Baseline model"
      ]
    },
    {
      "cell_type": "code",
      "metadata": {
        "id": "4D6ezqeFDmPF"
      },
      "source": [
        "baseline_models = create_models(dense_par=20, sub_signals = 12, METRICS)\r\n",
        "history = [0]*32\r\n",
        "epochs = 200\r\n",
        "#range will be 32 in actual code\r\n",
        "for j in range(1):\r\n",
        "  print(f'Individual Net : {j+1}')   \r\n",
        "  #Null Data generation\r\n",
        "  x_train, x_val, y_train, y_val = train_test_split( null_data,y_train_12, test_size = 0.1, random_state = 42, shuffle = True, stratify = y_train_12)\r\n",
        "  #Input Independent Baseline\r\n",
        "  history[j] = baseline_models[j].fit(x_train, y_train, batch_size = 2048, epochs = epochs, validation_data = (x_val, y_val), shuffle = True, verbose = 0)\r\n",
        "  \r\n",
        "  show_metrics(x_train, x_val, y_train, y_val, models[j])\r\n",
        "  plot_evaluation_curves(history[j], epochs, ('accuracy', 'val_accuracy'))\r\n",
        "  plot_evaluation_curves(history[j], epochs, ('precision', 'val_precision'))\r\n",
        "  plot_evaluation_curves(history[j], epochs, ('recall', 'val_recall'))\r\n",
        "  plot_evaluation_curves(history[j], epochs, ('auc', 'val_auc'))\r\n",
        "  print(\"\\n-----------------------------------------------------------------------------------------\")\r\n",
        "  gc.collect()\r\n",
        "gc.collect()\r\n"
      ],
      "execution_count": null,
      "outputs": []
    },
    {
      "cell_type": "code",
      "metadata": {
        "id": "OZtxys-40C2e"
      },
      "source": [
        "# Fresh Start to training with freeing up of RAM\r\n",
        "try:\r\n",
        "  del models\r\n",
        "  del history\r\n",
        "except:\r\n",
        "  print(\"Variables already freed\")\r\n",
        "gc.collect()"
      ],
      "execution_count": null,
      "outputs": []
    },
    {
      "cell_type": "markdown",
      "metadata": {
        "id": "Gc2ghoPayl1T"
      },
      "source": [
        "Input Dependent Baseline Model"
      ]
    },
    {
      "cell_type": "code",
      "metadata": {
        "id": "dEt5X3L0ygP7"
      },
      "source": [
        "baseline_models = create_models(dense_par=20, sub_signals = 12, METRICS)\r\n",
        "history = [0]*32\r\n",
        "epochs = 400\r\n",
        "#range will be 32 in actual code\r\n",
        "for j in range(1):\r\n",
        "  print(f'Individual Net : {j+1}')   \r\n",
        "  x_train, x_val, y_train, y_val = train_test_split( X_train_12[j],y_train_12, test_size = 0.1, random_state = 42, shuffle = True, stratify = y_train_12)\r\n",
        "\r\n",
        "  #Input Dependent dummy model\r\n",
        "  history[j] = baseline_models[j].fit(x_train, y_train, batch_size = 2048, epochs = epochs, validation_data = (x_val, y_val), shuffle = True, verbose = 0)\r\n",
        "  \r\n",
        "  show_metrics(x_train, x_val, y_train, y_val, models[j])\r\n",
        "  plot_evaluation_curves(history[j], epochs, ('accuracy', 'val_accuracy'))\r\n",
        "  plot_evaluation_curves(history[j], epochs, ('precision', 'val_precision'))\r\n",
        "  plot_evaluation_curves(history[j], epochs, ('recall', 'val_recall'))\r\n",
        "  plot_evaluation_curves(history[j], epochs, ('auc', 'val_auc'))\r\n",
        "  print(\"\\n-----------------------------------------------------------------------------------------\")\r\n",
        "  gc.collect()\r\n",
        "gc.collect()\r\n"
      ],
      "execution_count": null,
      "outputs": []
    },
    {
      "cell_type": "code",
      "metadata": {
        "id": "LbCzbLxx0G0l"
      },
      "source": [
        "# Fresh Start to training with freeing up of RAM\r\n",
        "try:\r\n",
        "  del models\r\n",
        "  del history\r\n",
        "except:\r\n",
        "  print(\"Variables already freed\")\r\n",
        "gc.collect()"
      ],
      "execution_count": null,
      "outputs": []
    },
    {
      "cell_type": "markdown",
      "metadata": {
        "id": "VknutiZOyvnM"
      },
      "source": [
        "Input Independent LP 1DCNN model"
      ]
    },
    {
      "cell_type": "code",
      "metadata": {
        "id": "EyY0oAzeyv0_"
      },
      "source": [
        "models = dummy_models(sub_signals = 12, METRICS)\r\n",
        "history = [0]*32\r\n",
        "epochs = 200\r\n",
        "#range will be 32 in actual code\r\n",
        "for j in range(1):\r\n",
        "  print(f'Individual Net : {j+1}')   \r\n",
        "  #Null Data generation\r\n",
        "  x_train, x_val, y_train, y_val = train_test_split( null_data,y_train_12, test_size = 0.1, random_state = 42, shuffle = True, stratify = y_train_12)\r\n",
        "  history[j] = models[j].fit(x_train, y_train, batch_size = 2048, epochs = epochs, validation_data = (x_val, y_val), shuffle = True, verbose = 0)\r\n",
        "  \r\n",
        "  show_metrics(x_train, x_val, y_train, y_val, models[j])\r\n",
        "  plot_evaluation_curves(history[j], epochs, ('accuracy', 'val_accuracy'))\r\n",
        "  plot_evaluation_curves(history[j], epochs, ('precision', 'val_precision'))\r\n",
        "  plot_evaluation_curves(history[j], epochs, ('recall', 'val_recall'))\r\n",
        "  plot_evaluation_curves(history[j], epochs, ('auc', 'val_auc'))\r\n",
        "  print(\"\\n-----------------------------------------------------------------------------------------\")\r\n",
        "  gc.collect()\r\n",
        "gc.collect()\r\n"
      ],
      "execution_count": null,
      "outputs": []
    },
    {
      "cell_type": "code",
      "metadata": {
        "id": "ZGHFZrjx0IAk"
      },
      "source": [
        "# Fresh Start to training with freeing up of RAM\r\n",
        "try:\r\n",
        "  del models\r\n",
        "  del history\r\n",
        "except:\r\n",
        "  print(\"Variables already freed\")\r\n",
        "gc.collect()"
      ],
      "execution_count": null,
      "outputs": []
    },
    {
      "cell_type": "markdown",
      "metadata": {
        "id": "2GCYsO2gyorC"
      },
      "source": [
        "LP 1DCNN Input Dependent"
      ]
    },
    {
      "cell_type": "code",
      "metadata": {
        "id": "xKNCgkrsygYq"
      },
      "source": [
        "models = dummy_models(sub_signals = 12, METRICS)\r\n",
        "history = [0]*32\r\n",
        "epochs = 500\r\n",
        "#range will be 32 in actual code\r\n",
        "for j in range(1):\r\n",
        "  print(f'Individual Net : {j+1}')   \r\n",
        "  x_train, x_val, y_train, y_val = train_test_split( X_train_12[j],y_train_12, test_size = 0.1, random_state = 42, shuffle = True, stratify = y_train_12)\r\n",
        "  #Actual Model Training with real data\r\n",
        "  history[j] = models[j].fit(x_train, y_train, batch_size = 2048, epochs = epochs, validation_data = (x_val, y_val), shuffle = True, verbose = 0)\r\n",
        "  \r\n",
        "  show_metrics(x_train, x_val, y_train, y_val, models[j])\r\n",
        "  plot_evaluation_curves(history[j], epochs, ('accuracy', 'val_accuracy'))\r\n",
        "  plot_evaluation_curves(history[j], epochs, ('precision', 'val_precision'))\r\n",
        "  plot_evaluation_curves(history[j], epochs, ('recall', 'val_recall'))\r\n",
        "  plot_evaluation_curves(history[j], epochs, ('auc', 'val_auc'))\r\n",
        "  print(\"\\n-----------------------------------------------------------------------------------------\")\r\n",
        "  gc.collect()\r\n",
        "gc.collect()\r\n"
      ],
      "execution_count": null,
      "outputs": []
    },
    {
      "cell_type": "markdown",
      "metadata": {
        "id": "GvXQoUI55mJp"
      },
      "source": [
        "### Visualizing output of model on Training Data"
      ]
    },
    {
      "cell_type": "markdown",
      "metadata": {
        "id": "1lhSraM0ZOFt"
      },
      "source": [
        "Binary Classification Model"
      ]
    },
    {
      "cell_type": "code",
      "metadata": {
        "colab": {
          "base_uri": "https://localhost:8080/"
        },
        "id": "vmpWAP834jvH",
        "outputId": "2ab79c1e-c614-4d4b-8514-d807df1daeb5"
      },
      "source": [
        "y_train_pred = np.argmax(models[0].predict(x_train), axis =1 )\r\n",
        "y_val_pred = np.argmax(models[0].predict(x_val), axis =1 )\r\n",
        "y_train_12_pred = np.argmax(models[0].predict(X_train_12[0]), axis =1 )\r\n",
        "print(\"Shape of Predictions\", y_train_pred.shape, y_val_pred.shape, y_train_12_pred.shape)\r\n",
        "print(\"Unique Values in true labels:\")\r\n",
        "print('y_train_12\\n', np.unique(y_train_12, axis = 0))\r\n",
        "print('y_train\\n', np.unique(y_train, axis = 0))\r\n",
        "print('y_val\\n', np.unique(y_val, axis = 0))\r\n",
        "\r\n",
        "print(\"y_val\")\r\n",
        "c = Counter(np.argmax(y_val, axis = 1))\r\n",
        "total = c[0] + c[1]\r\n",
        "print(c, c[0]/total, c[1]/total)\r\n",
        "print(\"y_val_pred\")\r\n",
        "c = Counter(y_val_pred)\r\n",
        "total = c[0] + c[1]\r\n",
        "print(c, c[0]/total, c[1]/total)\r\n",
        "print(models[0].evaluate(x_val, y_val))\r\n",
        "\r\n",
        "print(\"y_train\")\r\n",
        "c = Counter(np.argmax(y_train, axis = 1))\r\n",
        "total = c[0] + c[1]\r\n",
        "print(c, c[0]/total, c[1]/total)\r\n",
        "print(\"y_train_pred\")\r\n",
        "c = Counter(y_train_pred)\r\n",
        "total = c[0] + c[1]\r\n",
        "print(c, c[0]/total, c[1]/total)\r\n",
        "print(models[0].evaluate(x_train, y_train))\r\n",
        "\r\n",
        "\r\n",
        "print(\"y_train_12\")\r\n",
        "c = Counter(np.argmax(y_train_12, axis = 1))\r\n",
        "total = c[0] + c[1]\r\n",
        "print(c, c[0]/total, c[1]/total)\r\n",
        "print(\"y_train_12_pred\")\r\n",
        "c = Counter(y_train_12_pred)\r\n",
        "total = c[0] + c[1]\r\n",
        "print(c, c[0]/total, c[1]/total)\r\n",
        "print(models[0].evaluate(X_train_12[0], y_train_12))\r\n"
      ],
      "execution_count": null,
      "outputs": [
        {
          "output_type": "stream",
          "text": [
            "Unique Values in true labels:\n",
            "y_train_12\n",
            " [[0 1]\n",
            " [1 0]]\n",
            "y_train\n",
            " [[0 1]\n",
            " [1 0]]\n",
            "y_val\n",
            " [[0 1]\n",
            " [1 0]]\n",
            "y_val\n",
            "Counter({1: 783, 0: 600}) 0.43383947939262474 0.5661605206073753\n",
            "y_train\n",
            "Counter({1: 7041, 0: 5400}) 0.4340487099107789 0.5659512900892211\n",
            "y_train_12\n",
            "Counter({1: 7824, 0: 6000}) 0.4340277777777778 0.5659722222222222\n"
          ],
          "name": "stdout"
        }
      ]
    },
    {
      "cell_type": "code",
      "metadata": {
        "id": "iiNPhHYe5q84"
      },
      "source": [
        ""
      ],
      "execution_count": null,
      "outputs": []
    },
    {
      "cell_type": "code",
      "metadata": {
        "id": "kVUQhUHS5qve"
      },
      "source": [
        ""
      ],
      "execution_count": null,
      "outputs": []
    },
    {
      "cell_type": "markdown",
      "metadata": {
        "id": "Tj3M5HbaRn-x"
      },
      "source": [
        "## Problem of Class imbalance:  \r\n",
        "The model is biased towards a class due to class imbalance and is not fitting the data. The class {3} is majority class with around 35% samples in train, test and original dataset\r\n",
        "due to stratified sampling. The model accuracy is also around 35% which clearly indicated majority voting is being done and no learning. Further we created a confusion matrix for training and validation sets which confirms this hypothesis.\r\n",
        "\r\n",
        "Solutions:\r\n",
        "1. Use class weighing in model.fit, weightI = total/Instances_I, inverse frequency or n_samples / (n_classes * np.bincount(y))\r\n",
        "2. Undersampling: `from sklearn.utils import resample  \r\n",
        "no_claim_downsampled = resample(no_claim,replace = False,n_samples = len(claim), random_state = RANDOM_SEED)`    \r\n",
        "3. Oversampling:  `claim_upsampled = resample(claim, replace=True, n_samples=len(no_claim), random_state=RANDOM_SEED)`  \r\n",
        "4. Synthetic Sample Generation with SMOTE:   \r\n",
        "` from imblearn.over_sampling import SMOTE  \r\n",
        "sm = SMOTE(random_state=RANDOM_SEED, ratio=1.0)  \r\n",
        "X_train, y_train = sm.fit_sample(X_train, y_train)`  \r\n",
        "5. Metrics: Precision is the percentage of predicted positives that were correctly classified.  \r\n",
        "Recall is the percentage of actual positives that were correctly classified.  \r\n",
        "AUC refers to the Area Under the Curve of a Receiver Operating Characteristic curve (ROC-AUC). This metric is equal to the probability that a classifier will rank a random positive sample higher than a random negative sample.  \r\n",
        "\r\n"
      ]
    },
    {
      "cell_type": "markdown",
      "metadata": {
        "id": "hDYiz9Gshkih"
      },
      "source": [
        "## Preprocessing for passing test data into CNN"
      ]
    },
    {
      "cell_type": "code",
      "metadata": {
        "id": "El4sFpkcyh24"
      },
      "source": [
        "def process_input_ensemble(instances, sub_signals):\r\n",
        "  #instances must be channel wise of shape (-1, 32, 8064)\r\n",
        "  gc.collect()\r\n",
        "  samples = int(8064/sub_signals)\r\n",
        "  transformed = []\r\n",
        "  for i in range(instances.shape[0]):\r\n",
        "    transformed.append(np.reshape(instances[i], (-1,sub_signals,samples,1)))\r\n",
        "    gc.collect()\r\n",
        "  transformed = np.array(transformed)\r\n",
        "  print(transformed.shape, 'is the shape obtained.')\r\n",
        "  gc.collect()\r\n",
        "  #output shape will be (len(intances), 32, sub_signals, samples, 1)\r\n",
        "  return transformed"
      ],
      "execution_count": null,
      "outputs": []
    },
    {
      "cell_type": "markdown",
      "metadata": {
        "id": "D_aoIKbpK1xY"
      },
      "source": [
        "## Testing Algorithm:"
      ]
    },
    {
      "cell_type": "code",
      "metadata": {
        "id": "XVqmg5fVK4cA"
      },
      "source": [
        "#loop over test instances i.e. 128\r\n",
        "  #loop over 32 channels i.e. 1 model for each channel\r\n",
        "    #for each channel, pass the shape (sub_singals,samples,1) to M(i), here sub_signals will be the batch_size\r\n",
        "    #get all predictions for a single channel's all samples, take their mode. This is the prediction for that channel\r\n",
        "    #store all the channels' predicitions in an array\r\n",
        "  #take mode for all channels' predictions from array, this is the predicted value for that instance"
      ],
      "execution_count": null,
      "outputs": []
    },
    {
      "cell_type": "code",
      "metadata": {
        "id": "Wu2211LFLhx8"
      },
      "source": [
        ""
      ],
      "execution_count": null,
      "outputs": []
    }
  ]
}