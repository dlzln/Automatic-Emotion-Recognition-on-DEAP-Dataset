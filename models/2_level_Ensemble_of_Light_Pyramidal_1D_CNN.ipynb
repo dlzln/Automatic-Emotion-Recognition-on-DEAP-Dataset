{
  "nbformat": 4,
  "nbformat_minor": 0,
  "metadata": {
    "colab": {
      "name": "2 level Ensemble of Light Pyramidal 1D CNN.ipynb",
      "provenance": [],
      "collapsed_sections": [
        "qOIKN397TkGK",
        "sePFuqjSSzzW",
        "1KwvTxntVWdO",
        "RUGKR7rKALkc"
      ],
      "toc_visible": true,
      "include_colab_link": true
    },
    "kernelspec": {
      "name": "python3",
      "display_name": "Python 3"
    },
    "accelerator": "GPU"
  },
  "cells": [
    {
      "cell_type": "markdown",
      "metadata": {
        "id": "view-in-github",
        "colab_type": "text"
      },
      "source": [
        "<a href=\"https://colab.research.google.com/github/vipulSharma18/Automatic-Emotion-Recognition-on-DEAP-Dataset/blob/main/models/2_level_Ensemble_of_Light_Pyramidal_1D_CNN.ipynb\" target=\"_parent\"><img src=\"https://colab.research.google.com/assets/colab-badge.svg\" alt=\"Open In Colab\"/></a>"
      ]
    },
    {
      "cell_type": "markdown",
      "metadata": {
        "id": "qOIKN397TkGK"
      },
      "source": [
        "# Add Google Drive"
      ]
    },
    {
      "cell_type": "code",
      "metadata": {
        "id": "jAkhHc84RFps",
        "colab": {
          "base_uri": "https://localhost:8080/"
        },
        "outputId": "b6da4894-982b-4a6d-d107-fb989334eefe"
      },
      "source": [
        "from google.colab import drive\r\n",
        "drive.mount('/content/drive')"
      ],
      "execution_count": 1,
      "outputs": [
        {
          "output_type": "stream",
          "text": [
            "Mounted at /content/drive\n"
          ],
          "name": "stdout"
        }
      ]
    },
    {
      "cell_type": "markdown",
      "metadata": {
        "id": "sePFuqjSSzzW"
      },
      "source": [
        "# Importing Relevant Libraries"
      ]
    },
    {
      "cell_type": "code",
      "metadata": {
        "id": "XKto0bShTo8Q"
      },
      "source": [
        "import pandas as pd\r\n",
        "import tensorflow as tf\r\n",
        "import numpy as np\r\n",
        "import tensorflow.keras as keras\r\n",
        "from tensorflow.keras import Sequential\r\n",
        "from tensorflow.keras.layers import Conv1D\r\n",
        "from tensorflow.keras.layers import MaxPooling1D\r\n",
        "from tensorflow.keras.layers import Flatten\r\n",
        "from tensorflow.keras.layers import Dense\r\n",
        "from tensorflow.keras.layers import Dropout\r\n",
        "from tensorflow.keras.layers import BatchNormalization\r\n",
        "from tensorflow.keras.layers import Softmax\r\n",
        "from sklearn.metrics import classification_report\r\n",
        "from keras.utils.vis_utils import plot_model\r\n",
        "from sklearn.preprocessing import StandardScaler\r\n",
        "import matplotlib.pyplot as plt\r\n",
        "import pickle\r\n",
        "from scipy.stats import zscore\r\n",
        "from sklearn.model_selection import train_test_split\r\n",
        "from sklearn import preprocessing\r\n",
        "import gc\r\n",
        "from keras.callbacks import ReduceLROnPlateau"
      ],
      "execution_count": 2,
      "outputs": []
    },
    {
      "cell_type": "code",
      "metadata": {
        "id": "s62df0ZsoV3v"
      },
      "source": [
        ""
      ],
      "execution_count": 108,
      "outputs": []
    },
    {
      "cell_type": "markdown",
      "metadata": {
        "id": "1KwvTxntVWdO"
      },
      "source": [
        "# GPU Check"
      ]
    },
    {
      "cell_type": "code",
      "metadata": {
        "colab": {
          "base_uri": "https://localhost:8080/"
        },
        "id": "v_-_kIr3VPbW",
        "outputId": "7a170e6a-535e-4a8c-fb8f-e4dd0e297c21"
      },
      "source": [
        "print(tf.version.VERSION)\r\n",
        "print(tf.config.experimental.list_physical_devices('GPU'))\r\n",
        "print(\"Num GPUs Available: \", len(tf.config.experimental.list_physical_devices('GPU')))"
      ],
      "execution_count": 3,
      "outputs": [
        {
          "output_type": "stream",
          "text": [
            "2.4.1\n",
            "[PhysicalDevice(name='/physical_device:GPU:0', device_type='GPU')]\n",
            "Num GPUs Available:  1\n"
          ],
          "name": "stdout"
        }
      ]
    },
    {
      "cell_type": "markdown",
      "metadata": {
        "id": "RUGKR7rKALkc"
      },
      "source": [
        "# Data Augmentation"
      ]
    },
    {
      "cell_type": "markdown",
      "metadata": {
        "id": "Y-zRwIXuE1Dw"
      },
      "source": [
        "## Load Data from .dat files into a np array of 1280 x 32 x 8064 size"
      ]
    },
    {
      "cell_type": "code",
      "metadata": {
        "id": "IBrvJXFLVXfY"
      },
      "source": [
        "all_sub_data = []\r\n",
        "subjects_list = ['01', '02', '03', '04', '05', '06', '07', '08', '09', '10', '11', '12', '13', '14', '15', '16', '17', '18', '19', '20', '21', '22', '23', '24', '25', '26', '27', '28', '29', '30', '31', '32']\r\n",
        "for sub in subjects_list:\r\n",
        "    path = \"/content/drive/MyDrive/major project/data_preprocessed_python/s\"+sub+\".dat\"\r\n",
        "    x = pickle.load(open(path, 'rb'), encoding = 'latin1')\r\n",
        "    sub_data = x['data']\r\n",
        "    sub_eeg = sub_data[:, :32, :]  #indexing EEG signals from physiological data\r\n",
        "    all_sub_data.extend(sub_eeg)\r\n",
        "    gc.collect()\r\n",
        "gc.collect()\r\n",
        "all_sub_data = np.array(all_sub_data)"
      ],
      "execution_count": 4,
      "outputs": []
    },
    {
      "cell_type": "code",
      "metadata": {
        "colab": {
          "base_uri": "https://localhost:8080/"
        },
        "id": "tQDfrbarAEEM",
        "outputId": "55841df1-e6dd-4849-f736-3b3dff2fa923"
      },
      "source": [
        "all_sub_data.shape"
      ],
      "execution_count": 5,
      "outputs": [
        {
          "output_type": "execute_result",
          "data": {
            "text/plain": [
              "(1280, 32, 8064)"
            ]
          },
          "metadata": {
            "tags": []
          },
          "execution_count": 5
        }
      ]
    },
    {
      "cell_type": "markdown",
      "metadata": {
        "id": "XZCzWyC3E0LE"
      },
      "source": [
        "## Z-score normalization of each EEG signal, resultant np.array is all_sub_data"
      ]
    },
    {
      "cell_type": "code",
      "metadata": {
        "id": "6k0v3c0CAa37",
        "colab": {
          "base_uri": "https://localhost:8080/"
        },
        "outputId": "72459c23-54a1-4e67-fbc2-8b9a94c15058"
      },
      "source": [
        "for sub in range(all_sub_data.shape[0]):\r\n",
        "  all_sub_data[sub] = zscore(all_sub_data[sub], axis = 1)  #zscore normalize each channel\r\n",
        "gc.collect()"
      ],
      "execution_count": 6,
      "outputs": [
        {
          "output_type": "execute_result",
          "data": {
            "text/plain": [
              "22"
            ]
          },
          "metadata": {
            "tags": []
          },
          "execution_count": 6
        }
      ]
    },
    {
      "cell_type": "markdown",
      "metadata": {
        "id": "y_iMln5YFpPm"
      },
      "source": [
        "## Label Loading into np array of 1280 x 1 named, sub_labels"
      ]
    },
    {
      "cell_type": "code",
      "metadata": {
        "colab": {
          "base_uri": "https://localhost:8080/"
        },
        "id": "gSkKkHMSExMw",
        "outputId": "55190d10-69c9-4e02-b126-5a60267b0c19"
      },
      "source": [
        "labels = pd.read_excel(\"/content/drive/MyDrive/major project/metadata/Labels.xls\")\r\n",
        "sub_labels = labels[\"Valence-Arousal Model Quadrant\"].astype('int')\r\n",
        "sub_labels\r\n",
        "gc.collect()"
      ],
      "execution_count": 7,
      "outputs": [
        {
          "output_type": "execute_result",
          "data": {
            "text/plain": [
              "3058"
            ]
          },
          "metadata": {
            "tags": []
          },
          "execution_count": 7
        }
      ]
    },
    {
      "cell_type": "markdown",
      "metadata": {
        "id": "qW2H4bC0F8i1"
      },
      "source": [
        "## One-Hot encoding of labels  \r\n",
        "> sub_labels: (1280,4)"
      ]
    },
    {
      "cell_type": "code",
      "metadata": {
        "colab": {
          "base_uri": "https://localhost:8080/"
        },
        "id": "iS2wFxlQFtrh",
        "outputId": "a39eb7f1-b797-403d-c932-ee266192c41d"
      },
      "source": [
        "lb = preprocessing.LabelBinarizer()\r\n",
        "sub_labels = lb.fit_transform(sub_labels)\r\n",
        "print(lb.classes_)\r\n",
        "print(sub_labels.shape)\r\n",
        "print(sub_labels)"
      ],
      "execution_count": 8,
      "outputs": [
        {
          "output_type": "stream",
          "text": [
            "[0 1 2 3]\n",
            "(1280, 4)\n",
            "[[0 0 0 1]\n",
            " [0 0 0 1]\n",
            " [0 0 0 1]\n",
            " ...\n",
            " [0 1 0 0]\n",
            " [0 1 0 0]\n",
            " [0 0 1 0]]\n"
          ],
          "name": "stdout"
        }
      ]
    },
    {
      "cell_type": "code",
      "metadata": {
        "colab": {
          "base_uri": "https://localhost:8080/"
        },
        "id": "Zm3vZbEbGMmd",
        "outputId": "34d9974d-2850-4b88-c5b4-dd3d042974d7"
      },
      "source": [
        "sub_labels.shape"
      ],
      "execution_count": 9,
      "outputs": [
        {
          "output_type": "execute_result",
          "data": {
            "text/plain": [
              "(1280, 4)"
            ]
          },
          "metadata": {
            "tags": []
          },
          "execution_count": 9
        }
      ]
    },
    {
      "cell_type": "code",
      "metadata": {
        "id": "2BKGgYS1GOqz",
        "colab": {
          "base_uri": "https://localhost:8080/"
        },
        "outputId": "8efe56cc-b8d6-4ce4-dc82-48ad24601117"
      },
      "source": [
        "gc.collect()"
      ],
      "execution_count": 10,
      "outputs": [
        {
          "output_type": "execute_result",
          "data": {
            "text/plain": [
              "0"
            ]
          },
          "metadata": {
            "tags": []
          },
          "execution_count": 10
        }
      ]
    },
    {
      "cell_type": "markdown",
      "metadata": {
        "id": "dMaxASVXGRtj"
      },
      "source": [
        "## Generating Train Test Splits,  \r\n",
        "> X_train, y_train: (1152,32,8064), (1152,4)  \r\n",
        "> X_test, y_test: (128,32,8064), (128,4)  "
      ]
    },
    {
      "cell_type": "code",
      "metadata": {
        "id": "5jLCp18rGVuh"
      },
      "source": [
        "X_train, X_test, y_train, y_test = train_test_split(all_sub_data, sub_labels, test_size = 0.1, random_state = 42,shuffle = True)"
      ],
      "execution_count": 11,
      "outputs": []
    },
    {
      "cell_type": "code",
      "metadata": {
        "colab": {
          "base_uri": "https://localhost:8080/"
        },
        "id": "Rzb207S6IimP",
        "outputId": "018f463b-76d8-4fcb-8c70-bdb0100721b0"
      },
      "source": [
        "X_train.shape, y_train.shape, X_test.shape, y_test.shape"
      ],
      "execution_count": 12,
      "outputs": [
        {
          "output_type": "execute_result",
          "data": {
            "text/plain": [
              "((1152, 32, 8064), (1152, 4), (128, 32, 8064), (128, 4))"
            ]
          },
          "metadata": {
            "tags": []
          },
          "execution_count": 12
        }
      ]
    },
    {
      "cell_type": "code",
      "metadata": {
        "id": "6306xrqyIoni",
        "colab": {
          "base_uri": "https://localhost:8080/"
        },
        "outputId": "06c7838a-7d64-446c-8443-b4819aa587c0"
      },
      "source": [
        "del(all_sub_data)\r\n",
        "del(sub_labels)\r\n",
        "del(labels)\r\n",
        "del(x)\r\n",
        "del(sub_data)\r\n",
        "del(sub_eeg)\r\n",
        "del(subjects_list)\r\n",
        "gc.collect()"
      ],
      "execution_count": 13,
      "outputs": [
        {
          "output_type": "execute_result",
          "data": {
            "text/plain": [
              "0"
            ]
          },
          "metadata": {
            "tags": []
          },
          "execution_count": 13
        }
      ]
    },
    {
      "cell_type": "markdown",
      "metadata": {
        "id": "MbLBgzu2hLKh"
      },
      "source": [
        "## Repetition of Labels for Windowing of training data  \r\n",
        "\r\n",
        "> y_train_12, y_train_6, y_train_4 of shapes(?,4): 13824, 6912 and 4608 respectively \r\n"
      ]
    },
    {
      "cell_type": "code",
      "metadata": {
        "colab": {
          "base_uri": "https://localhost:8080/"
        },
        "id": "0kZRCXm-d0Oj",
        "outputId": "034c9838-e837-4f3b-9eea-1b465a9c23fb"
      },
      "source": [
        "#12,6 and 4 subsignals are generated from 8064 length EEG signal, labels repeated accordingly\r\n",
        "y_train_12 = np.repeat(y_train, 12, axis = 0)\r\n",
        "y_train_6 = np.repeat(y_train, 6, axis = 0)\r\n",
        "y_train_4 = np.repeat(y_train, 4, axis = 0)\r\n",
        "del(y_train)\r\n",
        "gc.collect()\r\n",
        "print(y_train_12.shape, y_train_6.shape, y_train_4.shape)"
      ],
      "execution_count": 14,
      "outputs": [
        {
          "output_type": "stream",
          "text": [
            "(13824, 4) (6912, 4) (4608, 4)\n"
          ],
          "name": "stdout"
        }
      ]
    },
    {
      "cell_type": "markdown",
      "metadata": {
        "id": "IHs7gtIiCSzm"
      },
      "source": [
        "## Loading Training data with different window sizes"
      ]
    },
    {
      "cell_type": "code",
      "metadata": {
        "colab": {
          "base_uri": "https://localhost:8080/"
        },
        "id": "IWq2RDpQCmm7",
        "outputId": "3db9726c-e2c3-470c-c376-acc0f123409c"
      },
      "source": [
        "del(X_train)\r\n",
        "gc.collect()"
      ],
      "execution_count": 15,
      "outputs": [
        {
          "output_type": "execute_result",
          "data": {
            "text/plain": [
              "0"
            ]
          },
          "metadata": {
            "tags": []
          },
          "execution_count": 15
        }
      ]
    },
    {
      "cell_type": "markdown",
      "metadata": {
        "id": "k8JkC-thgX70"
      },
      "source": [
        "### 12 sub signals of length 672 each, total 13824 instances"
      ]
    },
    {
      "cell_type": "code",
      "metadata": {
        "colab": {
          "base_uri": "https://localhost:8080/"
        },
        "id": "jAf6zyrW2QO9",
        "outputId": "729e5985-a21b-4c07-bdf4-76a7a23f927c"
      },
      "source": [
        "X_train_12 = np.load(\"/content/drive/MyDrive/major project/data_augmentation/channel_wise_12.npy\")\r\n",
        "print(X_train_12.shape, 'Shape of Training Data')\r\n",
        "gc.collect()"
      ],
      "execution_count": 16,
      "outputs": [
        {
          "output_type": "stream",
          "text": [
            "(32, 13824, 672, 1) Shape of Training Data\n"
          ],
          "name": "stdout"
        },
        {
          "output_type": "execute_result",
          "data": {
            "text/plain": [
              "3"
            ]
          },
          "metadata": {
            "tags": []
          },
          "execution_count": 16
        }
      ]
    },
    {
      "cell_type": "markdown",
      "metadata": {
        "id": "pcQGE_1Cggo8"
      },
      "source": [
        "### 6 sub signals of length 1344 each, total 6912 instances"
      ]
    },
    {
      "cell_type": "code",
      "metadata": {
        "id": "XUCB6L7r3NCw"
      },
      "source": [
        "#X_train_6 = np.load(\"/content/drive/MyDrive/major project/data_augmentation/channel_wise_6.npy\")\r\n",
        "#print(X_train_6.shape, 'Shape of Training Data')\r\n",
        "#gc.collect()"
      ],
      "execution_count": 17,
      "outputs": []
    },
    {
      "cell_type": "markdown",
      "metadata": {
        "id": "N5MiX9c3goCv"
      },
      "source": [
        "### 4 sub signals of length 2016 each, total 4608 instances"
      ]
    },
    {
      "cell_type": "code",
      "metadata": {
        "id": "KLdrXz4Re7yQ"
      },
      "source": [
        "#X_train_4 = np.load(\"/content/drive/MyDrive/major project/data_augmentation/channel_wise_4.npy\")\r\n",
        "#print(X_train_4.shape, 'Shape of Training Data')\r\n",
        "#gc.collect()"
      ],
      "execution_count": 18,
      "outputs": []
    },
    {
      "cell_type": "code",
      "metadata": {
        "colab": {
          "base_uri": "https://localhost:8080/"
        },
        "id": "7dIg_b-_W7ZD",
        "outputId": "77a12dd1-a198-481f-ff1d-ea17bc7b2570"
      },
      "source": [
        "gc.collect()"
      ],
      "execution_count": 19,
      "outputs": [
        {
          "output_type": "execute_result",
          "data": {
            "text/plain": [
              "0"
            ]
          },
          "metadata": {
            "tags": []
          },
          "execution_count": 19
        }
      ]
    },
    {
      "cell_type": "markdown",
      "metadata": {
        "id": "r4lu2licKkgB"
      },
      "source": [
        "# Lightweight Pyramidal 1D CNN model"
      ]
    },
    {
      "cell_type": "code",
      "metadata": {
        "id": "puI2iRNDKpaW"
      },
      "source": [
        "def create_models(dense_par=20, sub_signals=12):\r\n",
        "  sample_size = int(8064/sub_signals)\r\n",
        "  models = [0]*32\r\n",
        "  for i in range(32):\r\n",
        "    models[i] = Sequential()\r\n",
        "    #block 1\r\n",
        "    models[i].add(Conv1D(filters=32, kernel_size=5,strides = 3, input_shape=(sample_size, 1)))\r\n",
        "    models[i].add(BatchNormalization())\r\n",
        "    models[i].add(tf.keras.layers.Activation('relu'))\r\n",
        "    #block 2\r\n",
        "    models[i].add(Conv1D(filters=24, kernel_size=3,strides = 2))\r\n",
        "    models[i].add(BatchNormalization())\r\n",
        "    models[i].add(tf.keras.layers.Activation('relu'))\r\n",
        "    #block 3\r\n",
        "    models[i].add(Conv1D(filters=16, kernel_size=3,strides = 2))\r\n",
        "    models[i].add(BatchNormalization())\r\n",
        "    models[i].add(tf.keras.layers.Activation('relu'))\r\n",
        "    #block 4\r\n",
        "    models[i].add(Conv1D(filters=8, kernel_size=3,strides = 2))\r\n",
        "    models[i].add(BatchNormalization())\r\n",
        "    models[i].add(tf.keras.layers.Activation('relu'))\r\n",
        "    #fc-1\r\n",
        "    models[i].add(Flatten())\r\n",
        "    models[i].add(Dense(dense_par, activation='relu'))\r\n",
        "    #dropout\r\n",
        "    models[i].add(Dropout(rate = 0.5))\r\n",
        "    #fc2 and softmax\r\n",
        "    models[i].add(Dense(4, activation = 'softmax'))\r\n",
        "    models[i].compile(optimizer= 'Adam' , loss = tf.keras.losses.CategoricalCrossentropy(), metrics= 'accuracy')\r\n",
        "    #models[i].compile(optimizer= tf.keras.optimizers.Adam(learning_rate=0.0001,beta_1=0.9,beta_2=0.999,epsilon=1e-08) , loss = tf.keras.losses.CategoricalCrossentropy(), metrics= 'accuracy')\r\n",
        "  print(\"All models defined.\")\r\n",
        "  return models"
      ],
      "execution_count": 116,
      "outputs": []
    },
    {
      "cell_type": "code",
      "metadata": {
        "id": "0dfAn7kZrqJ5"
      },
      "source": [
        "def plot_evaluation_curves(history, EPOCHS):\r\n",
        "  acc = history.history['accuracy']\r\n",
        "  val_acc = history.history['val_accuracy']\r\n",
        "\r\n",
        "  loss = history.history['loss']\r\n",
        "  val_loss = history.history['val_loss']\r\n",
        "\r\n",
        "  epochs_range = range(EPOCHS)\r\n",
        "\r\n",
        "  plt.figure(figsize=(10, 6))\r\n",
        "  plt.subplot(1, 2, 1)\r\n",
        "  plt.plot(epochs_range, acc, label='Training Accuracy')\r\n",
        "  plt.plot(epochs_range, val_acc, label='Validation Accuracy')\r\n",
        "  plt.legend(loc='lower right')\r\n",
        "  plt.title('Training and Validation Accuracy')\r\n",
        "\r\n",
        "  plt.subplot(1, 2, 2)\r\n",
        "  plt.plot(epochs_range, loss, label='Training Loss')\r\n",
        "  plt.plot(epochs_range, val_loss, label='Validation Loss')\r\n",
        "  plt.legend(loc='upper right')\r\n",
        "  plt.title('Training and Validation Loss')\r\n",
        "  plt.show()"
      ],
      "execution_count": 105,
      "outputs": []
    },
    {
      "cell_type": "code",
      "metadata": {
        "colab": {
          "base_uri": "https://localhost:8080/"
        },
        "id": "WH3xTl2w4E_c",
        "outputId": "6bcc3f11-b276-445b-9269-a548a88835de"
      },
      "source": [
        "gc.collect()"
      ],
      "execution_count": 117,
      "outputs": [
        {
          "output_type": "execute_result",
          "data": {
            "text/plain": [
              "0"
            ]
          },
          "metadata": {
            "tags": []
          },
          "execution_count": 117
        }
      ]
    },
    {
      "cell_type": "markdown",
      "metadata": {
        "id": "1wsBgSi2DXIE"
      },
      "source": [
        "## Training using 12 sub_signals per EEG signal"
      ]
    },
    {
      "cell_type": "code",
      "metadata": {
        "colab": {
          "base_uri": "https://localhost:8080/"
        },
        "id": "7sS_tgbvu3uO",
        "outputId": "f4c5d635-4c96-468b-d69a-f2b7cb58e08c"
      },
      "source": [
        "# Fresh Start to training with freeing up of RAM\r\n",
        "try:\r\n",
        "  del models\r\n",
        "  del history\r\n",
        "except:\r\n",
        "  print(\"Variables already freed\")\r\n",
        "gc.collect()"
      ],
      "execution_count": 120,
      "outputs": [
        {
          "output_type": "execute_result",
          "data": {
            "text/plain": [
              "60623"
            ]
          },
          "metadata": {
            "tags": []
          },
          "execution_count": 120
        }
      ]
    },
    {
      "cell_type": "code",
      "metadata": {
        "id": "4D6ezqeFDmPF",
        "colab": {
          "base_uri": "https://localhost:8080/",
          "height": 458
        },
        "outputId": "a3982b4b-02d5-4bcf-946e-958c27f7d1e3"
      },
      "source": [
        "models = create_models(dense_par=20, sub_signals = 12)\r\n",
        "history = [0]*32\r\n",
        "#learning_rate_reduction=ReduceLROnPlateau(monitor='val_accuracy', patience=3, verbose=0, factor=0.5, min_lr=0.00001)\r\n",
        "epochs = 600\r\n",
        "for j in range(1):\r\n",
        "  print(f'Individual Net : {j+1}')   \r\n",
        "  history[j] = models[j].fit(X_train_12[j], y_train_12, epochs = epochs, verbose = 0, validation_split=0.05) #, callbacks=[learning_rate_reduction])\r\n",
        "  print(\"CNN Model {0:d}: Epochs={1:d}, Training accuracy={2:.5f}, Validation accuracy={3:.5f}\".format(j+1,epochs,max(history[j].history['accuracy']),max(history[j].history['val_accuracy']) ))\r\n",
        "  plot_evaluation_curves(history[j], epochs)\r\n",
        "  gc.collect()\r\n",
        "gc.collect()\r\n"
      ],
      "execution_count": 121,
      "outputs": [
        {
          "output_type": "stream",
          "text": [
            "All models defined.\n",
            "Individual Net : 1\n",
            "CNN Model 1: Epochs=600, Training accuracy=0.47281, Validation accuracy=0.37428\n"
          ],
          "name": "stdout"
        },
        {
          "output_type": "display_data",
          "data": {
            "image/png": "[encoded data removed]",
            "text/plain": [
              "<Figure size 720x432 with 2 Axes>"
            ]
          },
          "metadata": {
            "tags": [],
            "needs_background": "light"
          }
        },
        {
          "output_type": "execute_result",
          "data": {
            "text/plain": [
              "0"
            ]
          },
          "metadata": {
            "tags": []
          },
          "execution_count": 121
        }
      ]
    },
    {
      "cell_type": "markdown",
      "metadata": {
        "id": "hDYiz9Gshkih"
      },
      "source": [
        "## Preprocessing for passing test data into CNN"
      ]
    },
    {
      "cell_type": "code",
      "metadata": {
        "id": "El4sFpkcyh24"
      },
      "source": [
        "def process_input_ensemble(instances, sub_signals):\r\n",
        "  #instances must be channel wise of shape (-1, 32, 8064)\r\n",
        "  gc.collect()\r\n",
        "  samples = int(8064/sub_signals)\r\n",
        "  transformed = []\r\n",
        "  for i in range(instances.shape[0]):\r\n",
        "    transformed.append(np.reshape(instances[i], (-1,sub_signals,samples,1)))\r\n",
        "    gc.collect()\r\n",
        "  transformed = np.array(transformed)\r\n",
        "  print(transformed.shape, 'is the shape obtained.')\r\n",
        "  gc.collect()\r\n",
        "  #output shape will be (len(intances), 32, sub_signals, samples, 1)\r\n",
        "  return transformed"
      ],
      "execution_count": null,
      "outputs": []
    },
    {
      "cell_type": "markdown",
      "metadata": {
        "id": "D_aoIKbpK1xY"
      },
      "source": [
        "## Testing Algorithm:"
      ]
    },
    {
      "cell_type": "code",
      "metadata": {
        "id": "XVqmg5fVK4cA"
      },
      "source": [
        "#loop over test instances i.e. 128\r\n",
        "  #loop over 32 channels i.e. 1 model for each channel\r\n",
        "    #for each channel, pass the shape (sub_singals,samples,1) to M(i), here sub_signals will be the batch_size\r\n",
        "    #get all predictions for a single channel's all samples, take their mode. This is the prediction for that channel\r\n",
        "    #store all the channels' predicitions in an array\r\n",
        "  #take mode for all channels' predictions from array, this is the predicted value for that instance"
      ],
      "execution_count": null,
      "outputs": []
    },
    {
      "cell_type": "code",
      "metadata": {
        "id": "Wu2211LFLhx8"
      },
      "source": [
        ""
      ],
      "execution_count": null,
      "outputs": []
    }
  ]
}