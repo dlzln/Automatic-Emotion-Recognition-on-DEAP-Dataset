{
  "nbformat": 4,
  "nbformat_minor": 0,
  "metadata": {
    "colab": {
      "name": "Participant Dependent LSTM on DEAP.ipynb",
      "provenance": [],
      "collapsed_sections": [
        "MJikXdCyl1HT",
        "HY1hA7Y6nhQ0"
      ],
      "authorship_tag": "ABX9TyOEZGUkllJIV17TY9wtLxCj",
      "include_colab_link": true
    },
    "kernelspec": {
      "name": "python3",
      "display_name": "Python 3"
    }
  },
  "cells": [
    {
      "cell_type": "markdown",
      "metadata": {
        "id": "view-in-github",
        "colab_type": "text"
      },
      "source": [
        "<a href=\"https://colab.research.google.com/github/vipulSharma18/Automatic-Emotion-Recognition-on-DEAP-Dataset/blob/main/models/Participant_Dependent_LSTM_on_DEAP.ipynb\" target=\"_parent\"><img src=\"https://colab.research.google.com/assets/colab-badge.svg\" alt=\"Open In Colab\"/></a>"
      ]
    },
    {
      "cell_type": "code",
      "metadata": {
        "id": "QsEFk_SV7EH6",
        "colab": {
          "base_uri": "https://localhost:8080/"
        },
        "outputId": "f00d7b66-9861-407c-dc30-0f2b843f6e89"
      },
      "source": [
        "inp_choice = input(\"Enter b for Binary, m for Multi-Class Classification: \")"
      ],
      "execution_count": 1,
      "outputs": [
        {
          "output_type": "stream",
          "text": [
            "Enter b for Binary, m for Multi-Class Classification: b\n"
          ],
          "name": "stdout"
        }
      ]
    },
    {
      "cell_type": "markdown",
      "metadata": {
        "id": "qOIKN397TkGK"
      },
      "source": [
        "# Add Google Drive"
      ]
    },
    {
      "cell_type": "code",
      "metadata": {
        "id": "jAkhHc84RFps",
        "colab": {
          "base_uri": "https://localhost:8080/"
        },
        "outputId": "9dc033f4-57df-4bf4-e483-c3c32ec0b25f"
      },
      "source": [
        "from google.colab import drive\n",
        "drive.mount('/content/drive')"
      ],
      "execution_count": 2,
      "outputs": [
        {
          "output_type": "stream",
          "text": [
            "Mounted at /content/drive\n"
          ],
          "name": "stdout"
        }
      ]
    },
    {
      "cell_type": "markdown",
      "metadata": {
        "id": "sePFuqjSSzzW"
      },
      "source": [
        "# Importing Relevant Libraries"
      ]
    },
    {
      "cell_type": "code",
      "metadata": {
        "id": "XKto0bShTo8Q",
        "colab": {
          "base_uri": "https://localhost:8080/"
        },
        "outputId": "711d1b2d-9b13-4d70-ccd3-11fa6557044c"
      },
      "source": [
        "import pandas as pd\n",
        "import tensorflow as tf\n",
        "import numpy as np\n",
        "\n",
        "import tensorflow.keras as keras\n",
        "from tensorflow.keras import Sequential\n",
        "from tensorflow.keras.layers import Conv1D\n",
        "from tensorflow.keras.layers import LSTM\n",
        "from tensorflow.keras.layers import MaxPooling1D\n",
        "from tensorflow.keras.layers import Flatten\n",
        "from tensorflow.keras.layers import Dense\n",
        "from tensorflow.keras.layers import Dropout\n",
        "from tensorflow.keras.layers import BatchNormalization\n",
        "from tensorflow.keras.layers import Softmax\n",
        "\n",
        "from sklearn import preprocessing\n",
        "from sklearn.preprocessing import StandardScaler\n",
        "from sklearn.preprocessing import MinMaxScaler, minmax_scale\n",
        "from scipy.stats import zscore\n",
        "\n",
        "from sklearn.model_selection import train_test_split\n",
        "import pickle\n",
        "import gc\n",
        "from keras.callbacks import ReduceLROnPlateau\n",
        "from collections import Counter\n",
        "import seaborn as sns\n",
        "import matplotlib.pyplot as plt\n",
        "from keras.utils.vis_utils import plot_model\n",
        "from sklearn.metrics import classification_report\n",
        "from sklearn.metrics import confusion_matrix\n",
        "\n",
        "from sklearn.utils.class_weight import compute_class_weight\n",
        "from imblearn.over_sampling import RandomOverSampler, SMOTE, ADASYN"
      ],
      "execution_count": 3,
      "outputs": [
        {
          "output_type": "stream",
          "text": [
            "/usr/local/lib/python3.7/dist-packages/sklearn/externals/six.py:31: FutureWarning: The module is deprecated in version 0.21 and will be removed in version 0.23 since we've dropped support for Python 2.7. Please rely on the official version of six (https://pypi.org/project/six/).\n",
            "  \"(https://pypi.org/project/six/).\", FutureWarning)\n",
            "/usr/local/lib/python3.7/dist-packages/sklearn/utils/deprecation.py:144: FutureWarning: The sklearn.neighbors.base module is  deprecated in version 0.22 and will be removed in version 0.24. The corresponding classes / functions should instead be imported from sklearn.neighbors. Anything that cannot be imported from sklearn.neighbors is now part of the private API.\n",
            "  warnings.warn(message, FutureWarning)\n"
          ],
          "name": "stderr"
        }
      ]
    },
    {
      "cell_type": "code",
      "metadata": {
        "id": "xYdx1wxo8A-d"
      },
      "source": [
        "%matplotlib inline"
      ],
      "execution_count": 4,
      "outputs": []
    },
    {
      "cell_type": "code",
      "metadata": {
        "id": "K99-9l0UZ2vG"
      },
      "source": [
        "RANDOM_SEED = 42\n",
        "tf.random.set_seed(RANDOM_SEED)\n",
        "np.random.seed(RANDOM_SEED)"
      ],
      "execution_count": 5,
      "outputs": []
    },
    {
      "cell_type": "markdown",
      "metadata": {
        "id": "1KwvTxntVWdO"
      },
      "source": [
        "# GPU Check"
      ]
    },
    {
      "cell_type": "code",
      "metadata": {
        "id": "v_-_kIr3VPbW",
        "colab": {
          "base_uri": "https://localhost:8080/"
        },
        "outputId": "664b475c-8e3c-4f7a-b83e-464aa0794a3c"
      },
      "source": [
        "print(tf.version.VERSION)\n",
        "print(tf.config.experimental.list_physical_devices('GPU'))\n",
        "print(\"Num GPUs Available: \", len(tf.config.experimental.list_physical_devices('GPU')))"
      ],
      "execution_count": 6,
      "outputs": [
        {
          "output_type": "stream",
          "text": [
            "2.4.1\n",
            "[]\n",
            "Num GPUs Available:  0\n"
          ],
          "name": "stdout"
        }
      ]
    },
    {
      "cell_type": "markdown",
      "metadata": {
        "id": "RUGKR7rKALkc"
      },
      "source": [
        "# Data Augmentation"
      ]
    },
    {
      "cell_type": "markdown",
      "metadata": {
        "id": "Y-zRwIXuE1Dw"
      },
      "source": [
        "## Load Data from .dat files into a np array of 32 x 40 x 32 x 8064 size"
      ]
    },
    {
      "cell_type": "code",
      "metadata": {
        "id": "P1erN5UOF-IP"
      },
      "source": [
        "all_sub_data = []\n",
        "subjects_list = ['01', '02', '03', '04', '05', '06', '07', '08', '09', '10', '11', '12', '13', '14', '15', '16', '17', '18', '19', '20', '21', '22', '23', '24', '25', '26', '27', '28', '29', '30', '31', '32']\n",
        "for sub in subjects_list:\n",
        "    path = \"/content/drive/MyDrive/major project/data_preprocessed_python/s\"+sub+\".dat\"\n",
        "    x = pickle.load(open(path, 'rb'), encoding = 'latin1')\n",
        "    sub_data = x['data']\n",
        "    sub_eeg = sub_data[:, :32, :]  #indexing EEG signals from physiological data\n",
        "    all_sub_data.append(sub_eeg)\n",
        "    gc.collect()\n",
        "gc.collect()\n",
        "all_sub_data = np.array(all_sub_data)\n"
      ],
      "execution_count": 7,
      "outputs": []
    },
    {
      "cell_type": "code",
      "metadata": {
        "colab": {
          "base_uri": "https://localhost:8080/"
        },
        "id": "OjDN692hGLRe",
        "outputId": "7790c199-3cea-434e-9685-7d0cea230eee"
      },
      "source": [
        "all_sub_data.shape\n",
        "#32 participants, 40 videos, 32 channels, 8064 EEG length"
      ],
      "execution_count": 8,
      "outputs": [
        {
          "output_type": "execute_result",
          "data": {
            "text/plain": [
              "(32, 40, 32, 8064)"
            ]
          },
          "metadata": {
            "tags": []
          },
          "execution_count": 8
        }
      ]
    },
    {
      "cell_type": "markdown",
      "metadata": {
        "id": "y_iMln5YFpPm"
      },
      "source": [
        "## Label Loading into np array of (32,40) named, sub_labels"
      ]
    },
    {
      "cell_type": "code",
      "metadata": {
        "id": "hyBCVoGi8dcy"
      },
      "source": [
        "if(inp_choice == 'm'):\n",
        "  labels = pd.read_excel(\"/content/drive/MyDrive/major project/metadata/Labels.xls\")\n",
        "  #for multiclass classification \n",
        "  sub_labels = labels[\"Valence-Arousal Model Quadrant\"].astype('int')\n",
        "  gc.collect()\n",
        "  sub_labels\n"
      ],
      "execution_count": 9,
      "outputs": []
    },
    {
      "cell_type": "code",
      "metadata": {
        "id": "gSkKkHMSExMw"
      },
      "source": [
        "if(inp_choice == 'b'):\n",
        "  labels = pd.read_excel(\"/content/drive/MyDrive/major project/metadata/Labels.xls\")\n",
        "  #for binary classification of valence scale\n",
        "  sub_labels = labels[\"Valence Label (1=H, 0=L)\"].astype('int')\n",
        "  gc.collect()\n",
        "  sub_labels\n"
      ],
      "execution_count": 10,
      "outputs": []
    },
    {
      "cell_type": "markdown",
      "metadata": {
        "id": "ZU_9uXYEKaNv"
      },
      "source": [
        "###For creating subject_wise labels"
      ]
    },
    {
      "cell_type": "code",
      "metadata": {
        "colab": {
          "base_uri": "https://localhost:8080/"
        },
        "id": "QdQbXbFEKf26",
        "outputId": "db250f20-fde9-4a7a-ec06-2efb06332e9c"
      },
      "source": [
        "temp = []\n",
        "for i in range(0,32):\n",
        "  temp.append(sub_labels[40*i:40*(i+1)])\n",
        "sub_labels = np.array(temp.copy())\n",
        "del temp\n",
        "gc.collect()\n",
        "print(sub_labels.shape)"
      ],
      "execution_count": 11,
      "outputs": [
        {
          "output_type": "stream",
          "text": [
            "(32, 40)\n"
          ],
          "name": "stdout"
        }
      ]
    },
    {
      "cell_type": "markdown",
      "metadata": {
        "id": "qW2H4bC0F8i1"
      },
      "source": [
        "## Label Binarization of multi-class labels  \n",
        "> return value:\n",
        " sub_labels: (32,40,4)  \n",
        "  The Subject wise binarized multi-class weights  \n",
        " multi_class_weights: (32,4)  \n",
        "  The subject wise mutli class weights "
      ]
    },
    {
      "cell_type": "code",
      "metadata": {
        "id": "9fhzB0RM9XmV"
      },
      "source": [
        "#computation of class weights, subject_wise\n",
        "if(inp_choice == 'm'):\n",
        "  mutli_class_weights = []\n",
        "  for i in range(32):\n",
        "    labels = sub_labels[i]\n",
        "    multi_weights = compute_class_weights(\"balanced\", classes = [0,1,2,3], y=labels)\n",
        "    print(multi_weights, 'for participant', i+1)\n",
        "    multi_class_weights.append(dict(enumerate(multi_weights)))\n",
        "  multi_class_weights = np.array(d_multi_class_weights)\n",
        "  print(multi_class_weights)"
      ],
      "execution_count": 12,
      "outputs": []
    },
    {
      "cell_type": "code",
      "metadata": {
        "id": "iS2wFxlQFtrh"
      },
      "source": [
        "if(inp_choice == 'm'):\n",
        "  temp = []\n",
        "  for i in range(32):\n",
        "    labels = sub_labels[i]\n",
        "    lb = preprocessing.LabelBinarizer()\n",
        "    labels = lb.fit_transform(labels)\n",
        "    print(lb.classes_, 'for participant', i+1)\n",
        "    temp.append(labels)\n",
        "  sub_labels = np.array(temp.copy())\n",
        "  del temp\n",
        "  gc.collect()\n",
        "  print(sub_labels.shape)\n",
        "  print(sub_labels)"
      ],
      "execution_count": 13,
      "outputs": []
    },
    {
      "cell_type": "code",
      "metadata": {
        "id": "2BKGgYS1GOqz",
        "colab": {
          "base_uri": "https://localhost:8080/"
        },
        "outputId": "05482c28-3893-40de-f465-d77e921597eb"
      },
      "source": [
        "gc.collect()"
      ],
      "execution_count": 14,
      "outputs": [
        {
          "output_type": "execute_result",
          "data": {
            "text/plain": [
              "152"
            ]
          },
          "metadata": {
            "tags": []
          },
          "execution_count": 14
        }
      ]
    },
    {
      "cell_type": "code",
      "metadata": {
        "id": "cXpIgG-QGtUN"
      },
      "source": [
        "if(inp_choice == 'm'):\n",
        "  np.unique(sub_labels[0], axis = 0)"
      ],
      "execution_count": 15,
      "outputs": []
    },
    {
      "cell_type": "markdown",
      "metadata": {
        "id": "nvc1s7V6u7KM"
      },
      "source": [
        "## Label Binarization of 2/Binary labels  \n",
        "> return_val: sub_labels: (32,40,2)  \n",
        "  bin_class_weights: (32, 2)  The binary weights for each subject's labels"
      ]
    },
    {
      "cell_type": "code",
      "metadata": {
        "id": "9784GX9zwMq0",
        "colab": {
          "base_uri": "https://localhost:8080/"
        },
        "outputId": "9c77b128-747d-4ea1-f635-0a1fb75007fb"
      },
      "source": [
        "sub_labels.shape"
      ],
      "execution_count": 16,
      "outputs": [
        {
          "output_type": "execute_result",
          "data": {
            "text/plain": [
              "(32, 40)"
            ]
          },
          "metadata": {
            "tags": []
          },
          "execution_count": 16
        }
      ]
    },
    {
      "cell_type": "code",
      "metadata": {
        "id": "pDBM9Cui8nHf",
        "colab": {
          "base_uri": "https://localhost:8080/"
        },
        "outputId": "c28bccf9-7f6c-4b31-f1cf-a04a661efc84"
      },
      "source": [
        "if(inp_choice == 'b'):\n",
        "  bin_class_weights = []\n",
        "  for i in range(32):\n",
        "    labels = sub_labels[i]\n",
        "    bin_weights = compute_class_weight(\"balanced\", classes = [0,1], y=labels)\n",
        "    print(bin_weights, 'for participant', i+1)\n",
        "    bin_class_weights.append(dict(enumerate(bin_weights)))\n",
        "  bin_class_weights = np.array(bin_class_weights)\n",
        "  print(bin_class_weights)"
      ],
      "execution_count": 17,
      "outputs": [
        {
          "output_type": "stream",
          "text": [
            "[0.95238095 1.05263158] for participant 1\n",
            "[1.33333333 0.8       ] for participant 2\n",
            "[1.11111111 0.90909091] for participant 3\n",
            "[0.83333333 1.25      ] for participant 4\n",
            "[1.25       0.83333333] for participant 5\n",
            "[2.         0.66666667] for participant 6\n",
            "[1.66666667 0.71428571] for participant 7\n",
            "[1.11111111 0.90909091] for participant 8\n",
            "[1.05263158 0.95238095] for participant 9\n",
            "[1. 1.] for participant 10\n",
            "[1.25       0.83333333] for participant 11\n",
            "[1.05263158 0.95238095] for participant 12\n",
            "[0.90909091 1.11111111] for participant 13\n",
            "[1. 1.] for participant 14\n",
            "[1. 1.] for participant 15\n",
            "[0.8        1.33333333] for participant 16\n",
            "[1.11111111 0.90909091] for participant 17\n",
            "[1.42857143 0.76923077] for participant 18\n",
            "[1.17647059 0.86956522] for participant 19\n",
            "[1.17647059 0.86956522] for participant 20\n",
            "[1.05263158 0.95238095] for participant 21\n",
            "[1. 1.] for participant 22\n",
            "[1.53846154 0.74074074] for participant 23\n",
            "[0.95238095 1.05263158] for participant 24\n",
            "[1.05263158 0.95238095] for participant 25\n",
            "[1.42857143 0.76923077] for participant 26\n",
            "[2.         0.66666667] for participant 27\n",
            "[1.33333333 0.8       ] for participant 28\n",
            "[1.17647059 0.86956522] for participant 29\n",
            "[1.53846154 0.74074074] for participant 30\n",
            "[1.42857143 0.76923077] for participant 31\n",
            "[1. 1.] for participant 32\n",
            "[{0: 0.9523809523809523, 1: 1.0526315789473684}\n",
            " {0: 1.3333333333333333, 1: 0.8}\n",
            " {0: 1.1111111111111112, 1: 0.9090909090909091}\n",
            " {0: 0.8333333333333334, 1: 1.25} {0: 1.25, 1: 0.8333333333333334}\n",
            " {0: 2.0, 1: 0.6666666666666666}\n",
            " {0: 1.6666666666666667, 1: 0.7142857142857143}\n",
            " {0: 1.1111111111111112, 1: 0.9090909090909091}\n",
            " {0: 1.0526315789473684, 1: 0.9523809523809523} {0: 1.0, 1: 1.0}\n",
            " {0: 1.25, 1: 0.8333333333333334}\n",
            " {0: 1.0526315789473684, 1: 0.9523809523809523}\n",
            " {0: 0.9090909090909091, 1: 1.1111111111111112} {0: 1.0, 1: 1.0}\n",
            " {0: 1.0, 1: 1.0} {0: 0.8, 1: 1.3333333333333333}\n",
            " {0: 1.1111111111111112, 1: 0.9090909090909091}\n",
            " {0: 1.4285714285714286, 1: 0.7692307692307693}\n",
            " {0: 1.1764705882352942, 1: 0.8695652173913043}\n",
            " {0: 1.1764705882352942, 1: 0.8695652173913043}\n",
            " {0: 1.0526315789473684, 1: 0.9523809523809523} {0: 1.0, 1: 1.0}\n",
            " {0: 1.5384615384615385, 1: 0.7407407407407407}\n",
            " {0: 0.9523809523809523, 1: 1.0526315789473684}\n",
            " {0: 1.0526315789473684, 1: 0.9523809523809523}\n",
            " {0: 1.4285714285714286, 1: 0.7692307692307693}\n",
            " {0: 2.0, 1: 0.6666666666666666} {0: 1.3333333333333333, 1: 0.8}\n",
            " {0: 1.1764705882352942, 1: 0.8695652173913043}\n",
            " {0: 1.5384615384615385, 1: 0.7407407407407407}\n",
            " {0: 1.4285714285714286, 1: 0.7692307692307693} {0: 1.0, 1: 1.0}]\n"
          ],
          "name": "stdout"
        }
      ]
    },
    {
      "cell_type": "code",
      "metadata": {
        "id": "Un8vJezHu2CR"
      },
      "source": [
        "def encode(x):\n",
        "  if(x==1):\n",
        "    return [0,1]\n",
        "  elif(x==0):\n",
        "    return [1,0]\n",
        "  else:\n",
        "    print(\"invalid value\")\n",
        "    return None"
      ],
      "execution_count": 18,
      "outputs": []
    },
    {
      "cell_type": "code",
      "metadata": {
        "id": "uJ8uaRF-q9BJ",
        "colab": {
          "base_uri": "https://localhost:8080/"
        },
        "outputId": "46ab9a62-95d1-4e4f-ee69-50dea1f70f73"
      },
      "source": [
        "if(inp_choice == 'b'):\n",
        "  sub_labels_bin = []\n",
        "  for i in range(32):\n",
        "    labels = sub_labels[i]\n",
        "    sub_labels_bin.append(np.array(list(map(encode, labels))))\n",
        "  sub_labels = np.array(sub_labels_bin.copy())\n",
        "  del sub_labels_bin\n",
        "  gc.collect()\n",
        "  print(sub_labels.shape)"
      ],
      "execution_count": 19,
      "outputs": [
        {
          "output_type": "stream",
          "text": [
            "(32, 40, 2)\n"
          ],
          "name": "stdout"
        }
      ]
    },
    {
      "cell_type": "code",
      "metadata": {
        "id": "q3ctIDjx47eA"
      },
      "source": [
        "def inv_bin(x):\n",
        "  if(x == [0,1]):\n",
        "     return 1\n",
        "  elif(x==[1,0]):\n",
        "    return 0\n"
      ],
      "execution_count": 20,
      "outputs": []
    },
    {
      "cell_type": "code",
      "metadata": {
        "id": "Rzb207S6IimP"
      },
      "source": [
        ""
      ],
      "execution_count": 20,
      "outputs": []
    },
    {
      "cell_type": "markdown",
      "metadata": {
        "id": "MbLBgzu2hLKh"
      },
      "source": [
        "## Repetition of Labels for Windowing of training data  \n",
        "\n"
      ]
    },
    {
      "cell_type": "code",
      "metadata": {
        "id": "0kZRCXm-d0Oj",
        "colab": {
          "base_uri": "https://localhost:8080/"
        },
        "outputId": "e5e8b1b9-dccf-4e57-ff20-2e7915b605f5"
      },
      "source": [
        "#12 signals of each length 672 generated from 8064 length signal\n",
        "upper_temp = []\n",
        "for i in range(32):\n",
        "  labels = np.array(sub_labels[i])\n",
        "  temp = np.repeat(labels, 12, axis = 0)\n",
        "  upper_temp.append(temp)\n",
        "sub_labels = np.array(upper_temp.copy())\n",
        "del upper_temp\n",
        "gc.collect()\n",
        "print(sub_labels.shape)\n",
        "#should be 32, 480, 2/4\n",
        "\n"
      ],
      "execution_count": 21,
      "outputs": [
        {
          "output_type": "stream",
          "text": [
            "(32, 480, 2)\n"
          ],
          "name": "stdout"
        }
      ]
    },
    {
      "cell_type": "code",
      "metadata": {
        "id": "2o3-c92KKIEw",
        "colab": {
          "base_uri": "https://localhost:8080/"
        },
        "outputId": "64406943-7310-4e5d-f05a-d7e47e5c756d"
      },
      "source": [
        "print(sub_labels[0])"
      ],
      "execution_count": 22,
      "outputs": [
        {
          "output_type": "stream",
          "text": [
            "[[0 1]\n",
            " [0 1]\n",
            " [0 1]\n",
            " [0 1]\n",
            " [0 1]\n",
            " [0 1]\n",
            " [0 1]\n",
            " [0 1]\n",
            " [0 1]\n",
            " [0 1]\n",
            " [0 1]\n",
            " [0 1]\n",
            " [0 1]\n",
            " [0 1]\n",
            " [0 1]\n",
            " [0 1]\n",
            " [0 1]\n",
            " [0 1]\n",
            " [0 1]\n",
            " [0 1]\n",
            " [0 1]\n",
            " [0 1]\n",
            " [0 1]\n",
            " [0 1]\n",
            " [0 1]\n",
            " [0 1]\n",
            " [0 1]\n",
            " [0 1]\n",
            " [0 1]\n",
            " [0 1]\n",
            " [0 1]\n",
            " [0 1]\n",
            " [0 1]\n",
            " [0 1]\n",
            " [0 1]\n",
            " [0 1]\n",
            " [1 0]\n",
            " [1 0]\n",
            " [1 0]\n",
            " [1 0]\n",
            " [1 0]\n",
            " [1 0]\n",
            " [1 0]\n",
            " [1 0]\n",
            " [1 0]\n",
            " [1 0]\n",
            " [1 0]\n",
            " [1 0]\n",
            " [0 1]\n",
            " [0 1]\n",
            " [0 1]\n",
            " [0 1]\n",
            " [0 1]\n",
            " [0 1]\n",
            " [0 1]\n",
            " [0 1]\n",
            " [0 1]\n",
            " [0 1]\n",
            " [0 1]\n",
            " [0 1]\n",
            " [0 1]\n",
            " [0 1]\n",
            " [0 1]\n",
            " [0 1]\n",
            " [0 1]\n",
            " [0 1]\n",
            " [0 1]\n",
            " [0 1]\n",
            " [0 1]\n",
            " [0 1]\n",
            " [0 1]\n",
            " [0 1]\n",
            " [0 1]\n",
            " [0 1]\n",
            " [0 1]\n",
            " [0 1]\n",
            " [0 1]\n",
            " [0 1]\n",
            " [0 1]\n",
            " [0 1]\n",
            " [0 1]\n",
            " [0 1]\n",
            " [0 1]\n",
            " [0 1]\n",
            " [0 1]\n",
            " [0 1]\n",
            " [0 1]\n",
            " [0 1]\n",
            " [0 1]\n",
            " [0 1]\n",
            " [0 1]\n",
            " [0 1]\n",
            " [0 1]\n",
            " [0 1]\n",
            " [0 1]\n",
            " [0 1]\n",
            " [1 0]\n",
            " [1 0]\n",
            " [1 0]\n",
            " [1 0]\n",
            " [1 0]\n",
            " [1 0]\n",
            " [1 0]\n",
            " [1 0]\n",
            " [1 0]\n",
            " [1 0]\n",
            " [1 0]\n",
            " [1 0]\n",
            " [1 0]\n",
            " [1 0]\n",
            " [1 0]\n",
            " [1 0]\n",
            " [1 0]\n",
            " [1 0]\n",
            " [1 0]\n",
            " [1 0]\n",
            " [1 0]\n",
            " [1 0]\n",
            " [1 0]\n",
            " [1 0]\n",
            " [1 0]\n",
            " [1 0]\n",
            " [1 0]\n",
            " [1 0]\n",
            " [1 0]\n",
            " [1 0]\n",
            " [1 0]\n",
            " [1 0]\n",
            " [1 0]\n",
            " [1 0]\n",
            " [1 0]\n",
            " [1 0]\n",
            " [1 0]\n",
            " [1 0]\n",
            " [1 0]\n",
            " [1 0]\n",
            " [1 0]\n",
            " [1 0]\n",
            " [1 0]\n",
            " [1 0]\n",
            " [1 0]\n",
            " [1 0]\n",
            " [1 0]\n",
            " [1 0]\n",
            " [1 0]\n",
            " [1 0]\n",
            " [1 0]\n",
            " [1 0]\n",
            " [1 0]\n",
            " [1 0]\n",
            " [1 0]\n",
            " [1 0]\n",
            " [1 0]\n",
            " [1 0]\n",
            " [1 0]\n",
            " [1 0]\n",
            " [1 0]\n",
            " [1 0]\n",
            " [1 0]\n",
            " [1 0]\n",
            " [1 0]\n",
            " [1 0]\n",
            " [1 0]\n",
            " [1 0]\n",
            " [1 0]\n",
            " [1 0]\n",
            " [1 0]\n",
            " [1 0]\n",
            " [1 0]\n",
            " [1 0]\n",
            " [1 0]\n",
            " [1 0]\n",
            " [1 0]\n",
            " [1 0]\n",
            " [1 0]\n",
            " [1 0]\n",
            " [1 0]\n",
            " [1 0]\n",
            " [1 0]\n",
            " [1 0]\n",
            " [0 1]\n",
            " [0 1]\n",
            " [0 1]\n",
            " [0 1]\n",
            " [0 1]\n",
            " [0 1]\n",
            " [0 1]\n",
            " [0 1]\n",
            " [0 1]\n",
            " [0 1]\n",
            " [0 1]\n",
            " [0 1]\n",
            " [1 0]\n",
            " [1 0]\n",
            " [1 0]\n",
            " [1 0]\n",
            " [1 0]\n",
            " [1 0]\n",
            " [1 0]\n",
            " [1 0]\n",
            " [1 0]\n",
            " [1 0]\n",
            " [1 0]\n",
            " [1 0]\n",
            " [0 1]\n",
            " [0 1]\n",
            " [0 1]\n",
            " [0 1]\n",
            " [0 1]\n",
            " [0 1]\n",
            " [0 1]\n",
            " [0 1]\n",
            " [0 1]\n",
            " [0 1]\n",
            " [0 1]\n",
            " [0 1]\n",
            " [0 1]\n",
            " [0 1]\n",
            " [0 1]\n",
            " [0 1]\n",
            " [0 1]\n",
            " [0 1]\n",
            " [0 1]\n",
            " [0 1]\n",
            " [0 1]\n",
            " [0 1]\n",
            " [0 1]\n",
            " [0 1]\n",
            " [0 1]\n",
            " [0 1]\n",
            " [0 1]\n",
            " [0 1]\n",
            " [0 1]\n",
            " [0 1]\n",
            " [0 1]\n",
            " [0 1]\n",
            " [0 1]\n",
            " [0 1]\n",
            " [0 1]\n",
            " [0 1]\n",
            " [0 1]\n",
            " [0 1]\n",
            " [0 1]\n",
            " [0 1]\n",
            " [0 1]\n",
            " [0 1]\n",
            " [0 1]\n",
            " [0 1]\n",
            " [0 1]\n",
            " [0 1]\n",
            " [0 1]\n",
            " [0 1]\n",
            " [0 1]\n",
            " [0 1]\n",
            " [0 1]\n",
            " [0 1]\n",
            " [0 1]\n",
            " [0 1]\n",
            " [0 1]\n",
            " [0 1]\n",
            " [0 1]\n",
            " [0 1]\n",
            " [0 1]\n",
            " [0 1]\n",
            " [0 1]\n",
            " [0 1]\n",
            " [0 1]\n",
            " [0 1]\n",
            " [0 1]\n",
            " [0 1]\n",
            " [0 1]\n",
            " [0 1]\n",
            " [0 1]\n",
            " [0 1]\n",
            " [0 1]\n",
            " [0 1]\n",
            " [0 1]\n",
            " [0 1]\n",
            " [0 1]\n",
            " [0 1]\n",
            " [0 1]\n",
            " [0 1]\n",
            " [0 1]\n",
            " [0 1]\n",
            " [0 1]\n",
            " [0 1]\n",
            " [0 1]\n",
            " [0 1]\n",
            " [0 1]\n",
            " [0 1]\n",
            " [0 1]\n",
            " [0 1]\n",
            " [0 1]\n",
            " [0 1]\n",
            " [0 1]\n",
            " [0 1]\n",
            " [0 1]\n",
            " [0 1]\n",
            " [0 1]\n",
            " [0 1]\n",
            " [0 1]\n",
            " [0 1]\n",
            " [0 1]\n",
            " [0 1]\n",
            " [0 1]\n",
            " [0 1]\n",
            " [0 1]\n",
            " [0 1]\n",
            " [0 1]\n",
            " [0 1]\n",
            " [0 1]\n",
            " [0 1]\n",
            " [0 1]\n",
            " [0 1]\n",
            " [0 1]\n",
            " [0 1]\n",
            " [0 1]\n",
            " [0 1]\n",
            " [0 1]\n",
            " [0 1]\n",
            " [0 1]\n",
            " [0 1]\n",
            " [0 1]\n",
            " [0 1]\n",
            " [1 0]\n",
            " [1 0]\n",
            " [1 0]\n",
            " [1 0]\n",
            " [1 0]\n",
            " [1 0]\n",
            " [1 0]\n",
            " [1 0]\n",
            " [1 0]\n",
            " [1 0]\n",
            " [1 0]\n",
            " [1 0]\n",
            " [1 0]\n",
            " [1 0]\n",
            " [1 0]\n",
            " [1 0]\n",
            " [1 0]\n",
            " [1 0]\n",
            " [1 0]\n",
            " [1 0]\n",
            " [1 0]\n",
            " [1 0]\n",
            " [1 0]\n",
            " [1 0]\n",
            " [1 0]\n",
            " [1 0]\n",
            " [1 0]\n",
            " [1 0]\n",
            " [1 0]\n",
            " [1 0]\n",
            " [1 0]\n",
            " [1 0]\n",
            " [1 0]\n",
            " [1 0]\n",
            " [1 0]\n",
            " [1 0]\n",
            " [1 0]\n",
            " [1 0]\n",
            " [1 0]\n",
            " [1 0]\n",
            " [1 0]\n",
            " [1 0]\n",
            " [1 0]\n",
            " [1 0]\n",
            " [1 0]\n",
            " [1 0]\n",
            " [1 0]\n",
            " [1 0]\n",
            " [1 0]\n",
            " [1 0]\n",
            " [1 0]\n",
            " [1 0]\n",
            " [1 0]\n",
            " [1 0]\n",
            " [1 0]\n",
            " [1 0]\n",
            " [1 0]\n",
            " [1 0]\n",
            " [1 0]\n",
            " [1 0]\n",
            " [1 0]\n",
            " [1 0]\n",
            " [1 0]\n",
            " [1 0]\n",
            " [1 0]\n",
            " [1 0]\n",
            " [1 0]\n",
            " [1 0]\n",
            " [1 0]\n",
            " [1 0]\n",
            " [1 0]\n",
            " [1 0]\n",
            " [1 0]\n",
            " [1 0]\n",
            " [1 0]\n",
            " [1 0]\n",
            " [1 0]\n",
            " [1 0]\n",
            " [1 0]\n",
            " [1 0]\n",
            " [1 0]\n",
            " [1 0]\n",
            " [1 0]\n",
            " [1 0]\n",
            " [1 0]\n",
            " [1 0]\n",
            " [1 0]\n",
            " [1 0]\n",
            " [1 0]\n",
            " [1 0]\n",
            " [1 0]\n",
            " [1 0]\n",
            " [1 0]\n",
            " [1 0]\n",
            " [1 0]\n",
            " [1 0]\n",
            " [1 0]\n",
            " [1 0]\n",
            " [1 0]\n",
            " [1 0]\n",
            " [1 0]\n",
            " [1 0]\n",
            " [1 0]\n",
            " [1 0]\n",
            " [1 0]\n",
            " [1 0]\n",
            " [1 0]\n",
            " [1 0]\n",
            " [1 0]\n",
            " [1 0]\n",
            " [1 0]\n",
            " [1 0]\n",
            " [1 0]\n",
            " [1 0]\n",
            " [1 0]\n",
            " [1 0]\n",
            " [1 0]\n",
            " [1 0]\n",
            " [1 0]\n",
            " [1 0]\n",
            " [1 0]\n",
            " [1 0]\n",
            " [1 0]\n",
            " [1 0]\n",
            " [1 0]\n",
            " [1 0]\n",
            " [1 0]\n",
            " [1 0]\n",
            " [1 0]\n",
            " [1 0]\n",
            " [1 0]\n",
            " [1 0]\n",
            " [1 0]\n",
            " [1 0]\n",
            " [1 0]\n",
            " [1 0]\n",
            " [1 0]\n",
            " [1 0]\n",
            " [1 0]\n",
            " [1 0]\n",
            " [1 0]\n",
            " [1 0]\n",
            " [1 0]\n",
            " [1 0]\n",
            " [0 1]\n",
            " [0 1]\n",
            " [0 1]\n",
            " [0 1]\n",
            " [0 1]\n",
            " [0 1]\n",
            " [0 1]\n",
            " [0 1]\n",
            " [0 1]\n",
            " [0 1]\n",
            " [0 1]\n",
            " [0 1]]\n"
          ],
          "name": "stdout"
        }
      ]
    },
    {
      "cell_type": "markdown",
      "metadata": {
        "id": "IHs7gtIiCSzm"
      },
      "source": [
        "## Loading Training data with different window sizes\n",
        "\n",
        "input of shape all_sub_data (32, 40, 32, 8064)"
      ]
    },
    {
      "cell_type": "code",
      "metadata": {
        "id": "_VrZ1ZprCpy8",
        "colab": {
          "base_uri": "https://localhost:8080/"
        },
        "outputId": "362f6139-0ec4-4bce-f8bb-0aacf50afaf9"
      },
      "source": [
        "temp = []\n",
        "for i in range(32):\n",
        "  sub_data = all_sub_data[i]\n",
        "  sub_temp = []\n",
        "  for vid in range(40):\n",
        "    vid_data = np.array(sub_data[vid]).T.copy()\n",
        "    assert (vid_data.shape == (8064,32)), \"The transpose didn't work\"\n",
        "    vid_data = np.vsplit(vid_data, 12)\n",
        "    sub_temp.extend(vid_data)\n",
        "  temp.append(sub_temp)\n",
        "all_sub_data = np.array(temp.copy())\n",
        "del temp\n",
        "gc.collect()\n",
        "print(all_sub_data.shape)\n",
        "#should be (32, 480, 672, 32)"
      ],
      "execution_count": 23,
      "outputs": [
        {
          "output_type": "stream",
          "text": [
            "(32, 480, 672, 32)\n"
          ],
          "name": "stdout"
        }
      ]
    },
    {
      "cell_type": "code",
      "metadata": {
        "id": "IWq2RDpQCmm7"
      },
      "source": [
        ""
      ],
      "execution_count": 23,
      "outputs": []
    },
    {
      "cell_type": "code",
      "metadata": {
        "id": "jAf6zyrW2QO9"
      },
      "source": [
        ""
      ],
      "execution_count": 23,
      "outputs": []
    },
    {
      "cell_type": "markdown",
      "metadata": {
        "id": "dMaxASVXGRtj"
      },
      "source": [
        "## Generating Train Test Splits  \n"
      ]
    },
    {
      "cell_type": "code",
      "metadata": {
        "id": "5jLCp18rGVuh",
        "colab": {
          "base_uri": "https://localhost:8080/"
        },
        "outputId": "cb9f902f-4777-47e8-a448-8517343931d5"
      },
      "source": [
        "X_train_subs, X_test_subs, y_train_subs, y_test_subs = [], [], [], []\n",
        "for i in range(32):\n",
        "  labels = sub_labels[i]\n",
        "  sub_data = all_sub_data[i]\n",
        "  X_train, X_test, y_train, y_test = train_test_split(sub_data, labels, test_size = 0.25, random_state = 42,shuffle = True, stratify = labels)\n",
        "  X_train_subs.append(X_train)\n",
        "  X_test_subs.append(X_test)\n",
        "  y_train_subs.append(y_train)\n",
        "  y_test_subs.append(y_test)\n",
        "X_train_subs, X_test_subs, y_train_subs, y_test_subs = list(map(np.array, [X_train_subs, X_test_subs, y_train_subs, y_test_subs]))\n",
        "print(X_train_subs.shape, y_train_subs.shape, X_test_subs.shape, y_test_subs.shape)\n"
      ],
      "execution_count": 24,
      "outputs": [
        {
          "output_type": "stream",
          "text": [
            "(32, 360, 672, 32) (32, 360, 2) (32, 120, 672, 32) (32, 120, 2)\n"
          ],
          "name": "stdout"
        }
      ]
    },
    {
      "cell_type": "code",
      "metadata": {
        "colab": {
          "base_uri": "https://localhost:8080/"
        },
        "id": "ATrFti0mugTP",
        "outputId": "a0b8b7d4-8c8d-483a-e5bb-3b8c8edfa76b"
      },
      "source": [
        "try:\n",
        "  del all_sub_data\n",
        "  del sub_labels\n",
        "  del labels\n",
        "  del sub_data\n",
        "  del temp\n",
        "  del vid_data\n",
        "  del x\n",
        "  del sub_eeg\n",
        "except:\n",
        "  print(\"Freed\")\n",
        "gc.collect()"
      ],
      "execution_count": 25,
      "outputs": [
        {
          "output_type": "stream",
          "text": [
            "Freed\n"
          ],
          "name": "stdout"
        },
        {
          "output_type": "execute_result",
          "data": {
            "text/plain": [
              "200"
            ]
          },
          "metadata": {
            "tags": []
          },
          "execution_count": 25
        }
      ]
    },
    {
      "cell_type": "markdown",
      "metadata": {
        "id": "r4lu2licKkgB"
      },
      "source": [
        "# Models Fitting and Evaluation"
      ]
    },
    {
      "cell_type": "markdown",
      "metadata": {
        "id": "55wVi_i3sOva"
      },
      "source": [
        "## Helper Functions for plotting, confusion matrix etc."
      ]
    },
    {
      "cell_type": "code",
      "metadata": {
        "id": "DP1Z7uSCldBE"
      },
      "source": [
        "def make_confusion_matrix(cf,\n",
        "                          group_names=None,\n",
        "                          categories='auto',\n",
        "                          count=True,\n",
        "                          percent=True,\n",
        "                          cbar=True,\n",
        "                          xyticks=True,\n",
        "                          xyplotlabels=True,\n",
        "                          sum_stats=True,\n",
        "                          figsize=None,\n",
        "                          cmap='Blues',\n",
        "                          title=None):\n",
        "    '''\n",
        "    This function will make a pretty plot of an sklearn Confusion Matrix cm using a Seaborn heatmap visualization.\n",
        "    Arguments\n",
        "    ---------\n",
        "    cf:            confusion matrix to be passed in\n",
        "    group_names:   List of strings that represent the labels row by row to be shown in each square.\n",
        "    categories:    List of strings containing the categories to be displayed on the x,y axis. Default is 'auto'\n",
        "    count:         If True, show the raw number in the confusion matrix. Default is True.\n",
        "    normalize:     If True, show the proportions for each category. Default is True.\n",
        "    cbar:          If True, show the color bar. The cbar values are based off the values in the confusion matrix.\n",
        "                   Default is True.\n",
        "    xyticks:       If True, show x and y ticks. Default is True.\n",
        "    xyplotlabels:  If True, show 'True Label' and 'Predicted Label' on the figure. Default is True.\n",
        "    sum_stats:     If True, display summary statistics below the figure. Default is True.\n",
        "    figsize:       Tuple representing the figure size. Default will be the matplotlib rcParams value.\n",
        "    cmap:          Colormap of the values displayed from matplotlib.pyplot.cm. Default is 'Blues'\n",
        "                   See http://matplotlib.org/examples/color/colormaps_reference.html\n",
        "                   \n",
        "    title:         Title for the heatmap. Default is None.\n",
        "    '''\n",
        "\n",
        "\n",
        "    # CODE TO GENERATE TEXT INSIDE EACH SQUARE\n",
        "    blanks = ['' for i in range(cf.size)]\n",
        "\n",
        "    if group_names and len(group_names)==cf.size:\n",
        "        group_labels = [\"{}\\n\".format(value) for value in group_names]\n",
        "    else:\n",
        "        group_labels = blanks\n",
        "\n",
        "    if count:\n",
        "        group_counts = [\"{0:0.0f}\\n\".format(value) for value in cf.flatten()]\n",
        "    else:\n",
        "        group_counts = blanks\n",
        "\n",
        "    if percent:\n",
        "        group_percentages = [\"{0:.2%}\".format(value) for value in cf.flatten()/np.sum(cf)]\n",
        "    else:\n",
        "        group_percentages = blanks\n",
        "\n",
        "    box_labels = [f\"{v1}{v2}{v3}\".strip() for v1, v2, v3 in zip(group_labels,group_counts,group_percentages)]\n",
        "    box_labels = np.asarray(box_labels).reshape(cf.shape[0],cf.shape[1])\n",
        "\n",
        "\n",
        "    # CODE TO GENERATE SUMMARY STATISTICS & TEXT FOR SUMMARY STATS\n",
        "    if sum_stats:\n",
        "        #Accuracy is sum of diagonal divided by total observations\n",
        "        accuracy  = np.trace(cf) / float(np.sum(cf))\n",
        "\n",
        "        #if it is a binary confusion matrix, show some more stats\n",
        "        if len(cf)==2:\n",
        "            #Metrics for Binary Confusion Matrices\n",
        "            precision = cf[1,1] / sum(cf[:,1])\n",
        "            recall    = cf[1,1] / sum(cf[1,:])\n",
        "            f1_score  = 2*precision*recall / (precision + recall)\n",
        "            stats_text = \"\\n\\nAccuracy={:0.3f}\\nPrecision={:0.3f}\\nRecall={:0.3f}\\nF1 Score={:0.3f}\".format(\n",
        "                accuracy,precision,recall,f1_score)\n",
        "        else:\n",
        "            stats_text = \"\\n\\nAccuracy={:0.3f}\".format(accuracy)\n",
        "    else:\n",
        "        stats_text = \"\"\n",
        "\n",
        "\n",
        "    # SET FIGURE PARAMETERS ACCORDING TO OTHER ARGUMENTS\n",
        "    if figsize==None:\n",
        "        #Get default figure size if not set\n",
        "        figsize = plt.rcParams.get('figure.figsize')\n",
        "\n",
        "    if xyticks==False:\n",
        "        #Do not show categories if xyticks is False\n",
        "        categories=False\n",
        "\n",
        "\n",
        "    # MAKE THE HEATMAP VISUALIZATION\n",
        "    plt.figure(figsize=figsize)\n",
        "    sns.heatmap(cf,annot=box_labels,fmt=\"\",cmap=cmap,cbar=cbar,xticklabels=categories,yticklabels=categories)\n",
        "\n",
        "    if xyplotlabels:\n",
        "        plt.ylabel('True label')\n",
        "        plt.xlabel('Predicted label' + stats_text)\n",
        "    else:\n",
        "        plt.xlabel(stats_text)\n",
        "    \n",
        "    if title:\n",
        "        plt.title(title)\n",
        "    plt.show() "
      ],
      "execution_count": 26,
      "outputs": []
    },
    {
      "cell_type": "code",
      "metadata": {
        "id": "0dfAn7kZrqJ5"
      },
      "source": [
        "def plot_evaluation_curves(history, EPOCHS, plt_mtrc):\n",
        "  epochs_range = range(EPOCHS)\n",
        "  fig, axs = plt.subplots(len(plt_mtrc), figsize = (8,28))\n",
        "  for pos,mtrc in enumerate(plt_mtrc):\n",
        "    metric = history.history[mtrc]\n",
        "    #val_metric = history.history[mtrc[1]]\n",
        "    axs[pos].plot(epochs_range, metric, label='Training ' + mtrc)\n",
        "    #axs[pos].plot(epochs_range, val_metric, label='Validation '+ mtrc[0])\n",
        "    axs[pos].legend(loc='lower right')\n",
        "    axs[pos].set_title('Training ' +  mtrc)\n",
        "  plt.show()\n"
      ],
      "execution_count": 27,
      "outputs": []
    },
    {
      "cell_type": "code",
      "metadata": {
        "id": "jGcCyM-7ngan"
      },
      "source": [
        "def show_metrics(x, y, model):\n",
        "  pred_y = model.predict(x)\n",
        "  c_pred = Counter(np.argmax(pred_y, axis = 1))\n",
        "  print(c_pred, \"Predicted Distribution:\")\n",
        "  c_true = Counter(np.argmax(y, axis = 1))\n",
        "  print(c_true, \"Actual Distribution:\")\n",
        "  print(\"Measures of Model:\",model.evaluate(x, y))\n",
        "  print(\"Classification Report of Model on Data:\")\n",
        "  print(classification_report(np.argmax(y, axis =1), np.argmax(model.predict(x), axis = 1) , digits = 4) )\n",
        "  make_confusion_matrix(confusion_matrix(np.argmax(y, axis = 1), np.argmax(model.predict(x), axis = 1)))\n",
        "  print(\"\\n------------------------------------------------------------------------------------------\\n\")\n",
        "  gc.collect()"
      ],
      "execution_count": 28,
      "outputs": []
    },
    {
      "cell_type": "markdown",
      "metadata": {
        "id": "Tb8M2JsTsT7v"
      },
      "source": [
        "## Model Architecture Function"
      ]
    },
    {
      "cell_type": "code",
      "metadata": {
        "id": "D6x9iLrFVq94"
      },
      "source": [
        "METRICS = [\n",
        "      keras.metrics.BinaryAccuracy(name='accuracy'),\n",
        "      keras.metrics.AUC(name='auc'),\n",
        "]"
      ],
      "execution_count": 29,
      "outputs": []
    },
    {
      "cell_type": "code",
      "metadata": {
        "id": "5dOUyj04Zsqq"
      },
      "source": [
        "def dummy_model(sub_signals=12, metrics = METRICS):\n",
        "  sample_size = int(8064/sub_signals)\n",
        "  model = Sequential()\n",
        "  model.add(Dense(80, activation = 'relu', input_shape = (sample_size, 32)))\n",
        "  model.add(Flatten())\n",
        "  model.add(Dense(30, activation = 'relu'))\n",
        "  try:\n",
        "    #fc2 and softmax\n",
        "    if (inp_choice == 'b'):\n",
        "      #binary classification\n",
        "      model.add(Dense(2,  activation = 'softmax'))\n",
        "      model.compile(optimizer= tf.keras.optimizers.Adam(learning_rate = 1e-4) , loss = tf.keras.losses.BinaryCrossentropy(), metrics= metrics)\n",
        "    elif (inp_choice == 'm'):\n",
        "      #mutliclass classification\n",
        "      model.add(Dense(4, activation = 'softmax'))\n",
        "      model.compile(optimizer= tf.keras.optimizers.Adam(learning_rate=1e-4) , loss = tf.keras.losses.CategoricalCrossentropy(), metrics= metrics)\n",
        "  except ValueError:\n",
        "    raise ValueError(\"ValueError exception thrown. Invalid Classfication choice, No Model was Created\")\n",
        "  print(\"Dummy Model defined.\")\n",
        "  return model"
      ],
      "execution_count": 30,
      "outputs": []
    },
    {
      "cell_type": "code",
      "metadata": {
        "id": "puI2iRNDKpaW"
      },
      "source": [
        "def create_model(sub_signals=12, metrics = METRICS):\n",
        "  n_steps = int(8064/sub_signals)\n",
        "  model = Sequential()\n",
        "  model.add(LSTM(64, activation='relu', input_shape=(n_steps,32), return_sequences=True))\n",
        "  model.add(Dropout(rate = 0.2, seed = RANDOM_SEED))\n",
        "  model.add(LSTM(32, activation='sigmoid'))\n",
        "  try:\n",
        "    #fc2 and softmax\n",
        "    if (inp_choice == 'b'):\n",
        "      #binary classification\n",
        "      model.add(Dense(2,  activation = 'softmax'))\n",
        "      model.compile(optimizer= tf.keras.optimizers.RMSprop(learning_rate=0.001), loss = tf.keras.losses.BinaryCrossentropy(), metrics= metrics)\n",
        "    elif (inp_choice == 'm'):\n",
        "      #mutliclass classification\n",
        "      model.add(Dense(4, activation = 'softmax'))\n",
        "      model.compile(optimizer= tf.keras.optimizers.RMSprop(learning_rate=0.001) , loss = tf.keras.losses.CategoricalCrossentropy(), metrics= metrics)\n",
        "  except ValueError:\n",
        "    raise ValueError(\"ValueError exception thrown. Invalid Classfication choice, No Model was Created\")\n",
        "  print(\"LSTM Model defined.\")\n",
        "  return model"
      ],
      "execution_count": 31,
      "outputs": []
    },
    {
      "cell_type": "markdown",
      "metadata": {
        "id": "1wsBgSi2DXIE"
      },
      "source": [
        "# Training"
      ]
    },
    {
      "cell_type": "markdown",
      "metadata": {
        "id": "y8otSyse0WSu"
      },
      "source": [
        "### Without Any modifications to deal with Class Imbalance (Vanilla)"
      ]
    },
    {
      "cell_type": "code",
      "metadata": {
        "id": "Rz2gXqb20nez",
        "colab": {
          "base_uri": "https://localhost:8080/"
        },
        "outputId": "81fe8d7d-0297-46cc-d7be-84d3096b7fbd"
      },
      "source": [
        "# Fresh Start to training with freeing up of RAM\n",
        "try:\n",
        "  del model\n",
        "  del history\n",
        "except:\n",
        "  print(\"Variables already freed\")\n",
        "gc.collect()"
      ],
      "execution_count": 32,
      "outputs": [
        {
          "output_type": "stream",
          "text": [
            "Variables already freed\n"
          ],
          "name": "stdout"
        },
        {
          "output_type": "execute_result",
          "data": {
            "text/plain": [
              "88"
            ]
          },
          "metadata": {
            "tags": []
          },
          "execution_count": 32
        }
      ]
    },
    {
      "cell_type": "markdown",
      "metadata": {
        "id": "H-khrP8a0ne3"
      },
      "source": [
        "Baseline Model"
      ]
    },
    {
      "cell_type": "code",
      "metadata": {
        "id": "bGqpi5xi0ne4",
        "colab": {
          "base_uri": "https://localhost:8080/",
          "height": 1000
        },
        "outputId": "febec7e1-7485-42af-ac4e-53be8f202252"
      },
      "source": [
        "models = [0]*32\n",
        "instances = int(input(\"Enter number of subjects to test for: \"))\n",
        "for sub in range(instances):\n",
        "  print(\"For subject ID \", sub+1)\n",
        "  X_train, X_test, y_train, y_test = X_train_subs[sub], X_test_subs[sub], y_train_subs[sub], y_test_subs[sub]\n",
        "  baseline_model = dummy_model(sub_signals = 12, metrics = METRICS)\n",
        "  epochs = 30   \n",
        "  history = baseline_model.fit(X_train, y_train, epochs = epochs, shuffle = True, verbose = 0)\n",
        "  print(\"Training Data: \")\n",
        "  show_metrics(X_train, y_train, baseline_model)\n",
        "  print(\"Testing Data: \")\n",
        "  show_metrics(X_test, y_test, baseline_model)\n",
        "  plot_metrics = ['accuracy', 'loss', 'auc']\n",
        "  plot_evaluation_curves(history, epochs, plot_metrics)\n",
        "  print(\"\\n===========================================================================\")\n",
        "  #baseline_model.save(\"/content/drive/MyDrive/major project/LSTM Models/Vanilla Models/bin_12_baseline\")\n",
        "  gc.collect()\n"
      ],
      "execution_count": 33,
      "outputs": [
        {
          "output_type": "stream",
          "text": [
            "Enter number of subjects to test for: 1\n",
            "For subject ID  1\n",
            "Dummy Model defined.\n",
            "Training Data: \n",
            "Counter({0: 184, 1: 176}) Predicted Distribution:\n",
            "Counter({0: 189, 1: 171}) Actual Distribution:\n",
            "12/12 [==============================] - 0s 10ms/step - loss: 0.3724 - accuracy: 0.9861 - auc: 0.9932\n",
            "Measures of Model: [0.37244537472724915, 0.9861111044883728, 0.9932098388671875]\n",
            "Classification Report of Model on Data:\n",
            "              precision    recall  f1-score   support\n",
            "\n",
            "           0     1.0000    0.9735    0.9866       189\n",
            "           1     0.9716    1.0000    0.9856       171\n",
            "\n",
            "    accuracy                         0.9861       360\n",
            "   macro avg     0.9858    0.9868    0.9861       360\n",
            "weighted avg     0.9865    0.9861    0.9861       360\n",
            "\n"
          ],
          "name": "stdout"
        },
        {
          "output_type": "display_data",
          "data": {
            "image/png": "[encoded data removed]",
            "text/plain": [
              "<Figure size 432x288 with 2 Axes>"
            ]
          },
          "metadata": {
            "tags": [],
            "needs_background": "light"
          }
        },
        {
          "output_type": "stream",
          "text": [
            "\n",
            "------------------------------------------------------------------------------------------\n",
            "\n",
            "Testing Data: \n",
            "Counter({0: 110, 1: 10}) Predicted Distribution:\n",
            "Counter({0: 63, 1: 57}) Actual Distribution:\n",
            "4/4 [==============================] - 0s 9ms/step - loss: 0.8673 - accuracy: 0.5583 - auc: 0.5584\n",
            "Measures of Model: [0.8672730326652527, 0.5583333373069763, 0.5583680272102356]\n",
            "Classification Report of Model on Data:\n",
            "              precision    recall  f1-score   support\n",
            "\n",
            "           0     0.5455    0.9524    0.6936        63\n",
            "           1     0.7000    0.1228    0.2090        57\n",
            "\n",
            "    accuracy                         0.5583       120\n",
            "   macro avg     0.6227    0.5376    0.4513       120\n",
            "weighted avg     0.6189    0.5583    0.4634       120\n",
            "\n"
          ],
          "name": "stdout"
        },
        {
          "output_type": "display_data",
          "data": {
            "image/png": "[encoded data removed]",
            "text/plain": [
              "<Figure size 432x288 with 2 Axes>"
            ]
          },
          "metadata": {
            "tags": [],
            "needs_background": "light"
          }
        },
        {
          "output_type": "stream",
          "text": [
            "\n",
            "------------------------------------------------------------------------------------------\n",
            "\n"
          ],
          "name": "stdout"
        },
        {
          "output_type": "display_data",
          "data": {
            "image/png": "[encoded data removed]",
            "text/plain": [
              "<Figure size 576x2016 with 3 Axes>"
            ]
          },
          "metadata": {
            "tags": [],
            "needs_background": "light"
          }
        },
        {
          "output_type": "stream",
          "text": [
            "\n",
            "===========================================================================\n"
          ],
          "name": "stdout"
        }
      ]
    },
    {
      "cell_type": "code",
      "metadata": {
        "id": "F4Mdf7iK0ne5",
        "colab": {
          "base_uri": "https://localhost:8080/"
        },
        "outputId": "3e785b2d-46d4-4c6d-a052-9e3877d936e1"
      },
      "source": [
        "# Fresh Start to training with freeing up of RAM\n",
        "try:\n",
        "  del model\n",
        "  del history\n",
        "except:\n",
        "  print(\"Variables already freed\")\n",
        "gc.collect()"
      ],
      "execution_count": 43,
      "outputs": [
        {
          "output_type": "execute_result",
          "data": {
            "text/plain": [
              "977"
            ]
          },
          "metadata": {
            "tags": []
          },
          "execution_count": 43
        }
      ]
    },
    {
      "cell_type": "markdown",
      "metadata": {
        "id": "wU_FJK270ne-"
      },
      "source": [
        "LSTM Model"
      ]
    },
    {
      "cell_type": "code",
      "metadata": {
        "id": "55hp8MhG0ne_",
        "colab": {
          "base_uri": "https://localhost:8080/",
          "height": 958
        },
        "outputId": "5fbfc2bf-b33f-4555-d119-3f1b7573b2eb"
      },
      "source": [
        "models = [0]*32\n",
        "instances = int(input(\"Enter number of subjects to test for: \"))\n",
        "for sub in range(instances):\n",
        "  print(\"For subject ID \", sub+1)\n",
        "  X_train, X_test, y_train, y_test = X_train_subs[sub], X_test_subs[sub], y_train_subs[sub], y_test_subs[sub]\n",
        "  model = create_model(sub_signals = 12, metrics = METRICS)\n",
        "  epochs = 30\n",
        "  history= model.fit(X_train, y_train, epochs = epochs, shuffle = True, verbose = 3)\n",
        "  print(\"Training Data: \")\n",
        "  show_metrics(X_train, y_train, model)\n",
        "  print(\"Testing Data: \")\n",
        "  show_metrics(X_test, y_test, model)\n",
        "  plot_metrics = ['accuracy', 'loss', 'auc']\n",
        "  plot_evaluation_curves(history, epochs, plot_metrics)\n",
        "  print(\"\\n===========================================================================\")\n",
        "  #model.save(\"/content/drive/MyDrive/major project/LSTM Models/Vanilla Models/bin_12_1DCNN\")\n",
        "  gc.collect()\n",
        "\n"
      ],
      "execution_count": 44,
      "outputs": [
        {
          "output_type": "stream",
          "text": [
            "Enter number of subjects to test for: 2\n",
            "For subject ID  1\n",
            "LSTM Model defined.\n",
            "Epoch 1/30\n",
            "Epoch 2/30\n",
            "Epoch 3/30\n",
            "Epoch 4/30\n",
            "Epoch 5/30\n",
            "Epoch 6/30\n",
            "Epoch 7/30\n",
            "Epoch 8/30\n",
            "Epoch 9/30\n",
            "Epoch 10/30\n",
            "Epoch 11/30\n",
            "Epoch 12/30\n",
            "Epoch 13/30\n",
            "Epoch 14/30\n",
            "Epoch 15/30\n",
            "Epoch 16/30\n",
            "Epoch 17/30\n",
            "Epoch 18/30\n",
            "Epoch 19/30\n",
            "Epoch 20/30\n",
            "Epoch 21/30\n",
            "Epoch 22/30\n",
            "Epoch 23/30\n",
            "Epoch 24/30\n",
            "Epoch 25/30\n",
            "Epoch 26/30\n",
            "Epoch 27/30\n"
          ],
          "name": "stdout"
        },
        {
          "output_type": "error",
          "ename": "InvalidArgumentError",
          "evalue": "ignored",
          "traceback": [
            "\u001b[0;31m---------------------------------------------------------------------------\u001b[0m",
            "\u001b[0;31mInvalidArgumentError\u001b[0m                      Traceback (most recent call last)",
            "\u001b[0;32m<ipython-input-44-62bb7d7d9863>\u001b[0m in \u001b[0;36m<module>\u001b[0;34m()\u001b[0m\n\u001b[1;32m      6\u001b[0m   \u001b[0mmodel\u001b[0m \u001b[0;34m=\u001b[0m \u001b[0mcreate_model\u001b[0m\u001b[0;34m(\u001b[0m\u001b[0msub_signals\u001b[0m \u001b[0;34m=\u001b[0m \u001b[0;36m12\u001b[0m\u001b[0;34m,\u001b[0m \u001b[0mmetrics\u001b[0m \u001b[0;34m=\u001b[0m \u001b[0mMETRICS\u001b[0m\u001b[0;34m)\u001b[0m\u001b[0;34m\u001b[0m\u001b[0;34m\u001b[0m\u001b[0m\n\u001b[1;32m      7\u001b[0m   \u001b[0mepochs\u001b[0m \u001b[0;34m=\u001b[0m \u001b[0;36m30\u001b[0m\u001b[0;34m\u001b[0m\u001b[0;34m\u001b[0m\u001b[0m\n\u001b[0;32m----> 8\u001b[0;31m   \u001b[0mhistory\u001b[0m\u001b[0;34m=\u001b[0m \u001b[0mmodel\u001b[0m\u001b[0;34m.\u001b[0m\u001b[0mfit\u001b[0m\u001b[0;34m(\u001b[0m\u001b[0mX_train\u001b[0m\u001b[0;34m,\u001b[0m \u001b[0my_train\u001b[0m\u001b[0;34m,\u001b[0m \u001b[0mepochs\u001b[0m \u001b[0;34m=\u001b[0m \u001b[0mepochs\u001b[0m\u001b[0;34m,\u001b[0m \u001b[0mshuffle\u001b[0m \u001b[0;34m=\u001b[0m \u001b[0;32mTrue\u001b[0m\u001b[0;34m,\u001b[0m \u001b[0mverbose\u001b[0m \u001b[0;34m=\u001b[0m \u001b[0;36m3\u001b[0m\u001b[0;34m)\u001b[0m\u001b[0;34m\u001b[0m\u001b[0;34m\u001b[0m\u001b[0m\n\u001b[0m\u001b[1;32m      9\u001b[0m   \u001b[0mprint\u001b[0m\u001b[0;34m(\u001b[0m\u001b[0;34m\"Training Data: \"\u001b[0m\u001b[0;34m)\u001b[0m\u001b[0;34m\u001b[0m\u001b[0;34m\u001b[0m\u001b[0m\n\u001b[1;32m     10\u001b[0m   \u001b[0mshow_metrics\u001b[0m\u001b[0;34m(\u001b[0m\u001b[0mX_train\u001b[0m\u001b[0;34m,\u001b[0m \u001b[0my_train\u001b[0m\u001b[0;34m,\u001b[0m \u001b[0mmodel\u001b[0m\u001b[0;34m)\u001b[0m\u001b[0;34m\u001b[0m\u001b[0;34m\u001b[0m\u001b[0m\n",
            "\u001b[0;32m/usr/local/lib/python3.7/dist-packages/tensorflow/python/keras/engine/training.py\u001b[0m in \u001b[0;36mfit\u001b[0;34m(self, x, y, batch_size, epochs, verbose, callbacks, validation_split, validation_data, shuffle, class_weight, sample_weight, initial_epoch, steps_per_epoch, validation_steps, validation_batch_size, validation_freq, max_queue_size, workers, use_multiprocessing)\u001b[0m\n\u001b[1;32m   1098\u001b[0m                 _r=1):\n\u001b[1;32m   1099\u001b[0m               \u001b[0mcallbacks\u001b[0m\u001b[0;34m.\u001b[0m\u001b[0mon_train_batch_begin\u001b[0m\u001b[0;34m(\u001b[0m\u001b[0mstep\u001b[0m\u001b[0;34m)\u001b[0m\u001b[0;34m\u001b[0m\u001b[0;34m\u001b[0m\u001b[0m\n\u001b[0;32m-> 1100\u001b[0;31m               \u001b[0mtmp_logs\u001b[0m \u001b[0;34m=\u001b[0m \u001b[0mself\u001b[0m\u001b[0;34m.\u001b[0m\u001b[0mtrain_function\u001b[0m\u001b[0;34m(\u001b[0m\u001b[0miterator\u001b[0m\u001b[0;34m)\u001b[0m\u001b[0;34m\u001b[0m\u001b[0;34m\u001b[0m\u001b[0m\n\u001b[0m\u001b[1;32m   1101\u001b[0m               \u001b[0;32mif\u001b[0m \u001b[0mdata_handler\u001b[0m\u001b[0;34m.\u001b[0m\u001b[0mshould_sync\u001b[0m\u001b[0;34m:\u001b[0m\u001b[0;34m\u001b[0m\u001b[0;34m\u001b[0m\u001b[0m\n\u001b[1;32m   1102\u001b[0m                 \u001b[0mcontext\u001b[0m\u001b[0;34m.\u001b[0m\u001b[0masync_wait\u001b[0m\u001b[0;34m(\u001b[0m\u001b[0;34m)\u001b[0m\u001b[0;34m\u001b[0m\u001b[0;34m\u001b[0m\u001b[0m\n",
            "\u001b[0;32m/usr/local/lib/python3.7/dist-packages/tensorflow/python/eager/def_function.py\u001b[0m in \u001b[0;36m__call__\u001b[0;34m(self, *args, **kwds)\u001b[0m\n\u001b[1;32m    826\u001b[0m     \u001b[0mtracing_count\u001b[0m \u001b[0;34m=\u001b[0m \u001b[0mself\u001b[0m\u001b[0;34m.\u001b[0m\u001b[0mexperimental_get_tracing_count\u001b[0m\u001b[0;34m(\u001b[0m\u001b[0;34m)\u001b[0m\u001b[0;34m\u001b[0m\u001b[0;34m\u001b[0m\u001b[0m\n\u001b[1;32m    827\u001b[0m     \u001b[0;32mwith\u001b[0m \u001b[0mtrace\u001b[0m\u001b[0;34m.\u001b[0m\u001b[0mTrace\u001b[0m\u001b[0;34m(\u001b[0m\u001b[0mself\u001b[0m\u001b[0;34m.\u001b[0m\u001b[0m_name\u001b[0m\u001b[0;34m)\u001b[0m \u001b[0;32mas\u001b[0m \u001b[0mtm\u001b[0m\u001b[0;34m:\u001b[0m\u001b[0;34m\u001b[0m\u001b[0;34m\u001b[0m\u001b[0m\n\u001b[0;32m--> 828\u001b[0;31m       \u001b[0mresult\u001b[0m \u001b[0;34m=\u001b[0m \u001b[0mself\u001b[0m\u001b[0;34m.\u001b[0m\u001b[0m_call\u001b[0m\u001b[0;34m(\u001b[0m\u001b[0;34m*\u001b[0m\u001b[0margs\u001b[0m\u001b[0;34m,\u001b[0m \u001b[0;34m**\u001b[0m\u001b[0mkwds\u001b[0m\u001b[0;34m)\u001b[0m\u001b[0;34m\u001b[0m\u001b[0;34m\u001b[0m\u001b[0m\n\u001b[0m\u001b[1;32m    829\u001b[0m       \u001b[0mcompiler\u001b[0m \u001b[0;34m=\u001b[0m \u001b[0;34m\"xla\"\u001b[0m \u001b[0;32mif\u001b[0m \u001b[0mself\u001b[0m\u001b[0;34m.\u001b[0m\u001b[0m_experimental_compile\u001b[0m \u001b[0;32melse\u001b[0m \u001b[0;34m\"nonXla\"\u001b[0m\u001b[0;34m\u001b[0m\u001b[0;34m\u001b[0m\u001b[0m\n\u001b[1;32m    830\u001b[0m       \u001b[0mnew_tracing_count\u001b[0m \u001b[0;34m=\u001b[0m \u001b[0mself\u001b[0m\u001b[0;34m.\u001b[0m\u001b[0mexperimental_get_tracing_count\u001b[0m\u001b[0;34m(\u001b[0m\u001b[0;34m)\u001b[0m\u001b[0;34m\u001b[0m\u001b[0;34m\u001b[0m\u001b[0m\n",
            "\u001b[0;32m/usr/local/lib/python3.7/dist-packages/tensorflow/python/eager/def_function.py\u001b[0m in \u001b[0;36m_call\u001b[0;34m(self, *args, **kwds)\u001b[0m\n\u001b[1;32m    853\u001b[0m       \u001b[0;31m# In this case we have created variables on the first call, so we run the\u001b[0m\u001b[0;34m\u001b[0m\u001b[0;34m\u001b[0m\u001b[0;34m\u001b[0m\u001b[0m\n\u001b[1;32m    854\u001b[0m       \u001b[0;31m# defunned version which is guaranteed to never create variables.\u001b[0m\u001b[0;34m\u001b[0m\u001b[0;34m\u001b[0m\u001b[0;34m\u001b[0m\u001b[0m\n\u001b[0;32m--> 855\u001b[0;31m       \u001b[0;32mreturn\u001b[0m \u001b[0mself\u001b[0m\u001b[0;34m.\u001b[0m\u001b[0m_stateless_fn\u001b[0m\u001b[0;34m(\u001b[0m\u001b[0;34m*\u001b[0m\u001b[0margs\u001b[0m\u001b[0;34m,\u001b[0m \u001b[0;34m**\u001b[0m\u001b[0mkwds\u001b[0m\u001b[0;34m)\u001b[0m  \u001b[0;31m# pylint: disable=not-callable\u001b[0m\u001b[0;34m\u001b[0m\u001b[0;34m\u001b[0m\u001b[0m\n\u001b[0m\u001b[1;32m    856\u001b[0m     \u001b[0;32melif\u001b[0m \u001b[0mself\u001b[0m\u001b[0;34m.\u001b[0m\u001b[0m_stateful_fn\u001b[0m \u001b[0;32mis\u001b[0m \u001b[0;32mnot\u001b[0m \u001b[0;32mNone\u001b[0m\u001b[0;34m:\u001b[0m\u001b[0;34m\u001b[0m\u001b[0;34m\u001b[0m\u001b[0m\n\u001b[1;32m    857\u001b[0m       \u001b[0;31m# Release the lock early so that multiple threads can perform the call\u001b[0m\u001b[0;34m\u001b[0m\u001b[0;34m\u001b[0m\u001b[0;34m\u001b[0m\u001b[0m\n",
            "\u001b[0;32m/usr/local/lib/python3.7/dist-packages/tensorflow/python/eager/function.py\u001b[0m in \u001b[0;36m__call__\u001b[0;34m(self, *args, **kwargs)\u001b[0m\n\u001b[1;32m   2941\u001b[0m        filtered_flat_args) = self._maybe_define_function(args, kwargs)\n\u001b[1;32m   2942\u001b[0m     return graph_function._call_flat(\n\u001b[0;32m-> 2943\u001b[0;31m         filtered_flat_args, captured_inputs=graph_function.captured_inputs)  # pylint: disable=protected-access\n\u001b[0m\u001b[1;32m   2944\u001b[0m \u001b[0;34m\u001b[0m\u001b[0m\n\u001b[1;32m   2945\u001b[0m   \u001b[0;34m@\u001b[0m\u001b[0mproperty\u001b[0m\u001b[0;34m\u001b[0m\u001b[0;34m\u001b[0m\u001b[0m\n",
            "\u001b[0;32m/usr/local/lib/python3.7/dist-packages/tensorflow/python/eager/function.py\u001b[0m in \u001b[0;36m_call_flat\u001b[0;34m(self, args, captured_inputs, cancellation_manager)\u001b[0m\n\u001b[1;32m   1917\u001b[0m       \u001b[0;31m# No tape is watching; skip to running the function.\u001b[0m\u001b[0;34m\u001b[0m\u001b[0;34m\u001b[0m\u001b[0;34m\u001b[0m\u001b[0m\n\u001b[1;32m   1918\u001b[0m       return self._build_call_outputs(self._inference_function.call(\n\u001b[0;32m-> 1919\u001b[0;31m           ctx, args, cancellation_manager=cancellation_manager))\n\u001b[0m\u001b[1;32m   1920\u001b[0m     forward_backward = self._select_forward_and_backward_functions(\n\u001b[1;32m   1921\u001b[0m         \u001b[0margs\u001b[0m\u001b[0;34m,\u001b[0m\u001b[0;34m\u001b[0m\u001b[0;34m\u001b[0m\u001b[0m\n",
            "\u001b[0;32m/usr/local/lib/python3.7/dist-packages/tensorflow/python/eager/function.py\u001b[0m in \u001b[0;36mcall\u001b[0;34m(self, ctx, args, cancellation_manager)\u001b[0m\n\u001b[1;32m    558\u001b[0m               \u001b[0minputs\u001b[0m\u001b[0;34m=\u001b[0m\u001b[0margs\u001b[0m\u001b[0;34m,\u001b[0m\u001b[0;34m\u001b[0m\u001b[0;34m\u001b[0m\u001b[0m\n\u001b[1;32m    559\u001b[0m               \u001b[0mattrs\u001b[0m\u001b[0;34m=\u001b[0m\u001b[0mattrs\u001b[0m\u001b[0;34m,\u001b[0m\u001b[0;34m\u001b[0m\u001b[0;34m\u001b[0m\u001b[0m\n\u001b[0;32m--> 560\u001b[0;31m               ctx=ctx)\n\u001b[0m\u001b[1;32m    561\u001b[0m         \u001b[0;32melse\u001b[0m\u001b[0;34m:\u001b[0m\u001b[0;34m\u001b[0m\u001b[0;34m\u001b[0m\u001b[0m\n\u001b[1;32m    562\u001b[0m           outputs = execute.execute_with_cancellation(\n",
            "\u001b[0;32m/usr/local/lib/python3.7/dist-packages/tensorflow/python/eager/execute.py\u001b[0m in \u001b[0;36mquick_execute\u001b[0;34m(op_name, num_outputs, inputs, attrs, ctx, name)\u001b[0m\n\u001b[1;32m     58\u001b[0m     \u001b[0mctx\u001b[0m\u001b[0;34m.\u001b[0m\u001b[0mensure_initialized\u001b[0m\u001b[0;34m(\u001b[0m\u001b[0;34m)\u001b[0m\u001b[0;34m\u001b[0m\u001b[0;34m\u001b[0m\u001b[0m\n\u001b[1;32m     59\u001b[0m     tensors = pywrap_tfe.TFE_Py_Execute(ctx._handle, device_name, op_name,\n\u001b[0;32m---> 60\u001b[0;31m                                         inputs, attrs, num_outputs)\n\u001b[0m\u001b[1;32m     61\u001b[0m   \u001b[0;32mexcept\u001b[0m \u001b[0mcore\u001b[0m\u001b[0;34m.\u001b[0m\u001b[0m_NotOkStatusException\u001b[0m \u001b[0;32mas\u001b[0m \u001b[0me\u001b[0m\u001b[0;34m:\u001b[0m\u001b[0;34m\u001b[0m\u001b[0;34m\u001b[0m\u001b[0m\n\u001b[1;32m     62\u001b[0m     \u001b[0;32mif\u001b[0m \u001b[0mname\u001b[0m \u001b[0;32mis\u001b[0m \u001b[0;32mnot\u001b[0m \u001b[0;32mNone\u001b[0m\u001b[0;34m:\u001b[0m\u001b[0;34m\u001b[0m\u001b[0;34m\u001b[0m\u001b[0m\n",
            "\u001b[0;31mInvalidArgumentError\u001b[0m:  assertion failed: [predictions must be >= 0] [Condition x >= y did not hold element-wise:] [x (sequential_2/dense_4/Softmax:0) = ] [[-nan -nan][-nan...]...] [y (Cast_8/x:0) = ] [0]\n\t [[{{node assert_greater_equal/Assert/AssertGuard/else/_647/assert_greater_equal/Assert/AssertGuard/Assert}}]] [Op:__inference_train_function_11173]\n\nFunction call stack:\ntrain_function\n"
          ]
        }
      ]
    },
    {
      "cell_type": "code",
      "metadata": {
        "colab": {
          "base_uri": "https://localhost:8080/"
        },
        "id": "yqbGkUAMzIka",
        "outputId": "2c004fdf-8444-45ee-9e32-40bd4e0549af"
      },
      "source": [
        "model.summary()"
      ],
      "execution_count": 42,
      "outputs": [
        {
          "output_type": "stream",
          "text": [
            "Model: \"sequential_1\"\n",
            "_________________________________________________________________\n",
            "Layer (type)                 Output Shape              Param #   \n",
            "=================================================================\n",
            "lstm (LSTM)                  (None, 672, 64)           24832     \n",
            "_________________________________________________________________\n",
            "dropout (Dropout)            (None, 672, 64)           0         \n",
            "_________________________________________________________________\n",
            "lstm_1 (LSTM)                (None, 32)                12416     \n",
            "_________________________________________________________________\n",
            "dense_3 (Dense)              (None, 2)                 66        \n",
            "=================================================================\n",
            "Total params: 37,314\n",
            "Trainable params: 37,314\n",
            "Non-trainable params: 0\n",
            "_________________________________________________________________\n"
          ],
          "name": "stdout"
        }
      ]
    },
    {
      "cell_type": "markdown",
      "metadata": {
        "id": "MJikXdCyl1HT"
      },
      "source": [
        "### With Class Weights set"
      ]
    },
    {
      "cell_type": "code",
      "metadata": {
        "id": "7sS_tgbvu3uO"
      },
      "source": [
        "# Fresh Start to training with freeing up of RAM\n",
        "try:\n",
        "  del model\n",
        "  del history\n",
        "except:\n",
        "  print(\"Variables already freed\")\n",
        "gc.collect()"
      ],
      "execution_count": null,
      "outputs": []
    },
    {
      "cell_type": "markdown",
      "metadata": {
        "id": "Gc2ghoPayl1T"
      },
      "source": [
        "Input Dependent Baseline Model"
      ]
    },
    {
      "cell_type": "code",
      "metadata": {
        "id": "dEt5X3L0ygP7"
      },
      "source": [
        "baseline_model = dummy_model(sub_signals = 12, metrics = METRICS)\n",
        "epochs = 100\n",
        "x_train, x_val, y_train, y_val = train_test_split( X_train_12 ,y_train_12, test_size = 0.1, random_state = 42, shuffle = True, stratify = y_train_12)\n",
        "\n",
        "#Input Dependent dummy model\n",
        "if(inp_choice == 'b'):\n",
        "  weights = d_bin_class_weights\n",
        "else:\n",
        "  weights = d_multi_class_weights \n",
        "history= baseline_model.fit(x_train, y_train, batch_size = 256, epochs = epochs, \\\n",
        "                                    validation_data = (x_val, y_val),  class_weight = weights, shuffle = True, verbose = 0)\n",
        "\n",
        "show_metrics(x_train, x_val, y_train, y_val, baseline_model)\n",
        "show_test_metrics(x_test_12, y_test_12, baseline_model)\n",
        "plot_metrics = [('accuracy','val_accuracy'), ('precision', 'val_precision'), ('recall', 'val_recall'), ('auc', 'val_auc'), ('loss', 'val_loss')]\n",
        "plot_evaluation_curves(history, epochs, plot_metrics)\n",
        "baseline_model.save(\"/content/drive/MyDrive/major project/LSTM Models/Model with Class Weights/bin_12_baseline\")\n",
        "gc.collect()\n",
        "\n"
      ],
      "execution_count": null,
      "outputs": []
    },
    {
      "cell_type": "code",
      "metadata": {
        "id": "LbCzbLxx0G0l"
      },
      "source": [
        "# Fresh Start to training with freeing up of RAM\n",
        "try:\n",
        "  del model\n",
        "  del history\n",
        "except:\n",
        "  print(\"Variables already freed\")\n",
        "gc.collect()"
      ],
      "execution_count": null,
      "outputs": []
    },
    {
      "cell_type": "markdown",
      "metadata": {
        "id": "VknutiZOyvnM"
      },
      "source": [
        "Input Independent LSTM model"
      ]
    },
    {
      "cell_type": "code",
      "metadata": {
        "id": "EyY0oAzeyv0_"
      },
      "source": [
        "model = create_model(sub_signals = 12, metrics = METRICS)\n",
        "epochs = 100\n",
        "if(inp_choice == 'b'):\n",
        "  weights = d_bin_class_weights\n",
        "else:\n",
        "  weights = d_multi_class_weights \n",
        "x_train, x_val, y_train, y_val = train_test_split( null_data,y_train_12, test_size = 0.1, random_state = 42, shuffle = True, stratify = y_train_12)\n",
        "history= model.fit(x_train, y_train, batch_size = 256, epochs = epochs, \\\n",
        "                            validation_data = (x_val, y_val),  class_weight = weights, shuffle = True, verbose = 0)\n",
        "\n",
        "show_metrics(x_train, x_val, y_train, y_val, model)\n",
        "show_test_metrics(x_test_12, y_test_12, model)\n",
        "plot_metrics = [('accuracy','val_accuracy'), ('precision', 'val_precision'), ('recall', 'val_recall'), ('auc', 'val_auc'), ('loss', 'val_loss')]\n",
        "plot_evaluation_curves(history, epochs, plot_metrics)\n",
        "model.save(\"/content/drive/MyDrive/major project/LSTM Models/Model with Class Weights/bin_12_null_1DCNN\")\n",
        "gc.collect()\n"
      ],
      "execution_count": null,
      "outputs": []
    },
    {
      "cell_type": "code",
      "metadata": {
        "id": "ZGHFZrjx0IAk"
      },
      "source": [
        "# Fresh Start to training with freeing up of RAM\n",
        "try:\n",
        "  del model\n",
        "  del history\n",
        "except:\n",
        "  print(\"Variables already freed\")\n",
        "gc.collect()"
      ],
      "execution_count": null,
      "outputs": []
    },
    {
      "cell_type": "markdown",
      "metadata": {
        "id": "2GCYsO2gyorC"
      },
      "source": [
        "LSTM Input Dependent"
      ]
    },
    {
      "cell_type": "code",
      "metadata": {
        "id": "xKNCgkrsygYq"
      },
      "source": [
        "model = create_model(sub_signals = 12, metrics = METRICS)\n",
        "epochs = 100\n",
        "if(inp_choice == 'b'):\n",
        "  weights = d_bin_class_weights\n",
        "else:\n",
        "  weights = d_multi_class_weights \n",
        "x_train, x_val, y_train, y_val = train_test_split( X_train_12,y_train_12, test_size = 0.1, random_state = 42, shuffle = True, stratify = y_train_12)\n",
        "history= model.fit(x_train, y_train, batch_size = 256, epochs = epochs, \\\n",
        "                            validation_data = (x_val, y_val),  class_weight = weights, shuffle = True, verbose = 0)\n",
        "\n",
        "show_metrics(x_train, x_val, y_train, y_val, model)\n",
        "show_test_metrics(x_test_12, y_test_12, model)\n",
        "plot_metrics = [('accuracy','val_accuracy'), ('precision', 'val_precision'), ('recall', 'val_recall'), ('auc', 'val_auc'), ('loss', 'val_loss')]\n",
        "plot_evaluation_curves(history, epochs, plot_metrics)\n",
        "model.save(\"/content/drive/MyDrive/major project/LSTM Models/Model with Class Weights/bin_12_1DCNN\")\n",
        "gc.collect()\n"
      ],
      "execution_count": null,
      "outputs": []
    },
    {
      "cell_type": "markdown",
      "metadata": {
        "id": "HY1hA7Y6nhQ0"
      },
      "source": [
        "### With Resampling Done using SMOTE"
      ]
    },
    {
      "cell_type": "code",
      "metadata": {
        "id": "zUkTBl25ou3o"
      },
      "source": [
        "# Fresh Start to training with freeing up of RAM\n",
        "try:\n",
        "  del model\n",
        "  del history\n",
        "except:\n",
        "  print(\"Variables already freed\")\n",
        "gc.collect()"
      ],
      "execution_count": null,
      "outputs": []
    },
    {
      "cell_type": "markdown",
      "metadata": {
        "id": "JGMAWIQ_ou3x"
      },
      "source": [
        "Input Dependent Baseline Model"
      ]
    },
    {
      "cell_type": "code",
      "metadata": {
        "id": "Su3txYXyou3x"
      },
      "source": [
        "baseline_model = dummy_model(sub_signals = 12, metrics = METRICS)\n",
        "epochs = 100\n",
        "x_train, x_val, y_train, y_val = train_test_split( X_train_12,y_train_12, test_size = 0.1, random_state = 42, shuffle = True, stratify = y_train_12)\n",
        "#reshaping for smote\n",
        "x_train = x_train.reshape((x_train.shape[0], x_train.shape[1]))\n",
        "y_train = np.argmax(y_train, axis = 1)\n",
        "x_train, y_train = SMOTE(random_state=RANDOM_SEED).fit_resample(x_train,y_train)\n",
        "print(\"Resampled Using SMOTE.\")\n",
        "y_train = np.array(list(map(encode, y_train)))\n",
        "x_train = x_train.reshape((x_train.shape[0], x_train.shape[1], 1))\n",
        "#Input Dependent dummy model\n",
        "history = baseline_model.fit(x_train, y_train, batch_size = 256, epochs = epochs, \\\n",
        "                                    validation_data = (x_val, y_val), shuffle = True, verbose = 0)\n",
        "show_metrics(x_train, x_val, y_train, y_val, baseline_model)\n",
        "show_test_metrics(x_test_12, y_test_12, baseline_model)\n",
        "plot_metrics = [('accuracy','val_accuracy'), ('precision', 'val_precision'), ('recall', 'val_recall'), ('auc', 'val_auc'), ('loss', 'val_loss')]\n",
        "plot_evaluation_curves(history, epochs, plot_metrics)\n",
        "baseline_model.save(\"/content/drive/MyDrive/major project/LSTM Models/Model with SMOTE/bin_12_baseline\")\n",
        "gc.collect()\n"
      ],
      "execution_count": null,
      "outputs": []
    },
    {
      "cell_type": "code",
      "metadata": {
        "id": "G1iMMgR2sSVY"
      },
      "source": [
        "# Fresh Start to training with freeing up of RAM\n",
        "try:\n",
        "  del model\n",
        "  del history\n",
        "except:\n",
        "  print(\"Variables already freed\")\n",
        "gc.collect()"
      ],
      "execution_count": null,
      "outputs": []
    },
    {
      "cell_type": "markdown",
      "metadata": {
        "id": "v_ZXQ17psSVZ"
      },
      "source": [
        "Input Independent LSTM model"
      ]
    },
    {
      "cell_type": "code",
      "metadata": {
        "id": "ZkFXq14_sSVZ"
      },
      "source": [
        "model = create_model( sub_signals = 12, metrics = METRICS)\n",
        "epochs = 100\n",
        "\n",
        "#Null Data generation\n",
        "x_train, x_val, y_train, y_val = train_test_split( null_data,y_train_12, test_size = 0.1, random_state = 42, shuffle = True, stratify = y_train_12)\n",
        "x_train = x_train.reshape((x_train.shape[0], x_train.shape[1]))\n",
        "y_train = np.argmax(y_train, axis = 1)\n",
        "x_train, y_train = SMOTE(random_state=RANDOM_SEED).fit_resample(x_train,y_train)\n",
        "print(\"Resampled Using SMOTE.\")\n",
        "y_train = np.array(list(map(encode, y_train)))\n",
        "x_train = x_train.reshape((x_train.shape[0], x_train.shape[1], 1))\n",
        "\n",
        "history= model.fit(x_train, y_train, batch_size = 256, epochs = epochs, \\\n",
        "                             validation_data = (x_val, y_val), shuffle = True, verbose = 0)\n",
        "  \n",
        "show_metrics(x_train, x_val, y_train, y_val, model)\n",
        "show_test_metrics(x_test_12, y_test_12, model)\n",
        "plot_metrics = [('accuracy','val_accuracy'), ('precision', 'val_precision'), ('recall', 'val_recall'), ('auc', 'val_auc'), ('loss', 'val_loss')]\n",
        "plot_evaluation_curves(history, epochs, plot_metrics)\n",
        "model.save(\"/content/drive/MyDrive/major project/LSTM Models/Model with SMOTE/bin_12_null_1DCNN\")\n",
        "gc.collect()\n"
      ],
      "execution_count": null,
      "outputs": []
    },
    {
      "cell_type": "code",
      "metadata": {
        "id": "8fliejknsSVZ"
      },
      "source": [
        "# Fresh Start to training with freeing up of RAM\n",
        "try:\n",
        "  del model\n",
        "  del history\n",
        "except:\n",
        "  print(\"Variables already freed\")\n",
        "gc.collect()"
      ],
      "execution_count": null,
      "outputs": []
    },
    {
      "cell_type": "markdown",
      "metadata": {
        "id": "G2Q0BiEasSVa"
      },
      "source": [
        "LSTM Input Dependent"
      ]
    },
    {
      "cell_type": "code",
      "metadata": {
        "id": "_VY8fqupsSVa"
      },
      "source": [
        "model = create_model( sub_signals = 12, metrics = METRICS)\n",
        "epochs = 100\n",
        "x_train, x_val, y_train, y_val = train_test_split( X_train_12,y_train_12, test_size = 0.1, random_state = 42, shuffle = True, stratify = y_train_12)\n",
        "x_train = x_train.reshape((x_train.shape[0], x_train.shape[1]))\n",
        "y_train = np.argmax(y_train, axis = 1)\n",
        "x_train, y_train = SMOTE(random_state=RANDOM_SEED).fit_resample(x_train,y_train)\n",
        "print(\"Resampled Using SMOTE.\")\n",
        "y_train = np.array(list(map(encode, y_train)))\n",
        "x_train = x_train.reshape((x_train.shape[0], x_train.shape[1], 1))\n",
        "#Actual Model Training with real data\n",
        "history = model.fit(x_train, y_train, batch_size = 256, \\\n",
        "                            epochs = epochs, validation_data = (x_val, y_val), shuffle = True, verbose = 0)\n",
        "show_metrics(x_train, x_val, y_train, y_val, model)\n",
        "show_test_metrics(x_test_12, y_test_12, model)\n",
        "plot_metrics = [('accuracy','val_accuracy'), ('precision', 'val_precision'), ('recall', 'val_recall'), ('auc', 'val_auc'), ('loss', 'val_loss')]\n",
        "plot_evaluation_curves(history, epochs, plot_metrics)\n",
        "model.save(\"/content/drive/MyDrive/major project/LSTM Models/Model with SMOTE/bin_12_1DCNN\")\n",
        "gc.collect()\n",
        "\n"
      ],
      "execution_count": null,
      "outputs": []
    }
  ]
}